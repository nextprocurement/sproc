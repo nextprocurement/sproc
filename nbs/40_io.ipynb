{
 "cells": [
  {
   "cell_type": "code",
   "execution_count": null,
   "id": "7b233ca6-6157-46d1-b230-086568ec6427",
   "metadata": {},
   "outputs": [],
   "source": [
    "#| default_exp io"
   ]
  },
  {
   "cell_type": "markdown",
   "id": "7b53a524-5347-46de-b965-f857cc91a393",
   "metadata": {},
   "source": [
    "# io\n",
    "\n",
    "> Saving/loading data"
   ]
  },
  {
   "cell_type": "markdown",
   "id": "28b99de6-453a-493f-b64b-09be3bed4f58",
   "metadata": {},
   "source": [
    "Directory where the data (*XML* files) are stored"
   ]
  },
  {
   "cell_type": "code",
   "execution_count": null,
   "id": "fa9d12b2-c630-40c4-926b-d2e83a0a8dc9",
   "metadata": {},
   "outputs": [],
   "source": [
    "#| export\n",
    "import pathlib\n",
    "from typing import Any\n",
    "\n",
    "import pandas as pd\n",
    "import numpy as np\n",
    "\n",
    "import sproc.xml\n",
    "import sproc.structure\n",
    "\n",
    "import fastcore.foundation"
   ]
  },
  {
   "cell_type": "code",
   "execution_count": null,
   "id": "00682f2d-6641-4618-ac1b-ddcdfd988039",
   "metadata": {},
   "outputs": [
    {
     "data": {
      "text/plain": [
       "PosixPath('/home/manu/Sync/UC3M/proyectos/2022/nextProcurement/sproc/samples')"
      ]
     },
     "execution_count": null,
     "metadata": {},
     "output_type": "execute_result"
    }
   ],
   "source": [
    "directory = pathlib.Path.cwd().parent / 'samples'\n",
    "assert directory.exists()\n",
    "directory"
   ]
  },
  {
   "cell_type": "markdown",
   "id": "87e0ab46-cad5-4e0f-af67-fa2a1ecada64",
   "metadata": {},
   "source": [
    "A (sample) file in that directory"
   ]
  },
  {
   "cell_type": "code",
   "execution_count": null,
   "id": "a37e129f-21e3-4d61-837d-e33231afbe2a",
   "metadata": {},
   "outputs": [
    {
     "data": {
      "text/plain": [
       "PosixPath('/home/manu/Sync/UC3M/proyectos/2022/nextProcurement/sproc/samples/PlataformasAgregadasSinMenores_20220104_030016_1.atom')"
      ]
     },
     "execution_count": null,
     "metadata": {},
     "output_type": "execute_result"
    }
   ],
   "source": [
    "xml_file = directory / 'PlataformasAgregadasSinMenores_20220104_030016_1.atom'\n",
    "assert xml_file.exists()\n",
    "xml_file"
   ]
  },
  {
   "cell_type": "code",
   "execution_count": null,
   "id": "5cb45e88-3e37-48ca-95fe-f3880956c933",
   "metadata": {},
   "outputs": [
    {
     "data": {
      "text/html": [
       "<div>\n",
       "<style scoped>\n",
       "    .dataframe tbody tr th:only-of-type {\n",
       "        vertical-align: middle;\n",
       "    }\n",
       "\n",
       "    .dataframe tbody tr th {\n",
       "        vertical-align: top;\n",
       "    }\n",
       "\n",
       "    .dataframe thead th {\n",
       "        text-align: right;\n",
       "    }\n",
       "</style>\n",
       "<table border=\"1\" class=\"dataframe\">\n",
       "  <thead>\n",
       "    <tr style=\"text-align: right;\">\n",
       "      <th></th>\n",
       "      <th>id</th>\n",
       "      <th>summary</th>\n",
       "      <th>title</th>\n",
       "      <th>updated</th>\n",
       "      <th>ContractFolderStatus - ContractFolderID</th>\n",
       "      <th>ContractFolderStatus - ContractFolderStatusCode</th>\n",
       "      <th>ContractFolderStatus - LocatedContractingParty - BuyerProfileURIID</th>\n",
       "      <th>ContractFolderStatus - LocatedContractingParty - Party - PartyName - Name</th>\n",
       "      <th>ContractFolderStatus - LocatedContractingParty - ParentLocatedParty - PartyName - Name</th>\n",
       "      <th>ContractFolderStatus - ProcurementProject - Name</th>\n",
       "      <th>...</th>\n",
       "      <th>ContractFolderStatus - LegalDocumentReference - Attachment - ExternalReference - URI</th>\n",
       "      <th>ContractFolderStatus - TechnicalDocumentReference - ID</th>\n",
       "      <th>ContractFolderStatus - TechnicalDocumentReference - Attachment - ExternalReference - URI</th>\n",
       "      <th>ContractFolderStatus - ProcurementProject - PlannedPeriod - StartDate</th>\n",
       "      <th>ContractFolderStatus - ProcurementProject - PlannedPeriod - EndDate</th>\n",
       "      <th>ContractFolderStatus - LocatedContractingParty - Party - PartyIdentification - ID</th>\n",
       "      <th>ContractFolderStatus - LocatedContractingParty - ParentLocatedParty - ParentLocatedParty - PartyName - Name</th>\n",
       "      <th>ContractFolderStatus - TenderingProcess - ParticipationRequestReceptionPeriod - EndDate</th>\n",
       "      <th>ContractFolderStatus - TenderingProcess - ParticipationRequestReceptionPeriod - EndTime</th>\n",
       "      <th>ContractFolderStatus - TenderResult - AwardedTenderedProject - ProcurementProjectLotID</th>\n",
       "    </tr>\n",
       "  </thead>\n",
       "  <tbody>\n",
       "    <tr>\n",
       "      <th>0</th>\n",
       "      <td>https://contrataciondelestado.es/sindicacion/P...</td>\n",
       "      <td>Id licitación: C. 2-2021; Órgano de Contrataci...</td>\n",
       "      <td>L'objecte del contracte és la renovació de tot...</td>\n",
       "      <td>2022-01-03T01:11:41.826+01:00</td>\n",
       "      <td>C. 2-2021</td>\n",
       "      <td>ADJ</td>\n",
       "      <td>https://contractaciopublica.gencat.cat/ecofin_...</td>\n",
       "      <td>Ajuntament de Sant Ramon</td>\n",
       "      <td>Entitats municipals de Catalunya</td>\n",
       "      <td>L'objecte del contracte és la renovació de tot...</td>\n",
       "      <td>...</td>\n",
       "      <td>NaN</td>\n",
       "      <td>NaN</td>\n",
       "      <td>NaN</td>\n",
       "      <td>NaN</td>\n",
       "      <td>NaN</td>\n",
       "      <td>NaN</td>\n",
       "      <td>NaN</td>\n",
       "      <td>NaN</td>\n",
       "      <td>NaN</td>\n",
       "      <td>NaN</td>\n",
       "    </tr>\n",
       "    <tr>\n",
       "      <th>1</th>\n",
       "      <td>https://contrataciondelestado.es/sindicacion/P...</td>\n",
       "      <td>Id licitación: 8128_3/2021; Órgano de Contrata...</td>\n",
       "      <td>Obras de restauración hidromorfológica del río...</td>\n",
       "      <td>2022-01-03T01:00:11.194+01:00</td>\n",
       "      <td>8128_3/2021</td>\n",
       "      <td>PUB</td>\n",
       "      <td>NaN</td>\n",
       "      <td>Pleno del Ayuntamiento</td>\n",
       "      <td>AYUNTAMIENTO DE MONREAL</td>\n",
       "      <td>Obras de restauración hidromorfológica del río...</td>\n",
       "      <td>...</td>\n",
       "      <td>NaN</td>\n",
       "      <td>NaN</td>\n",
       "      <td>NaN</td>\n",
       "      <td>NaN</td>\n",
       "      <td>NaN</td>\n",
       "      <td>NaN</td>\n",
       "      <td>NaN</td>\n",
       "      <td>NaN</td>\n",
       "      <td>NaN</td>\n",
       "      <td>NaN</td>\n",
       "    </tr>\n",
       "    <tr>\n",
       "      <th>2</th>\n",
       "      <td>https://contrataciondelestado.es/sindicacion/P...</td>\n",
       "      <td>Id licitación: 1000_0005-CP01-2021-000063; Órg...</td>\n",
       "      <td>Contrato del servicio de realización de labore...</td>\n",
       "      <td>2022-01-03T01:00:10.399+01:00</td>\n",
       "      <td>1000_0005-CP01-2021-000063</td>\n",
       "      <td>EV</td>\n",
       "      <td>NaN</td>\n",
       "      <td>El Director General de Comunicación y Relacion...</td>\n",
       "      <td>Departamento de Presidencia, Igualdad, Función...</td>\n",
       "      <td>Contrato del servicio de realización de labore...</td>\n",
       "      <td>...</td>\n",
       "      <td>NaN</td>\n",
       "      <td>NaN</td>\n",
       "      <td>NaN</td>\n",
       "      <td>NaN</td>\n",
       "      <td>NaN</td>\n",
       "      <td>NaN</td>\n",
       "      <td>NaN</td>\n",
       "      <td>NaN</td>\n",
       "      <td>NaN</td>\n",
       "      <td>NaN</td>\n",
       "    </tr>\n",
       "    <tr>\n",
       "      <th>3</th>\n",
       "      <td>https://contrataciondelestado.es/sindicacion/P...</td>\n",
       "      <td>Id licitación: 1379/2020 4738; Órgano de Contr...</td>\n",
       "      <td>Obres de renovació de l'enllumenat públic a la...</td>\n",
       "      <td>2022-01-03T00:11:40.740+01:00</td>\n",
       "      <td>1379/2020 4738</td>\n",
       "      <td>EV</td>\n",
       "      <td>https://contractaciopublica.gencat.cat/ecofin_...</td>\n",
       "      <td>Ajuntament de Canet de Mar</td>\n",
       "      <td>Entitats municipals de Catalunya</td>\n",
       "      <td>Obres de renovació de l'enllumenat públic a la...</td>\n",
       "      <td>...</td>\n",
       "      <td>https://contractaciopublica.gencat.cat/ecofin_...</td>\n",
       "      <td>NaN</td>\n",
       "      <td>NaN</td>\n",
       "      <td>NaN</td>\n",
       "      <td>NaN</td>\n",
       "      <td>NaN</td>\n",
       "      <td>NaN</td>\n",
       "      <td>NaN</td>\n",
       "      <td>NaN</td>\n",
       "      <td>NaN</td>\n",
       "    </tr>\n",
       "    <tr>\n",
       "      <th>4</th>\n",
       "      <td>https://contrataciondelestado.es/sindicacion/P...</td>\n",
       "      <td>Id licitación: 2021-44; Órgano de Contratación...</td>\n",
       "      <td>Subministre i la instal·lació fotovoltaica en ...</td>\n",
       "      <td>2022-01-03T00:11:40.696+01:00</td>\n",
       "      <td>2021-44</td>\n",
       "      <td>EV</td>\n",
       "      <td>https://contractaciopublica.gencat.cat/ecofin_...</td>\n",
       "      <td>Ajuntament de Valls</td>\n",
       "      <td>Entitats municipals de Catalunya</td>\n",
       "      <td>Subministre i la instal·lació fotovoltaica en ...</td>\n",
       "      <td>...</td>\n",
       "      <td>https://contractaciopublica.gencat.cat/ecofin_...</td>\n",
       "      <td>Enllac plec clausules tecniques.doc</td>\n",
       "      <td>https://contractaciopublica.gencat.cat/ecofin_...</td>\n",
       "      <td>NaN</td>\n",
       "      <td>NaN</td>\n",
       "      <td>NaN</td>\n",
       "      <td>NaN</td>\n",
       "      <td>NaN</td>\n",
       "      <td>NaN</td>\n",
       "      <td>NaN</td>\n",
       "    </tr>\n",
       "    <tr>\n",
       "      <th>5</th>\n",
       "      <td>https://contrataciondelestado.es/sindicacion/P...</td>\n",
       "      <td>Id licitación: 2809/2021; Órgano de Contrataci...</td>\n",
       "      <td>Servei de visites i activitats sobre Història ...</td>\n",
       "      <td>2022-01-03T00:11:40.639+01:00</td>\n",
       "      <td>2809/2021</td>\n",
       "      <td>EV</td>\n",
       "      <td>https://contractaciopublica.gencat.cat/ecofin_...</td>\n",
       "      <td>Institut de Cultura de Barcelona</td>\n",
       "      <td>Entitats municipals de Catalunya</td>\n",
       "      <td>Servei de visites i activitats sobre Història ...</td>\n",
       "      <td>...</td>\n",
       "      <td>https://contractaciopublica.gencat.cat/ecofin_...</td>\n",
       "      <td>2809-21 PPT.pdf</td>\n",
       "      <td>https://contractaciopublica.gencat.cat/ecofin_...</td>\n",
       "      <td>NaN</td>\n",
       "      <td>NaN</td>\n",
       "      <td>NaN</td>\n",
       "      <td>NaN</td>\n",
       "      <td>NaN</td>\n",
       "      <td>NaN</td>\n",
       "      <td>NaN</td>\n",
       "    </tr>\n",
       "  </tbody>\n",
       "</table>\n",
       "<p>6 rows × 38 columns</p>\n",
       "</div>"
      ],
      "text/plain": [
       "                                                  id  \\\n",
       "0  https://contrataciondelestado.es/sindicacion/P...   \n",
       "1  https://contrataciondelestado.es/sindicacion/P...   \n",
       "2  https://contrataciondelestado.es/sindicacion/P...   \n",
       "3  https://contrataciondelestado.es/sindicacion/P...   \n",
       "4  https://contrataciondelestado.es/sindicacion/P...   \n",
       "5  https://contrataciondelestado.es/sindicacion/P...   \n",
       "\n",
       "                                             summary  \\\n",
       "0  Id licitación: C. 2-2021; Órgano de Contrataci...   \n",
       "1  Id licitación: 8128_3/2021; Órgano de Contrata...   \n",
       "2  Id licitación: 1000_0005-CP01-2021-000063; Órg...   \n",
       "3  Id licitación: 1379/2020 4738; Órgano de Contr...   \n",
       "4  Id licitación: 2021-44; Órgano de Contratación...   \n",
       "5  Id licitación: 2809/2021; Órgano de Contrataci...   \n",
       "\n",
       "                                               title  \\\n",
       "0  L'objecte del contracte és la renovació de tot...   \n",
       "1  Obras de restauración hidromorfológica del río...   \n",
       "2  Contrato del servicio de realización de labore...   \n",
       "3  Obres de renovació de l'enllumenat públic a la...   \n",
       "4  Subministre i la instal·lació fotovoltaica en ...   \n",
       "5  Servei de visites i activitats sobre Història ...   \n",
       "\n",
       "                         updated ContractFolderStatus - ContractFolderID  \\\n",
       "0  2022-01-03T01:11:41.826+01:00                               C. 2-2021   \n",
       "1  2022-01-03T01:00:11.194+01:00                             8128_3/2021   \n",
       "2  2022-01-03T01:00:10.399+01:00              1000_0005-CP01-2021-000063   \n",
       "3  2022-01-03T00:11:40.740+01:00                          1379/2020 4738   \n",
       "4  2022-01-03T00:11:40.696+01:00                                 2021-44   \n",
       "5  2022-01-03T00:11:40.639+01:00                               2809/2021   \n",
       "\n",
       "  ContractFolderStatus - ContractFolderStatusCode  \\\n",
       "0                                             ADJ   \n",
       "1                                             PUB   \n",
       "2                                              EV   \n",
       "3                                              EV   \n",
       "4                                              EV   \n",
       "5                                              EV   \n",
       "\n",
       "  ContractFolderStatus - LocatedContractingParty - BuyerProfileURIID  \\\n",
       "0  https://contractaciopublica.gencat.cat/ecofin_...                   \n",
       "1                                                NaN                   \n",
       "2                                                NaN                   \n",
       "3  https://contractaciopublica.gencat.cat/ecofin_...                   \n",
       "4  https://contractaciopublica.gencat.cat/ecofin_...                   \n",
       "5  https://contractaciopublica.gencat.cat/ecofin_...                   \n",
       "\n",
       "  ContractFolderStatus - LocatedContractingParty - Party - PartyName - Name  \\\n",
       "0                           Ajuntament de Sant Ramon                          \n",
       "1                             Pleno del Ayuntamiento                          \n",
       "2  El Director General de Comunicación y Relacion...                          \n",
       "3                         Ajuntament de Canet de Mar                          \n",
       "4                                Ajuntament de Valls                          \n",
       "5                   Institut de Cultura de Barcelona                          \n",
       "\n",
       "  ContractFolderStatus - LocatedContractingParty - ParentLocatedParty - PartyName - Name  \\\n",
       "0                   Entitats municipals de Catalunya                                       \n",
       "1                            AYUNTAMIENTO DE MONREAL                                       \n",
       "2  Departamento de Presidencia, Igualdad, Función...                                       \n",
       "3                   Entitats municipals de Catalunya                                       \n",
       "4                   Entitats municipals de Catalunya                                       \n",
       "5                   Entitats municipals de Catalunya                                       \n",
       "\n",
       "    ContractFolderStatus - ProcurementProject - Name  ...  \\\n",
       "0  L'objecte del contracte és la renovació de tot...  ...   \n",
       "1  Obras de restauración hidromorfológica del río...  ...   \n",
       "2  Contrato del servicio de realización de labore...  ...   \n",
       "3  Obres de renovació de l'enllumenat públic a la...  ...   \n",
       "4  Subministre i la instal·lació fotovoltaica en ...  ...   \n",
       "5  Servei de visites i activitats sobre Història ...  ...   \n",
       "\n",
       "  ContractFolderStatus - LegalDocumentReference - Attachment - ExternalReference - URI  \\\n",
       "0                                                NaN                                     \n",
       "1                                                NaN                                     \n",
       "2                                                NaN                                     \n",
       "3  https://contractaciopublica.gencat.cat/ecofin_...                                     \n",
       "4  https://contractaciopublica.gencat.cat/ecofin_...                                     \n",
       "5  https://contractaciopublica.gencat.cat/ecofin_...                                     \n",
       "\n",
       "  ContractFolderStatus - TechnicalDocumentReference - ID  \\\n",
       "0                                                NaN       \n",
       "1                                                NaN       \n",
       "2                                                NaN       \n",
       "3                                                NaN       \n",
       "4                Enllac plec clausules tecniques.doc       \n",
       "5                                    2809-21 PPT.pdf       \n",
       "\n",
       "  ContractFolderStatus - TechnicalDocumentReference - Attachment - ExternalReference - URI  \\\n",
       "0                                                NaN                                         \n",
       "1                                                NaN                                         \n",
       "2                                                NaN                                         \n",
       "3                                                NaN                                         \n",
       "4  https://contractaciopublica.gencat.cat/ecofin_...                                         \n",
       "5  https://contractaciopublica.gencat.cat/ecofin_...                                         \n",
       "\n",
       "  ContractFolderStatus - ProcurementProject - PlannedPeriod - StartDate  \\\n",
       "0                                                NaN                      \n",
       "1                                                NaN                      \n",
       "2                                                NaN                      \n",
       "3                                                NaN                      \n",
       "4                                                NaN                      \n",
       "5                                                NaN                      \n",
       "\n",
       "  ContractFolderStatus - ProcurementProject - PlannedPeriod - EndDate  \\\n",
       "0                                                NaN                    \n",
       "1                                                NaN                    \n",
       "2                                                NaN                    \n",
       "3                                                NaN                    \n",
       "4                                                NaN                    \n",
       "5                                                NaN                    \n",
       "\n",
       "  ContractFolderStatus - LocatedContractingParty - Party - PartyIdentification - ID  \\\n",
       "0                                                NaN                                  \n",
       "1                                                NaN                                  \n",
       "2                                                NaN                                  \n",
       "3                                                NaN                                  \n",
       "4                                                NaN                                  \n",
       "5                                                NaN                                  \n",
       "\n",
       "  ContractFolderStatus - LocatedContractingParty - ParentLocatedParty - ParentLocatedParty - PartyName - Name  \\\n",
       "0                                                NaN                                                            \n",
       "1                                                NaN                                                            \n",
       "2                                                NaN                                                            \n",
       "3                                                NaN                                                            \n",
       "4                                                NaN                                                            \n",
       "5                                                NaN                                                            \n",
       "\n",
       "  ContractFolderStatus - TenderingProcess - ParticipationRequestReceptionPeriod - EndDate  \\\n",
       "0                                                NaN                                        \n",
       "1                                                NaN                                        \n",
       "2                                                NaN                                        \n",
       "3                                                NaN                                        \n",
       "4                                                NaN                                        \n",
       "5                                                NaN                                        \n",
       "\n",
       "  ContractFolderStatus - TenderingProcess - ParticipationRequestReceptionPeriod - EndTime  \\\n",
       "0                                                NaN                                        \n",
       "1                                                NaN                                        \n",
       "2                                                NaN                                        \n",
       "3                                                NaN                                        \n",
       "4                                                NaN                                        \n",
       "5                                                NaN                                        \n",
       "\n",
       "  ContractFolderStatus - TenderResult - AwardedTenderedProject - ProcurementProjectLotID  \n",
       "0                                                NaN                                      \n",
       "1                                                NaN                                      \n",
       "2                                                NaN                                      \n",
       "3                                                NaN                                      \n",
       "4                                                NaN                                      \n",
       "5                                                NaN                                      \n",
       "\n",
       "[6 rows x 38 columns]"
      ]
     },
     "execution_count": null,
     "metadata": {},
     "output_type": "execute_result"
    }
   ],
   "source": [
    "df = sproc.xml.to_df(xml_file)\n",
    "df.head(6)"
   ]
  },
  {
   "cell_type": "markdown",
   "id": "71a2983a-bf6e-4fbe-b89d-b240da673976",
   "metadata": {},
   "source": [
    "Below, it is required that no extension is provided for the file"
   ]
  },
  {
   "cell_type": "code",
   "execution_count": null,
   "id": "e5df99bc-5af1-4e7c-9283-642dd442ac11",
   "metadata": {},
   "outputs": [
    {
     "data": {
      "text/plain": [
       "False"
      ]
     },
     "execution_count": null,
     "metadata": {},
     "output_type": "execute_result"
    }
   ],
   "source": [
    "file = pathlib.Path('data.txt')\n",
    "file.suffix == ''"
   ]
  },
  {
   "cell_type": "code",
   "execution_count": null,
   "id": "18023328-5191-4c3a-89ea-ba31aa85d3ad",
   "metadata": {},
   "outputs": [
    {
     "data": {
      "text/plain": [
       "True"
      ]
     },
     "execution_count": null,
     "metadata": {},
     "output_type": "execute_result"
    }
   ],
   "source": [
    "file = pathlib.Path('data')\n",
    "file.suffix == ''"
   ]
  },
  {
   "cell_type": "markdown",
   "id": "19a9b5d9-492c-49c2-b9ca-ba1b6d8b07da",
   "metadata": {},
   "source": [
    "A class to handle reading and writing a `pd.DataFrame`"
   ]
  },
  {
   "cell_type": "code",
   "execution_count": null,
   "id": "e614cd0c-a116-4d27-afd4-fe8beca7fbcc",
   "metadata": {},
   "outputs": [],
   "source": [
    "#| export\n",
    "class File:\n",
    "    \n",
    "    def __init__(self, stem: str | pathlib.Path):\n",
    "        \n",
    "        self.name: pathlib.Path = pathlib.Path(stem)\n",
    "        \n",
    "        assert self.name.suffix == '', 'an extension-less file is expected'\n",
    "        \n",
    "        self.name = self.name.with_suffix('.pickle')\n",
    "        \n",
    "    def __str__(self):\n",
    "        \n",
    "        return self.name.as_posix()\n",
    "    \n",
    "    def __repr__(self):\n",
    "        \n",
    "        return self.__str__()\n",
    "        \n",
    "    def exists(self) -> bool:\n",
    "\n",
    "        return self.name.exists()"
   ]
  },
  {
   "cell_type": "code",
   "execution_count": null,
   "id": "2223ce64-8fb0-4b54-a921-a8e69063feec",
   "metadata": {},
   "outputs": [
    {
     "name": "stdout",
     "output_type": "stream",
     "text": [
      "oooooops\n"
     ]
    }
   ],
   "source": [
    "try:\n",
    "    File('tmp.feather')\n",
    "except AssertionError:\n",
    "    print('oooooops')"
   ]
  },
  {
   "cell_type": "code",
   "execution_count": null,
   "id": "59f95071-2e1c-4b3d-a31e-b4cae5bca504",
   "metadata": {},
   "outputs": [
    {
     "data": {
      "text/plain": [
       "tmp.pickle"
      ]
     },
     "execution_count": null,
     "metadata": {},
     "output_type": "execute_result"
    }
   ],
   "source": [
    "file = File('tmp')\n",
    "file"
   ]
  },
  {
   "cell_type": "markdown",
   "id": "a40172f2-34de-4a02-aabc-4db802bd015e",
   "metadata": {},
   "source": [
    "Does the file already exists?"
   ]
  },
  {
   "cell_type": "code",
   "execution_count": null,
   "id": "d0d4a3ed-71fd-4329-b237-a08a0843c9ec",
   "metadata": {},
   "outputs": [
    {
     "data": {
      "text/plain": [
       "False"
      ]
     },
     "execution_count": null,
     "metadata": {},
     "output_type": "execute_result"
    }
   ],
   "source": [
    "file.exists()"
   ]
  },
  {
   "cell_type": "markdown",
   "id": "91eee8da-1031-496d-8aaf-9d548944abc3",
   "metadata": {},
   "source": [
    "## Saving"
   ]
  },
  {
   "cell_type": "markdown",
   "id": "6f2f3140-f3b4-48fe-b280-e0a8a55fdfa4",
   "metadata": {},
   "source": [
    "### Dealing with multivalued columns"
   ]
  },
  {
   "cell_type": "markdown",
   "id": "4158736e-0d61-4d77-ae40-4ec3abed131f",
   "metadata": {},
   "source": [
    "A *shorter* version of the `pd.DataFrame`"
   ]
  },
  {
   "cell_type": "code",
   "execution_count": null,
   "id": "684874ca-90cf-491d-8147-c5e4bbaa72c3",
   "metadata": {},
   "outputs": [
    {
     "data": {
      "text/html": [
       "<div>\n",
       "<style scoped>\n",
       "    .dataframe tbody tr th:only-of-type {\n",
       "        vertical-align: middle;\n",
       "    }\n",
       "\n",
       "    .dataframe tbody tr th {\n",
       "        vertical-align: top;\n",
       "    }\n",
       "\n",
       "    .dataframe thead th {\n",
       "        text-align: right;\n",
       "    }\n",
       "</style>\n",
       "<table border=\"1\" class=\"dataframe\">\n",
       "  <thead>\n",
       "    <tr style=\"text-align: right;\">\n",
       "      <th></th>\n",
       "      <th>id</th>\n",
       "      <th>summary</th>\n",
       "      <th>title</th>\n",
       "      <th>updated</th>\n",
       "      <th>ContractFolderStatus - ContractFolderID</th>\n",
       "      <th>ContractFolderStatus - ContractFolderStatusCode</th>\n",
       "      <th>ContractFolderStatus - LocatedContractingParty - BuyerProfileURIID</th>\n",
       "      <th>ContractFolderStatus - LocatedContractingParty - Party - PartyName - Name</th>\n",
       "      <th>ContractFolderStatus - LocatedContractingParty - ParentLocatedParty - PartyName - Name</th>\n",
       "      <th>ContractFolderStatus - ProcurementProject - Name</th>\n",
       "      <th>...</th>\n",
       "      <th>ContractFolderStatus - LegalDocumentReference - Attachment - ExternalReference - URI</th>\n",
       "      <th>ContractFolderStatus - TechnicalDocumentReference - ID</th>\n",
       "      <th>ContractFolderStatus - TechnicalDocumentReference - Attachment - ExternalReference - URI</th>\n",
       "      <th>ContractFolderStatus - ProcurementProject - PlannedPeriod - StartDate</th>\n",
       "      <th>ContractFolderStatus - ProcurementProject - PlannedPeriod - EndDate</th>\n",
       "      <th>ContractFolderStatus - LocatedContractingParty - Party - PartyIdentification - ID</th>\n",
       "      <th>ContractFolderStatus - LocatedContractingParty - ParentLocatedParty - ParentLocatedParty - PartyName - Name</th>\n",
       "      <th>ContractFolderStatus - TenderingProcess - ParticipationRequestReceptionPeriod - EndDate</th>\n",
       "      <th>ContractFolderStatus - TenderingProcess - ParticipationRequestReceptionPeriod - EndTime</th>\n",
       "      <th>ContractFolderStatus - TenderResult - AwardedTenderedProject - ProcurementProjectLotID</th>\n",
       "    </tr>\n",
       "  </thead>\n",
       "  <tbody>\n",
       "    <tr>\n",
       "      <th>0</th>\n",
       "      <td>https://contrataciondelestado.es/sindicacion/P...</td>\n",
       "      <td>Id licitación: C. 2-2021; Órgano de Contrataci...</td>\n",
       "      <td>L'objecte del contracte és la renovació de tot...</td>\n",
       "      <td>2022-01-03T01:11:41.826+01:00</td>\n",
       "      <td>C. 2-2021</td>\n",
       "      <td>ADJ</td>\n",
       "      <td>https://contractaciopublica.gencat.cat/ecofin_...</td>\n",
       "      <td>Ajuntament de Sant Ramon</td>\n",
       "      <td>Entitats municipals de Catalunya</td>\n",
       "      <td>L'objecte del contracte és la renovació de tot...</td>\n",
       "      <td>...</td>\n",
       "      <td>NaN</td>\n",
       "      <td>NaN</td>\n",
       "      <td>NaN</td>\n",
       "      <td>NaN</td>\n",
       "      <td>NaN</td>\n",
       "      <td>NaN</td>\n",
       "      <td>NaN</td>\n",
       "      <td>NaN</td>\n",
       "      <td>NaN</td>\n",
       "      <td>NaN</td>\n",
       "    </tr>\n",
       "    <tr>\n",
       "      <th>1</th>\n",
       "      <td>https://contrataciondelestado.es/sindicacion/P...</td>\n",
       "      <td>Id licitación: 8128_3/2021; Órgano de Contrata...</td>\n",
       "      <td>Obras de restauración hidromorfológica del río...</td>\n",
       "      <td>2022-01-03T01:00:11.194+01:00</td>\n",
       "      <td>8128_3/2021</td>\n",
       "      <td>PUB</td>\n",
       "      <td>NaN</td>\n",
       "      <td>Pleno del Ayuntamiento</td>\n",
       "      <td>AYUNTAMIENTO DE MONREAL</td>\n",
       "      <td>Obras de restauración hidromorfológica del río...</td>\n",
       "      <td>...</td>\n",
       "      <td>NaN</td>\n",
       "      <td>NaN</td>\n",
       "      <td>NaN</td>\n",
       "      <td>NaN</td>\n",
       "      <td>NaN</td>\n",
       "      <td>NaN</td>\n",
       "      <td>NaN</td>\n",
       "      <td>NaN</td>\n",
       "      <td>NaN</td>\n",
       "      <td>NaN</td>\n",
       "    </tr>\n",
       "    <tr>\n",
       "      <th>2</th>\n",
       "      <td>https://contrataciondelestado.es/sindicacion/P...</td>\n",
       "      <td>Id licitación: 1000_0005-CP01-2021-000063; Órg...</td>\n",
       "      <td>Contrato del servicio de realización de labore...</td>\n",
       "      <td>2022-01-03T01:00:10.399+01:00</td>\n",
       "      <td>1000_0005-CP01-2021-000063</td>\n",
       "      <td>EV</td>\n",
       "      <td>NaN</td>\n",
       "      <td>El Director General de Comunicación y Relacion...</td>\n",
       "      <td>Departamento de Presidencia, Igualdad, Función...</td>\n",
       "      <td>Contrato del servicio de realización de labore...</td>\n",
       "      <td>...</td>\n",
       "      <td>NaN</td>\n",
       "      <td>NaN</td>\n",
       "      <td>NaN</td>\n",
       "      <td>NaN</td>\n",
       "      <td>NaN</td>\n",
       "      <td>NaN</td>\n",
       "      <td>NaN</td>\n",
       "      <td>NaN</td>\n",
       "      <td>NaN</td>\n",
       "      <td>NaN</td>\n",
       "    </tr>\n",
       "    <tr>\n",
       "      <th>3</th>\n",
       "      <td>https://contrataciondelestado.es/sindicacion/P...</td>\n",
       "      <td>Id licitación: 1379/2020 4738; Órgano de Contr...</td>\n",
       "      <td>Obres de renovació de l'enllumenat públic a la...</td>\n",
       "      <td>2022-01-03T00:11:40.740+01:00</td>\n",
       "      <td>1379/2020 4738</td>\n",
       "      <td>EV</td>\n",
       "      <td>https://contractaciopublica.gencat.cat/ecofin_...</td>\n",
       "      <td>Ajuntament de Canet de Mar</td>\n",
       "      <td>Entitats municipals de Catalunya</td>\n",
       "      <td>Obres de renovació de l'enllumenat públic a la...</td>\n",
       "      <td>...</td>\n",
       "      <td>https://contractaciopublica.gencat.cat/ecofin_...</td>\n",
       "      <td>NaN</td>\n",
       "      <td>NaN</td>\n",
       "      <td>NaN</td>\n",
       "      <td>NaN</td>\n",
       "      <td>NaN</td>\n",
       "      <td>NaN</td>\n",
       "      <td>NaN</td>\n",
       "      <td>NaN</td>\n",
       "      <td>NaN</td>\n",
       "    </tr>\n",
       "    <tr>\n",
       "      <th>4</th>\n",
       "      <td>https://contrataciondelestado.es/sindicacion/P...</td>\n",
       "      <td>Id licitación: 2021-44; Órgano de Contratación...</td>\n",
       "      <td>Subministre i la instal·lació fotovoltaica en ...</td>\n",
       "      <td>2022-01-03T00:11:40.696+01:00</td>\n",
       "      <td>2021-44</td>\n",
       "      <td>EV</td>\n",
       "      <td>https://contractaciopublica.gencat.cat/ecofin_...</td>\n",
       "      <td>Ajuntament de Valls</td>\n",
       "      <td>Entitats municipals de Catalunya</td>\n",
       "      <td>Subministre i la instal·lació fotovoltaica en ...</td>\n",
       "      <td>...</td>\n",
       "      <td>https://contractaciopublica.gencat.cat/ecofin_...</td>\n",
       "      <td>Enllac plec clausules tecniques.doc</td>\n",
       "      <td>https://contractaciopublica.gencat.cat/ecofin_...</td>\n",
       "      <td>NaN</td>\n",
       "      <td>NaN</td>\n",
       "      <td>NaN</td>\n",
       "      <td>NaN</td>\n",
       "      <td>NaN</td>\n",
       "      <td>NaN</td>\n",
       "      <td>NaN</td>\n",
       "    </tr>\n",
       "  </tbody>\n",
       "</table>\n",
       "<p>5 rows × 38 columns</p>\n",
       "</div>"
      ],
      "text/plain": [
       "                                                  id  \\\n",
       "0  https://contrataciondelestado.es/sindicacion/P...   \n",
       "1  https://contrataciondelestado.es/sindicacion/P...   \n",
       "2  https://contrataciondelestado.es/sindicacion/P...   \n",
       "3  https://contrataciondelestado.es/sindicacion/P...   \n",
       "4  https://contrataciondelestado.es/sindicacion/P...   \n",
       "\n",
       "                                             summary  \\\n",
       "0  Id licitación: C. 2-2021; Órgano de Contrataci...   \n",
       "1  Id licitación: 8128_3/2021; Órgano de Contrata...   \n",
       "2  Id licitación: 1000_0005-CP01-2021-000063; Órg...   \n",
       "3  Id licitación: 1379/2020 4738; Órgano de Contr...   \n",
       "4  Id licitación: 2021-44; Órgano de Contratación...   \n",
       "\n",
       "                                               title  \\\n",
       "0  L'objecte del contracte és la renovació de tot...   \n",
       "1  Obras de restauración hidromorfológica del río...   \n",
       "2  Contrato del servicio de realización de labore...   \n",
       "3  Obres de renovació de l'enllumenat públic a la...   \n",
       "4  Subministre i la instal·lació fotovoltaica en ...   \n",
       "\n",
       "                         updated ContractFolderStatus - ContractFolderID  \\\n",
       "0  2022-01-03T01:11:41.826+01:00                               C. 2-2021   \n",
       "1  2022-01-03T01:00:11.194+01:00                             8128_3/2021   \n",
       "2  2022-01-03T01:00:10.399+01:00              1000_0005-CP01-2021-000063   \n",
       "3  2022-01-03T00:11:40.740+01:00                          1379/2020 4738   \n",
       "4  2022-01-03T00:11:40.696+01:00                                 2021-44   \n",
       "\n",
       "  ContractFolderStatus - ContractFolderStatusCode  \\\n",
       "0                                             ADJ   \n",
       "1                                             PUB   \n",
       "2                                              EV   \n",
       "3                                              EV   \n",
       "4                                              EV   \n",
       "\n",
       "  ContractFolderStatus - LocatedContractingParty - BuyerProfileURIID  \\\n",
       "0  https://contractaciopublica.gencat.cat/ecofin_...                   \n",
       "1                                                NaN                   \n",
       "2                                                NaN                   \n",
       "3  https://contractaciopublica.gencat.cat/ecofin_...                   \n",
       "4  https://contractaciopublica.gencat.cat/ecofin_...                   \n",
       "\n",
       "  ContractFolderStatus - LocatedContractingParty - Party - PartyName - Name  \\\n",
       "0                           Ajuntament de Sant Ramon                          \n",
       "1                             Pleno del Ayuntamiento                          \n",
       "2  El Director General de Comunicación y Relacion...                          \n",
       "3                         Ajuntament de Canet de Mar                          \n",
       "4                                Ajuntament de Valls                          \n",
       "\n",
       "  ContractFolderStatus - LocatedContractingParty - ParentLocatedParty - PartyName - Name  \\\n",
       "0                   Entitats municipals de Catalunya                                       \n",
       "1                            AYUNTAMIENTO DE MONREAL                                       \n",
       "2  Departamento de Presidencia, Igualdad, Función...                                       \n",
       "3                   Entitats municipals de Catalunya                                       \n",
       "4                   Entitats municipals de Catalunya                                       \n",
       "\n",
       "    ContractFolderStatus - ProcurementProject - Name  ...  \\\n",
       "0  L'objecte del contracte és la renovació de tot...  ...   \n",
       "1  Obras de restauración hidromorfológica del río...  ...   \n",
       "2  Contrato del servicio de realización de labore...  ...   \n",
       "3  Obres de renovació de l'enllumenat públic a la...  ...   \n",
       "4  Subministre i la instal·lació fotovoltaica en ...  ...   \n",
       "\n",
       "  ContractFolderStatus - LegalDocumentReference - Attachment - ExternalReference - URI  \\\n",
       "0                                                NaN                                     \n",
       "1                                                NaN                                     \n",
       "2                                                NaN                                     \n",
       "3  https://contractaciopublica.gencat.cat/ecofin_...                                     \n",
       "4  https://contractaciopublica.gencat.cat/ecofin_...                                     \n",
       "\n",
       "  ContractFolderStatus - TechnicalDocumentReference - ID  \\\n",
       "0                                                NaN       \n",
       "1                                                NaN       \n",
       "2                                                NaN       \n",
       "3                                                NaN       \n",
       "4                Enllac plec clausules tecniques.doc       \n",
       "\n",
       "  ContractFolderStatus - TechnicalDocumentReference - Attachment - ExternalReference - URI  \\\n",
       "0                                                NaN                                         \n",
       "1                                                NaN                                         \n",
       "2                                                NaN                                         \n",
       "3                                                NaN                                         \n",
       "4  https://contractaciopublica.gencat.cat/ecofin_...                                         \n",
       "\n",
       "  ContractFolderStatus - ProcurementProject - PlannedPeriod - StartDate  \\\n",
       "0                                                NaN                      \n",
       "1                                                NaN                      \n",
       "2                                                NaN                      \n",
       "3                                                NaN                      \n",
       "4                                                NaN                      \n",
       "\n",
       "  ContractFolderStatus - ProcurementProject - PlannedPeriod - EndDate  \\\n",
       "0                                                NaN                    \n",
       "1                                                NaN                    \n",
       "2                                                NaN                    \n",
       "3                                                NaN                    \n",
       "4                                                NaN                    \n",
       "\n",
       "  ContractFolderStatus - LocatedContractingParty - Party - PartyIdentification - ID  \\\n",
       "0                                                NaN                                  \n",
       "1                                                NaN                                  \n",
       "2                                                NaN                                  \n",
       "3                                                NaN                                  \n",
       "4                                                NaN                                  \n",
       "\n",
       "  ContractFolderStatus - LocatedContractingParty - ParentLocatedParty - ParentLocatedParty - PartyName - Name  \\\n",
       "0                                                NaN                                                            \n",
       "1                                                NaN                                                            \n",
       "2                                                NaN                                                            \n",
       "3                                                NaN                                                            \n",
       "4                                                NaN                                                            \n",
       "\n",
       "  ContractFolderStatus - TenderingProcess - ParticipationRequestReceptionPeriod - EndDate  \\\n",
       "0                                                NaN                                        \n",
       "1                                                NaN                                        \n",
       "2                                                NaN                                        \n",
       "3                                                NaN                                        \n",
       "4                                                NaN                                        \n",
       "\n",
       "  ContractFolderStatus - TenderingProcess - ParticipationRequestReceptionPeriod - EndTime  \\\n",
       "0                                                NaN                                        \n",
       "1                                                NaN                                        \n",
       "2                                                NaN                                        \n",
       "3                                                NaN                                        \n",
       "4                                                NaN                                        \n",
       "\n",
       "  ContractFolderStatus - TenderResult - AwardedTenderedProject - ProcurementProjectLotID  \n",
       "0                                                NaN                                      \n",
       "1                                                NaN                                      \n",
       "2                                                NaN                                      \n",
       "3                                                NaN                                      \n",
       "4                                                NaN                                      \n",
       "\n",
       "[5 rows x 38 columns]"
      ]
     },
     "execution_count": null,
     "metadata": {},
     "output_type": "execute_result"
    }
   ],
   "source": [
    "head_df = df.head(5).copy()\n",
    "head_df"
   ]
  },
  {
   "cell_type": "markdown",
   "id": "2ec6da30-74d5-483a-9f6d-8887c892bec0",
   "metadata": {},
   "source": [
    "There are multivalued columns in the `pd.DataFrame`"
   ]
  },
  {
   "cell_type": "code",
   "execution_count": null,
   "id": "887e85eb-8428-435d-a2ac-f1346310dd9b",
   "metadata": {},
   "outputs": [
    {
     "data": {
      "text/plain": [
       "['ContractFolderStatus - ValidNoticeInfo - NoticeTypeCode',\n",
       " 'ContractFolderStatus - ValidNoticeInfo - AdditionalPublicationStatus - PublicationMediaName',\n",
       " 'ContractFolderStatus - ValidNoticeInfo - AdditionalPublicationStatus - AdditionalPublicationDocumentReference - IssueDate']"
      ]
     },
     "execution_count": null,
     "metadata": {},
     "output_type": "execute_result"
    }
   ],
   "source": [
    "multivalued_columns = sproc.structure.multivalued_columns(head_df)\n",
    "multivalued_columns"
   ]
  },
  {
   "cell_type": "code",
   "execution_count": null,
   "id": "0349b714-e175-43cb-9c07-1ae6918563e6",
   "metadata": {},
   "outputs": [
    {
     "data": {
      "text/html": [
       "<div>\n",
       "<style scoped>\n",
       "    .dataframe tbody tr th:only-of-type {\n",
       "        vertical-align: middle;\n",
       "    }\n",
       "\n",
       "    .dataframe tbody tr th {\n",
       "        vertical-align: top;\n",
       "    }\n",
       "\n",
       "    .dataframe thead th {\n",
       "        text-align: right;\n",
       "    }\n",
       "</style>\n",
       "<table border=\"1\" class=\"dataframe\">\n",
       "  <thead>\n",
       "    <tr style=\"text-align: right;\">\n",
       "      <th></th>\n",
       "      <th>ContractFolderStatus - ValidNoticeInfo - NoticeTypeCode</th>\n",
       "      <th>ContractFolderStatus - ValidNoticeInfo - AdditionalPublicationStatus - PublicationMediaName</th>\n",
       "      <th>ContractFolderStatus - ValidNoticeInfo - AdditionalPublicationStatus - AdditionalPublicationDocumentReference - IssueDate</th>\n",
       "    </tr>\n",
       "  </thead>\n",
       "  <tbody>\n",
       "    <tr>\n",
       "      <th>0</th>\n",
       "      <td>[[DOC_CN, DOC_CAN_ADJ]]</td>\n",
       "      <td>[[Perfil del contratante, Perfil del contratan...</td>\n",
       "      <td>[[2021-11-30, 2022-01-03]]</td>\n",
       "    </tr>\n",
       "    <tr>\n",
       "      <th>1</th>\n",
       "      <td>DOC_CN</td>\n",
       "      <td>Perfil del contratante</td>\n",
       "      <td>2022-01-03</td>\n",
       "    </tr>\n",
       "    <tr>\n",
       "      <th>2</th>\n",
       "      <td>DOC_CN</td>\n",
       "      <td>[[DOUE, Perfil del contratante]]</td>\n",
       "      <td>[[2021-12-01, 2022-01-03]]</td>\n",
       "    </tr>\n",
       "    <tr>\n",
       "      <th>3</th>\n",
       "      <td>DOC_CN</td>\n",
       "      <td>Perfil del contratante</td>\n",
       "      <td>2021-12-13</td>\n",
       "    </tr>\n",
       "    <tr>\n",
       "      <th>4</th>\n",
       "      <td>DOC_CN</td>\n",
       "      <td>Perfil del contratante</td>\n",
       "      <td>2021-12-17</td>\n",
       "    </tr>\n",
       "  </tbody>\n",
       "</table>\n",
       "</div>"
      ],
      "text/plain": [
       "  ContractFolderStatus - ValidNoticeInfo - NoticeTypeCode  \\\n",
       "0                            [[DOC_CN, DOC_CAN_ADJ]]        \n",
       "1                                             DOC_CN        \n",
       "2                                             DOC_CN        \n",
       "3                                             DOC_CN        \n",
       "4                                             DOC_CN        \n",
       "\n",
       "  ContractFolderStatus - ValidNoticeInfo - AdditionalPublicationStatus - PublicationMediaName  \\\n",
       "0  [[Perfil del contratante, Perfil del contratan...                                            \n",
       "1                             Perfil del contratante                                            \n",
       "2                   [[DOUE, Perfil del contratante]]                                            \n",
       "3                             Perfil del contratante                                            \n",
       "4                             Perfil del contratante                                            \n",
       "\n",
       "  ContractFolderStatus - ValidNoticeInfo - AdditionalPublicationStatus - AdditionalPublicationDocumentReference - IssueDate  \n",
       "0                         [[2021-11-30, 2022-01-03]]                                                                         \n",
       "1                                         2022-01-03                                                                         \n",
       "2                         [[2021-12-01, 2022-01-03]]                                                                         \n",
       "3                                         2021-12-13                                                                         \n",
       "4                                         2021-12-17                                                                         "
      ]
     },
     "execution_count": null,
     "metadata": {},
     "output_type": "execute_result"
    }
   ],
   "source": [
    "head_df[multivalued_columns]"
   ]
  },
  {
   "cell_type": "markdown",
   "id": "f28e5f04-5ff1-4c42-a732-ad407505b408",
   "metadata": {},
   "source": [
    "A convenience function to turn something into a `list` if not already one."
   ]
  },
  {
   "cell_type": "code",
   "execution_count": null,
   "id": "8723ab62-78a5-4759-bf5d-ff75ebd5754e",
   "metadata": {},
   "outputs": [],
   "source": [
    "#| export\n",
    "def cast_to_list_if_not_already(\n",
    "    x: Any # Input\n",
    "    ) -> list | np.ndarray: # Output\n",
    "    \"Casts an element to `list` type if not already\"\n",
    "\n",
    "    t = type(x)\n",
    "    \n",
    "    if (t == list) or (t == np.ndarray):\n",
    "        \n",
    "        return x\n",
    "        \n",
    "    else:\n",
    "        \n",
    "        return [x]"
   ]
  },
  {
   "cell_type": "code",
   "execution_count": null,
   "id": "f41ef613-64b3-4786-9c0a-b88876a423b7",
   "metadata": {},
   "outputs": [
    {
     "data": {
      "text/plain": [
       "[2]"
      ]
     },
     "execution_count": null,
     "metadata": {},
     "output_type": "execute_result"
    }
   ],
   "source": [
    "cast_to_list_if_not_already(2)"
   ]
  },
  {
   "cell_type": "code",
   "execution_count": null,
   "id": "b5160f91-acb5-4ba4-a8be-9b7a0065a7a8",
   "metadata": {},
   "outputs": [
    {
     "data": {
      "text/plain": [
       "[2]"
      ]
     },
     "execution_count": null,
     "metadata": {},
     "output_type": "execute_result"
    }
   ],
   "source": [
    "cast_to_list_if_not_already([2])"
   ]
  },
  {
   "cell_type": "code",
   "execution_count": null,
   "id": "789dc212-619e-4c19-8729-bb45807e2cb2",
   "metadata": {},
   "outputs": [
    {
     "data": {
      "text/plain": [
       "array([2])"
      ]
     },
     "execution_count": null,
     "metadata": {},
     "output_type": "execute_result"
    }
   ],
   "source": [
    "cast_to_list_if_not_already(np.array([2]))"
   ]
  },
  {
   "cell_type": "markdown",
   "id": "1cf760a2-ae90-45a3-a3bf-66b5424b5f82",
   "metadata": {},
   "source": [
    "A function to *homegenize* multivalued columns so that every element is a `list` (maybe containing a single element)."
   ]
  },
  {
   "cell_type": "code",
   "execution_count": null,
   "id": "2f4a50cc-d1e1-4ac6-b5f5-a5322f8708dd",
   "metadata": {},
   "outputs": [],
   "source": [
    "#| export\n",
    "def homogenize_multivalued(\n",
    "    df: pd.DataFrame # Input\n",
    "    ) -> pd.DataFrame: # Output\n",
    "    \"Processes every column containing a list such that *every* element is a list\"\n",
    "    \n",
    "    res = df.copy()\n",
    "    \n",
    "    # for every column that is multivalued...\n",
    "    for col_name in sproc.structure.multivalued_columns(res):\n",
    "        \n",
    "        # if the type of an element (index) is list, it's left as it is, otherwise a list is wrapped around it\n",
    "        # res[col_name] = res[col_name].apply(lambda x: x if type(x) == list else [x])\n",
    "        res[col_name] = res[col_name].apply(cast_to_list_if_not_already)\n",
    "        \n",
    "    return res"
   ]
  },
  {
   "cell_type": "code",
   "execution_count": null,
   "id": "b5a83919-1032-4363-b23e-3d6711b3055a",
   "metadata": {},
   "outputs": [
    {
     "data": {
      "text/html": [
       "<div>\n",
       "<style scoped>\n",
       "    .dataframe tbody tr th:only-of-type {\n",
       "        vertical-align: middle;\n",
       "    }\n",
       "\n",
       "    .dataframe tbody tr th {\n",
       "        vertical-align: top;\n",
       "    }\n",
       "\n",
       "    .dataframe thead th {\n",
       "        text-align: right;\n",
       "    }\n",
       "</style>\n",
       "<table border=\"1\" class=\"dataframe\">\n",
       "  <thead>\n",
       "    <tr style=\"text-align: right;\">\n",
       "      <th></th>\n",
       "      <th>id</th>\n",
       "      <th>summary</th>\n",
       "      <th>title</th>\n",
       "      <th>updated</th>\n",
       "      <th>ContractFolderStatus - ContractFolderID</th>\n",
       "      <th>ContractFolderStatus - ContractFolderStatusCode</th>\n",
       "      <th>ContractFolderStatus - LocatedContractingParty - BuyerProfileURIID</th>\n",
       "      <th>ContractFolderStatus - LocatedContractingParty - Party - PartyName - Name</th>\n",
       "      <th>ContractFolderStatus - LocatedContractingParty - ParentLocatedParty - PartyName - Name</th>\n",
       "      <th>ContractFolderStatus - ProcurementProject - Name</th>\n",
       "      <th>...</th>\n",
       "      <th>ContractFolderStatus - LegalDocumentReference - Attachment - ExternalReference - URI</th>\n",
       "      <th>ContractFolderStatus - TechnicalDocumentReference - ID</th>\n",
       "      <th>ContractFolderStatus - TechnicalDocumentReference - Attachment - ExternalReference - URI</th>\n",
       "      <th>ContractFolderStatus - ProcurementProject - PlannedPeriod - StartDate</th>\n",
       "      <th>ContractFolderStatus - ProcurementProject - PlannedPeriod - EndDate</th>\n",
       "      <th>ContractFolderStatus - LocatedContractingParty - Party - PartyIdentification - ID</th>\n",
       "      <th>ContractFolderStatus - LocatedContractingParty - ParentLocatedParty - ParentLocatedParty - PartyName - Name</th>\n",
       "      <th>ContractFolderStatus - TenderingProcess - ParticipationRequestReceptionPeriod - EndDate</th>\n",
       "      <th>ContractFolderStatus - TenderingProcess - ParticipationRequestReceptionPeriod - EndTime</th>\n",
       "      <th>ContractFolderStatus - TenderResult - AwardedTenderedProject - ProcurementProjectLotID</th>\n",
       "    </tr>\n",
       "  </thead>\n",
       "  <tbody>\n",
       "    <tr>\n",
       "      <th>0</th>\n",
       "      <td>https://contrataciondelestado.es/sindicacion/P...</td>\n",
       "      <td>Id licitación: C. 2-2021; Órgano de Contrataci...</td>\n",
       "      <td>L'objecte del contracte és la renovació de tot...</td>\n",
       "      <td>2022-01-03T01:11:41.826+01:00</td>\n",
       "      <td>C. 2-2021</td>\n",
       "      <td>ADJ</td>\n",
       "      <td>https://contractaciopublica.gencat.cat/ecofin_...</td>\n",
       "      <td>Ajuntament de Sant Ramon</td>\n",
       "      <td>Entitats municipals de Catalunya</td>\n",
       "      <td>L'objecte del contracte és la renovació de tot...</td>\n",
       "      <td>...</td>\n",
       "      <td>NaN</td>\n",
       "      <td>NaN</td>\n",
       "      <td>NaN</td>\n",
       "      <td>NaN</td>\n",
       "      <td>NaN</td>\n",
       "      <td>NaN</td>\n",
       "      <td>NaN</td>\n",
       "      <td>NaN</td>\n",
       "      <td>NaN</td>\n",
       "      <td>NaN</td>\n",
       "    </tr>\n",
       "    <tr>\n",
       "      <th>1</th>\n",
       "      <td>https://contrataciondelestado.es/sindicacion/P...</td>\n",
       "      <td>Id licitación: 8128_3/2021; Órgano de Contrata...</td>\n",
       "      <td>Obras de restauración hidromorfológica del río...</td>\n",
       "      <td>2022-01-03T01:00:11.194+01:00</td>\n",
       "      <td>8128_3/2021</td>\n",
       "      <td>PUB</td>\n",
       "      <td>NaN</td>\n",
       "      <td>Pleno del Ayuntamiento</td>\n",
       "      <td>AYUNTAMIENTO DE MONREAL</td>\n",
       "      <td>Obras de restauración hidromorfológica del río...</td>\n",
       "      <td>...</td>\n",
       "      <td>NaN</td>\n",
       "      <td>NaN</td>\n",
       "      <td>NaN</td>\n",
       "      <td>NaN</td>\n",
       "      <td>NaN</td>\n",
       "      <td>NaN</td>\n",
       "      <td>NaN</td>\n",
       "      <td>NaN</td>\n",
       "      <td>NaN</td>\n",
       "      <td>NaN</td>\n",
       "    </tr>\n",
       "    <tr>\n",
       "      <th>2</th>\n",
       "      <td>https://contrataciondelestado.es/sindicacion/P...</td>\n",
       "      <td>Id licitación: 1000_0005-CP01-2021-000063; Órg...</td>\n",
       "      <td>Contrato del servicio de realización de labore...</td>\n",
       "      <td>2022-01-03T01:00:10.399+01:00</td>\n",
       "      <td>1000_0005-CP01-2021-000063</td>\n",
       "      <td>EV</td>\n",
       "      <td>NaN</td>\n",
       "      <td>El Director General de Comunicación y Relacion...</td>\n",
       "      <td>Departamento de Presidencia, Igualdad, Función...</td>\n",
       "      <td>Contrato del servicio de realización de labore...</td>\n",
       "      <td>...</td>\n",
       "      <td>NaN</td>\n",
       "      <td>NaN</td>\n",
       "      <td>NaN</td>\n",
       "      <td>NaN</td>\n",
       "      <td>NaN</td>\n",
       "      <td>NaN</td>\n",
       "      <td>NaN</td>\n",
       "      <td>NaN</td>\n",
       "      <td>NaN</td>\n",
       "      <td>NaN</td>\n",
       "    </tr>\n",
       "    <tr>\n",
       "      <th>3</th>\n",
       "      <td>https://contrataciondelestado.es/sindicacion/P...</td>\n",
       "      <td>Id licitación: 1379/2020 4738; Órgano de Contr...</td>\n",
       "      <td>Obres de renovació de l'enllumenat públic a la...</td>\n",
       "      <td>2022-01-03T00:11:40.740+01:00</td>\n",
       "      <td>1379/2020 4738</td>\n",
       "      <td>EV</td>\n",
       "      <td>https://contractaciopublica.gencat.cat/ecofin_...</td>\n",
       "      <td>Ajuntament de Canet de Mar</td>\n",
       "      <td>Entitats municipals de Catalunya</td>\n",
       "      <td>Obres de renovació de l'enllumenat públic a la...</td>\n",
       "      <td>...</td>\n",
       "      <td>https://contractaciopublica.gencat.cat/ecofin_...</td>\n",
       "      <td>NaN</td>\n",
       "      <td>NaN</td>\n",
       "      <td>NaN</td>\n",
       "      <td>NaN</td>\n",
       "      <td>NaN</td>\n",
       "      <td>NaN</td>\n",
       "      <td>NaN</td>\n",
       "      <td>NaN</td>\n",
       "      <td>NaN</td>\n",
       "    </tr>\n",
       "    <tr>\n",
       "      <th>4</th>\n",
       "      <td>https://contrataciondelestado.es/sindicacion/P...</td>\n",
       "      <td>Id licitación: 2021-44; Órgano de Contratación...</td>\n",
       "      <td>Subministre i la instal·lació fotovoltaica en ...</td>\n",
       "      <td>2022-01-03T00:11:40.696+01:00</td>\n",
       "      <td>2021-44</td>\n",
       "      <td>EV</td>\n",
       "      <td>https://contractaciopublica.gencat.cat/ecofin_...</td>\n",
       "      <td>Ajuntament de Valls</td>\n",
       "      <td>Entitats municipals de Catalunya</td>\n",
       "      <td>Subministre i la instal·lació fotovoltaica en ...</td>\n",
       "      <td>...</td>\n",
       "      <td>https://contractaciopublica.gencat.cat/ecofin_...</td>\n",
       "      <td>Enllac plec clausules tecniques.doc</td>\n",
       "      <td>https://contractaciopublica.gencat.cat/ecofin_...</td>\n",
       "      <td>NaN</td>\n",
       "      <td>NaN</td>\n",
       "      <td>NaN</td>\n",
       "      <td>NaN</td>\n",
       "      <td>NaN</td>\n",
       "      <td>NaN</td>\n",
       "      <td>NaN</td>\n",
       "    </tr>\n",
       "  </tbody>\n",
       "</table>\n",
       "<p>5 rows × 38 columns</p>\n",
       "</div>"
      ],
      "text/plain": [
       "                                                  id  \\\n",
       "0  https://contrataciondelestado.es/sindicacion/P...   \n",
       "1  https://contrataciondelestado.es/sindicacion/P...   \n",
       "2  https://contrataciondelestado.es/sindicacion/P...   \n",
       "3  https://contrataciondelestado.es/sindicacion/P...   \n",
       "4  https://contrataciondelestado.es/sindicacion/P...   \n",
       "\n",
       "                                             summary  \\\n",
       "0  Id licitación: C. 2-2021; Órgano de Contrataci...   \n",
       "1  Id licitación: 8128_3/2021; Órgano de Contrata...   \n",
       "2  Id licitación: 1000_0005-CP01-2021-000063; Órg...   \n",
       "3  Id licitación: 1379/2020 4738; Órgano de Contr...   \n",
       "4  Id licitación: 2021-44; Órgano de Contratación...   \n",
       "\n",
       "                                               title  \\\n",
       "0  L'objecte del contracte és la renovació de tot...   \n",
       "1  Obras de restauración hidromorfológica del río...   \n",
       "2  Contrato del servicio de realización de labore...   \n",
       "3  Obres de renovació de l'enllumenat públic a la...   \n",
       "4  Subministre i la instal·lació fotovoltaica en ...   \n",
       "\n",
       "                         updated ContractFolderStatus - ContractFolderID  \\\n",
       "0  2022-01-03T01:11:41.826+01:00                               C. 2-2021   \n",
       "1  2022-01-03T01:00:11.194+01:00                             8128_3/2021   \n",
       "2  2022-01-03T01:00:10.399+01:00              1000_0005-CP01-2021-000063   \n",
       "3  2022-01-03T00:11:40.740+01:00                          1379/2020 4738   \n",
       "4  2022-01-03T00:11:40.696+01:00                                 2021-44   \n",
       "\n",
       "  ContractFolderStatus - ContractFolderStatusCode  \\\n",
       "0                                             ADJ   \n",
       "1                                             PUB   \n",
       "2                                              EV   \n",
       "3                                              EV   \n",
       "4                                              EV   \n",
       "\n",
       "  ContractFolderStatus - LocatedContractingParty - BuyerProfileURIID  \\\n",
       "0  https://contractaciopublica.gencat.cat/ecofin_...                   \n",
       "1                                                NaN                   \n",
       "2                                                NaN                   \n",
       "3  https://contractaciopublica.gencat.cat/ecofin_...                   \n",
       "4  https://contractaciopublica.gencat.cat/ecofin_...                   \n",
       "\n",
       "  ContractFolderStatus - LocatedContractingParty - Party - PartyName - Name  \\\n",
       "0                           Ajuntament de Sant Ramon                          \n",
       "1                             Pleno del Ayuntamiento                          \n",
       "2  El Director General de Comunicación y Relacion...                          \n",
       "3                         Ajuntament de Canet de Mar                          \n",
       "4                                Ajuntament de Valls                          \n",
       "\n",
       "  ContractFolderStatus - LocatedContractingParty - ParentLocatedParty - PartyName - Name  \\\n",
       "0                   Entitats municipals de Catalunya                                       \n",
       "1                            AYUNTAMIENTO DE MONREAL                                       \n",
       "2  Departamento de Presidencia, Igualdad, Función...                                       \n",
       "3                   Entitats municipals de Catalunya                                       \n",
       "4                   Entitats municipals de Catalunya                                       \n",
       "\n",
       "    ContractFolderStatus - ProcurementProject - Name  ...  \\\n",
       "0  L'objecte del contracte és la renovació de tot...  ...   \n",
       "1  Obras de restauración hidromorfológica del río...  ...   \n",
       "2  Contrato del servicio de realización de labore...  ...   \n",
       "3  Obres de renovació de l'enllumenat públic a la...  ...   \n",
       "4  Subministre i la instal·lació fotovoltaica en ...  ...   \n",
       "\n",
       "  ContractFolderStatus - LegalDocumentReference - Attachment - ExternalReference - URI  \\\n",
       "0                                                NaN                                     \n",
       "1                                                NaN                                     \n",
       "2                                                NaN                                     \n",
       "3  https://contractaciopublica.gencat.cat/ecofin_...                                     \n",
       "4  https://contractaciopublica.gencat.cat/ecofin_...                                     \n",
       "\n",
       "  ContractFolderStatus - TechnicalDocumentReference - ID  \\\n",
       "0                                                NaN       \n",
       "1                                                NaN       \n",
       "2                                                NaN       \n",
       "3                                                NaN       \n",
       "4                Enllac plec clausules tecniques.doc       \n",
       "\n",
       "  ContractFolderStatus - TechnicalDocumentReference - Attachment - ExternalReference - URI  \\\n",
       "0                                                NaN                                         \n",
       "1                                                NaN                                         \n",
       "2                                                NaN                                         \n",
       "3                                                NaN                                         \n",
       "4  https://contractaciopublica.gencat.cat/ecofin_...                                         \n",
       "\n",
       "  ContractFolderStatus - ProcurementProject - PlannedPeriod - StartDate  \\\n",
       "0                                                NaN                      \n",
       "1                                                NaN                      \n",
       "2                                                NaN                      \n",
       "3                                                NaN                      \n",
       "4                                                NaN                      \n",
       "\n",
       "  ContractFolderStatus - ProcurementProject - PlannedPeriod - EndDate  \\\n",
       "0                                                NaN                    \n",
       "1                                                NaN                    \n",
       "2                                                NaN                    \n",
       "3                                                NaN                    \n",
       "4                                                NaN                    \n",
       "\n",
       "  ContractFolderStatus - LocatedContractingParty - Party - PartyIdentification - ID  \\\n",
       "0                                                NaN                                  \n",
       "1                                                NaN                                  \n",
       "2                                                NaN                                  \n",
       "3                                                NaN                                  \n",
       "4                                                NaN                                  \n",
       "\n",
       "  ContractFolderStatus - LocatedContractingParty - ParentLocatedParty - ParentLocatedParty - PartyName - Name  \\\n",
       "0                                                NaN                                                            \n",
       "1                                                NaN                                                            \n",
       "2                                                NaN                                                            \n",
       "3                                                NaN                                                            \n",
       "4                                                NaN                                                            \n",
       "\n",
       "  ContractFolderStatus - TenderingProcess - ParticipationRequestReceptionPeriod - EndDate  \\\n",
       "0                                                NaN                                        \n",
       "1                                                NaN                                        \n",
       "2                                                NaN                                        \n",
       "3                                                NaN                                        \n",
       "4                                                NaN                                        \n",
       "\n",
       "  ContractFolderStatus - TenderingProcess - ParticipationRequestReceptionPeriod - EndTime  \\\n",
       "0                                                NaN                                        \n",
       "1                                                NaN                                        \n",
       "2                                                NaN                                        \n",
       "3                                                NaN                                        \n",
       "4                                                NaN                                        \n",
       "\n",
       "  ContractFolderStatus - TenderResult - AwardedTenderedProject - ProcurementProjectLotID  \n",
       "0                                                NaN                                      \n",
       "1                                                NaN                                      \n",
       "2                                                NaN                                      \n",
       "3                                                NaN                                      \n",
       "4                                                NaN                                      \n",
       "\n",
       "[5 rows x 38 columns]"
      ]
     },
     "execution_count": null,
     "metadata": {},
     "output_type": "execute_result"
    }
   ],
   "source": [
    "homogenized_head_df = homogenize_multivalued(head_df)\n",
    "homogenized_head_df"
   ]
  },
  {
   "cell_type": "markdown",
   "id": "cbbe778e-1b33-455b-8f77-12545418e40d",
   "metadata": {},
   "source": [
    "Notice the affected columns are still *multivalued*"
   ]
  },
  {
   "cell_type": "code",
   "execution_count": null,
   "id": "21ce68d1-1c7a-434a-82e3-e6ba7be7c6ef",
   "metadata": {},
   "outputs": [],
   "source": [
    "assert sproc.structure.multivalued_columns(homogenized_head_df) == multivalued_columns"
   ]
  },
  {
   "cell_type": "markdown",
   "id": "17adee3f-f7dd-401f-9709-1dc3b97cee3a",
   "metadata": {},
   "source": [
    "A function to try and cast all the elements in a list to `float` falling back to `str` when *any single* element fails"
   ]
  },
  {
   "cell_type": "code",
   "execution_count": null,
   "id": "384d3e80-09dd-439c-8c3a-e9ba46f899f3",
   "metadata": {},
   "outputs": [],
   "source": [
    "#| export\n",
    "def cast_list_to_floats_or_strs(l: # Input\n",
    "    list) -> list: # Output\n",
    "    \"Homogenizes the elements in a list such that they are all either `float` or `str`\"\n",
    "    \n",
    "    # *scalar* Pandas' `pd.NA` are turned into Numpy's `np.nan`\n",
    "    l = [np.NAN if (type(e) != list) and (pd.isna(e)) else e for e in l]\n",
    "    \n",
    "    try:\n",
    "        return [float(e) for e in l]\n",
    "    \n",
    "    # `TypeError` most likely means there is (at least) one element that is a list\n",
    "    except (ValueError, TypeError):\n",
    "        \n",
    "        return [str(e) for e in l]"
   ]
  },
  {
   "cell_type": "markdown",
   "id": "6aa69313-6280-4117-b671-869155034345",
   "metadata": {},
   "source": [
    "Conversion to `float`s is fine"
   ]
  },
  {
   "cell_type": "code",
   "execution_count": null,
   "id": "27530bfd-7e3f-485d-98d8-e12cc75a0b53",
   "metadata": {},
   "outputs": [
    {
     "data": {
      "text/plain": [
       "[nan, 14.1]"
      ]
     },
     "execution_count": null,
     "metadata": {},
     "output_type": "execute_result"
    }
   ],
   "source": [
    "cast_list_to_floats_or_strs([np.NAN, '14.1'])"
   ]
  },
  {
   "cell_type": "markdown",
   "id": "2260de12-5693-4127-953c-2dd8e89d1dfa",
   "metadata": {},
   "source": [
    "Conversion to `float` is not possible due to the newly added last element"
   ]
  },
  {
   "cell_type": "code",
   "execution_count": null,
   "id": "21af2fee-52cb-4218-8200-60d656640a4d",
   "metadata": {},
   "outputs": [
    {
     "data": {
      "text/plain": [
       "['nan', '14.1', 'hola']"
      ]
     },
     "execution_count": null,
     "metadata": {},
     "output_type": "execute_result"
    }
   ],
   "source": [
    "cast_list_to_floats_or_strs([np.NAN, '14.1', 'hola'])"
   ]
  },
  {
   "cell_type": "markdown",
   "id": "168cac56-2c45-4d92-b097-281fc22f84d4",
   "metadata": {},
   "source": [
    "*Pandas*' `NA` are a special case"
   ]
  },
  {
   "cell_type": "code",
   "execution_count": null,
   "id": "396cecdb-cb16-4966-a099-c11b0ee48dfd",
   "metadata": {},
   "outputs": [
    {
     "data": {
      "text/plain": [
       "[1.0, 2.0, nan]"
      ]
     },
     "execution_count": null,
     "metadata": {},
     "output_type": "execute_result"
    }
   ],
   "source": [
    "cast_list_to_floats_or_strs([1.0, 2., pd.NA])"
   ]
  },
  {
   "cell_type": "markdown",
   "id": "3f5e5676-9d70-4094-a50b-02a35bdc4ebf",
   "metadata": {},
   "source": [
    "When nested lists are found, *every* element (either scalar or list) is converted to `str`"
   ]
  },
  {
   "cell_type": "code",
   "execution_count": null,
   "id": "0e7af91a-5a99-49e2-a9d7-ddfc608052c1",
   "metadata": {},
   "outputs": [
    {
     "data": {
      "text/plain": [
       "['3.14', '[1, 2]']"
      ]
     },
     "execution_count": null,
     "metadata": {},
     "output_type": "execute_result"
    }
   ],
   "source": [
    "converted = cast_list_to_floats_or_strs([3.14, [1, 2]])\n",
    "converted"
   ]
  },
  {
   "attachments": {},
   "cell_type": "markdown",
   "id": "a17422ef",
   "metadata": {},
   "source": [
    "The `list` was also turned into a `str`"
   ]
  },
  {
   "cell_type": "code",
   "execution_count": null,
   "id": "64084187-6542-462f-9686-1a5dc9d9dc6a",
   "metadata": {},
   "outputs": [
    {
     "data": {
      "text/plain": [
       "str"
      ]
     },
     "execution_count": null,
     "metadata": {},
     "output_type": "execute_result"
    }
   ],
   "source": [
    "type(converted[0])"
   ]
  },
  {
   "cell_type": "markdown",
   "id": "28936259-5040-4053-b0be-e4f74fa2fd73",
   "metadata": {},
   "source": [
    "For the sake of example, a *fake* `float` value is added to the first element, which until now consisted only of `str`s."
   ]
  },
  {
   "cell_type": "code",
   "execution_count": null,
   "id": "ba9ec86e-47b9-4073-a823-cb9a65b428a3",
   "metadata": {},
   "outputs": [],
   "source": [
    "# homogenized_head_df.loc[0, 'ContractFolderStatus - ValidNoticeInfo - NoticeTypeCode'].append(13.5)\n",
    "homogenized_head_df.loc[0, 'ContractFolderStatus - ValidNoticeInfo - NoticeTypeCode'].append([13.5])"
   ]
  },
  {
   "cell_type": "markdown",
   "id": "389714ea-7acc-4cf4-a120-05163b6fabe4",
   "metadata": {},
   "source": [
    "On the other hand, the second element is turned into `float`-only `list`."
   ]
  },
  {
   "cell_type": "code",
   "execution_count": null,
   "id": "ab29ddb8-0608-44af-868d-c62a78cd11c4",
   "metadata": {},
   "outputs": [
    {
     "data": {
      "text/plain": [
       "0    [[DOC_CN, DOC_CAN_ADJ], [13.5]]\n",
       "1                             [3.14]\n",
       "2                           [DOC_CN]\n",
       "3                           [DOC_CN]\n",
       "4                           [DOC_CN]\n",
       "Name: ContractFolderStatus - ValidNoticeInfo - NoticeTypeCode, dtype: object"
      ]
     },
     "execution_count": null,
     "metadata": {},
     "output_type": "execute_result"
    }
   ],
   "source": [
    "homogenized_head_df.loc[1, 'ContractFolderStatus - ValidNoticeInfo - NoticeTypeCode'] = [3.14]\n",
    "homogenized_head_df['ContractFolderStatus - ValidNoticeInfo - NoticeTypeCode']"
   ]
  },
  {
   "cell_type": "markdown",
   "id": "278f94e7-11f2-4b2f-86d5-bcd0e685c861",
   "metadata": {},
   "source": [
    "All the *individual* `list`s (a row in this column or `pd.Series`) are homogenized (all the values cast to the either `float` or `str`)"
   ]
  },
  {
   "cell_type": "code",
   "execution_count": null,
   "id": "1cb53eca-b9c3-4b24-8acd-ca30e982615c",
   "metadata": {},
   "outputs": [
    {
     "data": {
      "text/html": [
       "<div>\n",
       "<style scoped>\n",
       "    .dataframe tbody tr th:only-of-type {\n",
       "        vertical-align: middle;\n",
       "    }\n",
       "\n",
       "    .dataframe tbody tr th {\n",
       "        vertical-align: top;\n",
       "    }\n",
       "\n",
       "    .dataframe thead th {\n",
       "        text-align: right;\n",
       "    }\n",
       "</style>\n",
       "<table border=\"1\" class=\"dataframe\">\n",
       "  <thead>\n",
       "    <tr style=\"text-align: right;\">\n",
       "      <th></th>\n",
       "      <th>ContractFolderStatus - ValidNoticeInfo - NoticeTypeCode</th>\n",
       "      <th>ContractFolderStatus - ValidNoticeInfo - AdditionalPublicationStatus - PublicationMediaName</th>\n",
       "      <th>ContractFolderStatus - ValidNoticeInfo - AdditionalPublicationStatus - AdditionalPublicationDocumentReference - IssueDate</th>\n",
       "    </tr>\n",
       "  </thead>\n",
       "  <tbody>\n",
       "    <tr>\n",
       "      <th>0</th>\n",
       "      <td>[['DOC_CN', 'DOC_CAN_ADJ'], [13.5]]</td>\n",
       "      <td>[['Perfil del contratante', 'Perfil del contra...</td>\n",
       "      <td>[['2021-11-30', '2022-01-03']]</td>\n",
       "    </tr>\n",
       "    <tr>\n",
       "      <th>1</th>\n",
       "      <td>[3.14]</td>\n",
       "      <td>[Perfil del contratante]</td>\n",
       "      <td>[2022-01-03]</td>\n",
       "    </tr>\n",
       "    <tr>\n",
       "      <th>2</th>\n",
       "      <td>[DOC_CN]</td>\n",
       "      <td>[['DOUE', 'Perfil del contratante']]</td>\n",
       "      <td>[['2021-12-01', '2022-01-03']]</td>\n",
       "    </tr>\n",
       "    <tr>\n",
       "      <th>3</th>\n",
       "      <td>[DOC_CN]</td>\n",
       "      <td>[Perfil del contratante]</td>\n",
       "      <td>[2021-12-13]</td>\n",
       "    </tr>\n",
       "    <tr>\n",
       "      <th>4</th>\n",
       "      <td>[DOC_CN]</td>\n",
       "      <td>[Perfil del contratante]</td>\n",
       "      <td>[2021-12-17]</td>\n",
       "    </tr>\n",
       "  </tbody>\n",
       "</table>\n",
       "</div>"
      ],
      "text/plain": [
       "  ContractFolderStatus - ValidNoticeInfo - NoticeTypeCode  \\\n",
       "0                [['DOC_CN', 'DOC_CAN_ADJ'], [13.5]]        \n",
       "1                                             [3.14]        \n",
       "2                                           [DOC_CN]        \n",
       "3                                           [DOC_CN]        \n",
       "4                                           [DOC_CN]        \n",
       "\n",
       "  ContractFolderStatus - ValidNoticeInfo - AdditionalPublicationStatus - PublicationMediaName  \\\n",
       "0  [['Perfil del contratante', 'Perfil del contra...                                            \n",
       "1                           [Perfil del contratante]                                            \n",
       "2               [['DOUE', 'Perfil del contratante']]                                            \n",
       "3                           [Perfil del contratante]                                            \n",
       "4                           [Perfil del contratante]                                            \n",
       "\n",
       "  ContractFolderStatus - ValidNoticeInfo - AdditionalPublicationStatus - AdditionalPublicationDocumentReference - IssueDate  \n",
       "0                     [['2021-11-30', '2022-01-03']]                                                                         \n",
       "1                                       [2022-01-03]                                                                         \n",
       "2                     [['2021-12-01', '2022-01-03']]                                                                         \n",
       "3                                       [2021-12-13]                                                                         \n",
       "4                                       [2021-12-17]                                                                         "
      ]
     },
     "execution_count": null,
     "metadata": {},
     "output_type": "execute_result"
    }
   ],
   "source": [
    "cast_homogenized_head_df = homogenized_head_df[multivalued_columns].applymap(cast_list_to_floats_or_strs)\n",
    "cast_homogenized_head_df"
   ]
  },
  {
   "cell_type": "markdown",
   "id": "36c9a2ff-b29e-4898-a8c0-a8dc77a93cc6",
   "metadata": {},
   "source": [
    "However, the types across `list`s are not necessary the same"
   ]
  },
  {
   "cell_type": "code",
   "execution_count": null,
   "id": "dba5250e-3d0d-4047-b876-6e6fb3cfbe4f",
   "metadata": {},
   "outputs": [
    {
     "data": {
      "text/plain": [
       "0      <class 'str'>\n",
       "1    <class 'float'>\n",
       "2      <class 'str'>\n",
       "3      <class 'str'>\n",
       "4      <class 'str'>\n",
       "Name: ContractFolderStatus - ValidNoticeInfo - NoticeTypeCode, dtype: object"
      ]
     },
     "execution_count": null,
     "metadata": {},
     "output_type": "execute_result"
    }
   ],
   "source": [
    "cast_homogenized_head_df['ContractFolderStatus - ValidNoticeInfo - NoticeTypeCode'].apply(lambda x: type(x[0]))"
   ]
  },
  {
   "cell_type": "markdown",
   "id": "9d238c89-033c-4cf3-bdac-f448b768499d",
   "metadata": {},
   "source": [
    "A function to cast all the `list`s to a common type."
   ]
  },
  {
   "cell_type": "code",
   "execution_count": null,
   "id": "62156c03-d6a9-490e-b2a5-1cc1b7e36b84",
   "metadata": {},
   "outputs": [],
   "source": [
    "#| export\n",
    "def cast_multivalued_series_to_common_type(\n",
    "    s: pd.Series # Input\n",
    "    ) -> pd.Series: # Output\n",
    "    \"*Casts* all the lists in the input series to a common type\"\n",
    "    \n",
    "    types = set(s.apply(lambda x: type(x[0])))\n",
    "    # print(s.apply(lambda x: type(x[0])))\n",
    "    \n",
    "    if len(types) == 1:\n",
    "        \n",
    "        return s.copy()\n",
    "    \n",
    "    elif types == set([float, str]):\n",
    "        \n",
    "        return s.apply(lambda x: [str(e) for e in x])\n",
    "    \n",
    "    else:\n",
    "        \n",
    "        raise Exception(\"don't know how to handle these types\")"
   ]
  },
  {
   "attachments": {},
   "cell_type": "markdown",
   "id": "6d774e7a",
   "metadata": {},
   "source": [
    "We use the *cast* version (with homogeneous lists)"
   ]
  },
  {
   "cell_type": "code",
   "execution_count": null,
   "id": "783db05c",
   "metadata": {},
   "outputs": [
    {
     "data": {
      "text/plain": [
       "0    [['DOC_CN', 'DOC_CAN_ADJ'], [13.5]]\n",
       "1                                 [3.14]\n",
       "2                               [DOC_CN]\n",
       "3                               [DOC_CN]\n",
       "4                               [DOC_CN]\n",
       "Name: ContractFolderStatus - ValidNoticeInfo - NoticeTypeCode, dtype: object"
      ]
     },
     "execution_count": null,
     "metadata": {},
     "output_type": "execute_result"
    }
   ],
   "source": [
    "# cast_homogenized_head_df.loc[0, 'ContractFolderStatus - ValidNoticeInfo - NoticeTypeCode']\n",
    "cast_homogenized_head_df['ContractFolderStatus - ValidNoticeInfo - NoticeTypeCode']"
   ]
  },
  {
   "cell_type": "code",
   "execution_count": null,
   "id": "9616aa75-7edf-4154-b9a5-e5cdaaa0177c",
   "metadata": {},
   "outputs": [
    {
     "data": {
      "text/plain": [
       "0    [['DOC_CN', 'DOC_CAN_ADJ'], [13.5]]\n",
       "1                                 [3.14]\n",
       "2                               [DOC_CN]\n",
       "3                               [DOC_CN]\n",
       "4                               [DOC_CN]\n",
       "Name: ContractFolderStatus - ValidNoticeInfo - NoticeTypeCode, dtype: object"
      ]
     },
     "execution_count": null,
     "metadata": {},
     "output_type": "execute_result"
    }
   ],
   "source": [
    "# common_type_homogenized_head_df = cast_multivalued_series_to_common_type(homogenized_head_df['ContractFolderStatus - ValidNoticeInfo - NoticeTypeCode']) # <-------\n",
    "common_type_homogenized_head_df = cast_multivalued_series_to_common_type(cast_homogenized_head_df['ContractFolderStatus - ValidNoticeInfo - NoticeTypeCode'])\n",
    "common_type_homogenized_head_df"
   ]
  },
  {
   "cell_type": "code",
   "execution_count": null,
   "id": "0f94cbdd-88fa-40ea-a764-eb7c84a6c770",
   "metadata": {},
   "outputs": [
    {
     "data": {
      "text/plain": [
       "0    <class 'str'>\n",
       "1    <class 'str'>\n",
       "2    <class 'str'>\n",
       "3    <class 'str'>\n",
       "4    <class 'str'>\n",
       "Name: ContractFolderStatus - ValidNoticeInfo - NoticeTypeCode, dtype: object"
      ]
     },
     "execution_count": null,
     "metadata": {},
     "output_type": "execute_result"
    }
   ],
   "source": [
    "common_type_homogenized_head_df.apply(lambda x: type(x[0]))"
   ]
  },
  {
   "cell_type": "markdown",
   "id": "2f7caf59-8eba-4d15-829b-b8db5c742b2a",
   "metadata": {},
   "source": [
    "### Writing"
   ]
  },
  {
   "cell_type": "markdown",
   "id": "ccb3edde-6770-4a20-b9aa-b429a96b0f4d",
   "metadata": {},
   "source": [
    "A method to write a `pd.DataFrame` to disk"
   ]
  },
  {
   "cell_type": "code",
   "execution_count": null,
   "id": "4467c175-bf14-44c7-a15b-13fac8197be8",
   "metadata": {},
   "outputs": [],
   "source": [
    "#| export\n",
    "@fastcore.foundation.patch\n",
    "def write(self: File, df: pd.DataFrame):\n",
    "    \n",
    "    df.to_pickle(self.name)"
   ]
  },
  {
   "cell_type": "markdown",
   "id": "b474328e-12c2-4eed-a2f8-4ce96a360359",
   "metadata": {},
   "source": [
    "File is written"
   ]
  },
  {
   "cell_type": "code",
   "execution_count": null,
   "id": "2de50600-d082-4de4-b715-f004ffdc4645",
   "metadata": {},
   "outputs": [],
   "source": [
    "file.write(df)"
   ]
  },
  {
   "cell_type": "markdown",
   "id": "a978e9eb-f04b-4df5-a05b-15c59cf87582",
   "metadata": {},
   "source": [
    "Does it exist?"
   ]
  },
  {
   "cell_type": "code",
   "execution_count": null,
   "id": "01088120-c773-40d0-868b-c0a8c1139ed2",
   "metadata": {},
   "outputs": [
    {
     "data": {
      "text/plain": [
       "True"
      ]
     },
     "execution_count": null,
     "metadata": {},
     "output_type": "execute_result"
    }
   ],
   "source": [
    "file.exists()"
   ]
  },
  {
   "cell_type": "markdown",
   "id": "92e8b730-55bb-44c4-b802-43c62d17a3d0",
   "metadata": {},
   "source": [
    "## Loading"
   ]
  },
  {
   "cell_type": "code",
   "execution_count": null,
   "id": "236aef16-109f-46e4-8437-17cef52fe84d",
   "metadata": {},
   "outputs": [],
   "source": [
    "#| export\n",
    "@fastcore.foundation.patch\n",
    "def read(self: File) -> pd.DataFrame:\n",
    "    \n",
    "    return pd.read_pickle(self.name)"
   ]
  },
  {
   "cell_type": "code",
   "execution_count": null,
   "id": "d0d85caa-6107-4660-a8c2-9d4554cbb5a6",
   "metadata": {},
   "outputs": [
    {
     "data": {
      "text/html": [
       "<div>\n",
       "<style scoped>\n",
       "    .dataframe tbody tr th:only-of-type {\n",
       "        vertical-align: middle;\n",
       "    }\n",
       "\n",
       "    .dataframe tbody tr th {\n",
       "        vertical-align: top;\n",
       "    }\n",
       "\n",
       "    .dataframe thead th {\n",
       "        text-align: right;\n",
       "    }\n",
       "</style>\n",
       "<table border=\"1\" class=\"dataframe\">\n",
       "  <thead>\n",
       "    <tr style=\"text-align: right;\">\n",
       "      <th></th>\n",
       "      <th>id</th>\n",
       "      <th>summary</th>\n",
       "      <th>title</th>\n",
       "      <th>updated</th>\n",
       "      <th>ContractFolderStatus - ContractFolderID</th>\n",
       "      <th>ContractFolderStatus - ContractFolderStatusCode</th>\n",
       "      <th>ContractFolderStatus - LocatedContractingParty - BuyerProfileURIID</th>\n",
       "      <th>ContractFolderStatus - LocatedContractingParty - Party - PartyName - Name</th>\n",
       "      <th>ContractFolderStatus - LocatedContractingParty - ParentLocatedParty - PartyName - Name</th>\n",
       "      <th>ContractFolderStatus - ProcurementProject - Name</th>\n",
       "      <th>...</th>\n",
       "      <th>ContractFolderStatus - LegalDocumentReference - Attachment - ExternalReference - URI</th>\n",
       "      <th>ContractFolderStatus - TechnicalDocumentReference - ID</th>\n",
       "      <th>ContractFolderStatus - TechnicalDocumentReference - Attachment - ExternalReference - URI</th>\n",
       "      <th>ContractFolderStatus - ProcurementProject - PlannedPeriod - StartDate</th>\n",
       "      <th>ContractFolderStatus - ProcurementProject - PlannedPeriod - EndDate</th>\n",
       "      <th>ContractFolderStatus - LocatedContractingParty - Party - PartyIdentification - ID</th>\n",
       "      <th>ContractFolderStatus - LocatedContractingParty - ParentLocatedParty - ParentLocatedParty - PartyName - Name</th>\n",
       "      <th>ContractFolderStatus - TenderingProcess - ParticipationRequestReceptionPeriod - EndDate</th>\n",
       "      <th>ContractFolderStatus - TenderingProcess - ParticipationRequestReceptionPeriod - EndTime</th>\n",
       "      <th>ContractFolderStatus - TenderResult - AwardedTenderedProject - ProcurementProjectLotID</th>\n",
       "    </tr>\n",
       "  </thead>\n",
       "  <tbody>\n",
       "    <tr>\n",
       "      <th>0</th>\n",
       "      <td>https://contrataciondelestado.es/sindicacion/P...</td>\n",
       "      <td>Id licitación: C. 2-2021; Órgano de Contrataci...</td>\n",
       "      <td>L'objecte del contracte és la renovació de tot...</td>\n",
       "      <td>2022-01-03T01:11:41.826+01:00</td>\n",
       "      <td>C. 2-2021</td>\n",
       "      <td>ADJ</td>\n",
       "      <td>https://contractaciopublica.gencat.cat/ecofin_...</td>\n",
       "      <td>Ajuntament de Sant Ramon</td>\n",
       "      <td>Entitats municipals de Catalunya</td>\n",
       "      <td>L'objecte del contracte és la renovació de tot...</td>\n",
       "      <td>...</td>\n",
       "      <td>NaN</td>\n",
       "      <td>NaN</td>\n",
       "      <td>NaN</td>\n",
       "      <td>NaN</td>\n",
       "      <td>NaN</td>\n",
       "      <td>NaN</td>\n",
       "      <td>NaN</td>\n",
       "      <td>NaN</td>\n",
       "      <td>NaN</td>\n",
       "      <td>NaN</td>\n",
       "    </tr>\n",
       "    <tr>\n",
       "      <th>1</th>\n",
       "      <td>https://contrataciondelestado.es/sindicacion/P...</td>\n",
       "      <td>Id licitación: 8128_3/2021; Órgano de Contrata...</td>\n",
       "      <td>Obras de restauración hidromorfológica del río...</td>\n",
       "      <td>2022-01-03T01:00:11.194+01:00</td>\n",
       "      <td>8128_3/2021</td>\n",
       "      <td>PUB</td>\n",
       "      <td>NaN</td>\n",
       "      <td>Pleno del Ayuntamiento</td>\n",
       "      <td>AYUNTAMIENTO DE MONREAL</td>\n",
       "      <td>Obras de restauración hidromorfológica del río...</td>\n",
       "      <td>...</td>\n",
       "      <td>NaN</td>\n",
       "      <td>NaN</td>\n",
       "      <td>NaN</td>\n",
       "      <td>NaN</td>\n",
       "      <td>NaN</td>\n",
       "      <td>NaN</td>\n",
       "      <td>NaN</td>\n",
       "      <td>NaN</td>\n",
       "      <td>NaN</td>\n",
       "      <td>NaN</td>\n",
       "    </tr>\n",
       "    <tr>\n",
       "      <th>2</th>\n",
       "      <td>https://contrataciondelestado.es/sindicacion/P...</td>\n",
       "      <td>Id licitación: 1000_0005-CP01-2021-000063; Órg...</td>\n",
       "      <td>Contrato del servicio de realización de labore...</td>\n",
       "      <td>2022-01-03T01:00:10.399+01:00</td>\n",
       "      <td>1000_0005-CP01-2021-000063</td>\n",
       "      <td>EV</td>\n",
       "      <td>NaN</td>\n",
       "      <td>El Director General de Comunicación y Relacion...</td>\n",
       "      <td>Departamento de Presidencia, Igualdad, Función...</td>\n",
       "      <td>Contrato del servicio de realización de labore...</td>\n",
       "      <td>...</td>\n",
       "      <td>NaN</td>\n",
       "      <td>NaN</td>\n",
       "      <td>NaN</td>\n",
       "      <td>NaN</td>\n",
       "      <td>NaN</td>\n",
       "      <td>NaN</td>\n",
       "      <td>NaN</td>\n",
       "      <td>NaN</td>\n",
       "      <td>NaN</td>\n",
       "      <td>NaN</td>\n",
       "    </tr>\n",
       "    <tr>\n",
       "      <th>3</th>\n",
       "      <td>https://contrataciondelestado.es/sindicacion/P...</td>\n",
       "      <td>Id licitación: 1379/2020 4738; Órgano de Contr...</td>\n",
       "      <td>Obres de renovació de l'enllumenat públic a la...</td>\n",
       "      <td>2022-01-03T00:11:40.740+01:00</td>\n",
       "      <td>1379/2020 4738</td>\n",
       "      <td>EV</td>\n",
       "      <td>https://contractaciopublica.gencat.cat/ecofin_...</td>\n",
       "      <td>Ajuntament de Canet de Mar</td>\n",
       "      <td>Entitats municipals de Catalunya</td>\n",
       "      <td>Obres de renovació de l'enllumenat públic a la...</td>\n",
       "      <td>...</td>\n",
       "      <td>https://contractaciopublica.gencat.cat/ecofin_...</td>\n",
       "      <td>NaN</td>\n",
       "      <td>NaN</td>\n",
       "      <td>NaN</td>\n",
       "      <td>NaN</td>\n",
       "      <td>NaN</td>\n",
       "      <td>NaN</td>\n",
       "      <td>NaN</td>\n",
       "      <td>NaN</td>\n",
       "      <td>NaN</td>\n",
       "    </tr>\n",
       "    <tr>\n",
       "      <th>4</th>\n",
       "      <td>https://contrataciondelestado.es/sindicacion/P...</td>\n",
       "      <td>Id licitación: 2021-44; Órgano de Contratación...</td>\n",
       "      <td>Subministre i la instal·lació fotovoltaica en ...</td>\n",
       "      <td>2022-01-03T00:11:40.696+01:00</td>\n",
       "      <td>2021-44</td>\n",
       "      <td>EV</td>\n",
       "      <td>https://contractaciopublica.gencat.cat/ecofin_...</td>\n",
       "      <td>Ajuntament de Valls</td>\n",
       "      <td>Entitats municipals de Catalunya</td>\n",
       "      <td>Subministre i la instal·lació fotovoltaica en ...</td>\n",
       "      <td>...</td>\n",
       "      <td>https://contractaciopublica.gencat.cat/ecofin_...</td>\n",
       "      <td>Enllac plec clausules tecniques.doc</td>\n",
       "      <td>https://contractaciopublica.gencat.cat/ecofin_...</td>\n",
       "      <td>NaN</td>\n",
       "      <td>NaN</td>\n",
       "      <td>NaN</td>\n",
       "      <td>NaN</td>\n",
       "      <td>NaN</td>\n",
       "      <td>NaN</td>\n",
       "      <td>NaN</td>\n",
       "    </tr>\n",
       "  </tbody>\n",
       "</table>\n",
       "<p>5 rows × 38 columns</p>\n",
       "</div>"
      ],
      "text/plain": [
       "                                                  id  \\\n",
       "0  https://contrataciondelestado.es/sindicacion/P...   \n",
       "1  https://contrataciondelestado.es/sindicacion/P...   \n",
       "2  https://contrataciondelestado.es/sindicacion/P...   \n",
       "3  https://contrataciondelestado.es/sindicacion/P...   \n",
       "4  https://contrataciondelestado.es/sindicacion/P...   \n",
       "\n",
       "                                             summary  \\\n",
       "0  Id licitación: C. 2-2021; Órgano de Contrataci...   \n",
       "1  Id licitación: 8128_3/2021; Órgano de Contrata...   \n",
       "2  Id licitación: 1000_0005-CP01-2021-000063; Órg...   \n",
       "3  Id licitación: 1379/2020 4738; Órgano de Contr...   \n",
       "4  Id licitación: 2021-44; Órgano de Contratación...   \n",
       "\n",
       "                                               title  \\\n",
       "0  L'objecte del contracte és la renovació de tot...   \n",
       "1  Obras de restauración hidromorfológica del río...   \n",
       "2  Contrato del servicio de realización de labore...   \n",
       "3  Obres de renovació de l'enllumenat públic a la...   \n",
       "4  Subministre i la instal·lació fotovoltaica en ...   \n",
       "\n",
       "                         updated ContractFolderStatus - ContractFolderID  \\\n",
       "0  2022-01-03T01:11:41.826+01:00                               C. 2-2021   \n",
       "1  2022-01-03T01:00:11.194+01:00                             8128_3/2021   \n",
       "2  2022-01-03T01:00:10.399+01:00              1000_0005-CP01-2021-000063   \n",
       "3  2022-01-03T00:11:40.740+01:00                          1379/2020 4738   \n",
       "4  2022-01-03T00:11:40.696+01:00                                 2021-44   \n",
       "\n",
       "  ContractFolderStatus - ContractFolderStatusCode  \\\n",
       "0                                             ADJ   \n",
       "1                                             PUB   \n",
       "2                                              EV   \n",
       "3                                              EV   \n",
       "4                                              EV   \n",
       "\n",
       "  ContractFolderStatus - LocatedContractingParty - BuyerProfileURIID  \\\n",
       "0  https://contractaciopublica.gencat.cat/ecofin_...                   \n",
       "1                                                NaN                   \n",
       "2                                                NaN                   \n",
       "3  https://contractaciopublica.gencat.cat/ecofin_...                   \n",
       "4  https://contractaciopublica.gencat.cat/ecofin_...                   \n",
       "\n",
       "  ContractFolderStatus - LocatedContractingParty - Party - PartyName - Name  \\\n",
       "0                           Ajuntament de Sant Ramon                          \n",
       "1                             Pleno del Ayuntamiento                          \n",
       "2  El Director General de Comunicación y Relacion...                          \n",
       "3                         Ajuntament de Canet de Mar                          \n",
       "4                                Ajuntament de Valls                          \n",
       "\n",
       "  ContractFolderStatus - LocatedContractingParty - ParentLocatedParty - PartyName - Name  \\\n",
       "0                   Entitats municipals de Catalunya                                       \n",
       "1                            AYUNTAMIENTO DE MONREAL                                       \n",
       "2  Departamento de Presidencia, Igualdad, Función...                                       \n",
       "3                   Entitats municipals de Catalunya                                       \n",
       "4                   Entitats municipals de Catalunya                                       \n",
       "\n",
       "    ContractFolderStatus - ProcurementProject - Name  ...  \\\n",
       "0  L'objecte del contracte és la renovació de tot...  ...   \n",
       "1  Obras de restauración hidromorfológica del río...  ...   \n",
       "2  Contrato del servicio de realización de labore...  ...   \n",
       "3  Obres de renovació de l'enllumenat públic a la...  ...   \n",
       "4  Subministre i la instal·lació fotovoltaica en ...  ...   \n",
       "\n",
       "  ContractFolderStatus - LegalDocumentReference - Attachment - ExternalReference - URI  \\\n",
       "0                                                NaN                                     \n",
       "1                                                NaN                                     \n",
       "2                                                NaN                                     \n",
       "3  https://contractaciopublica.gencat.cat/ecofin_...                                     \n",
       "4  https://contractaciopublica.gencat.cat/ecofin_...                                     \n",
       "\n",
       "  ContractFolderStatus - TechnicalDocumentReference - ID  \\\n",
       "0                                                NaN       \n",
       "1                                                NaN       \n",
       "2                                                NaN       \n",
       "3                                                NaN       \n",
       "4                Enllac plec clausules tecniques.doc       \n",
       "\n",
       "  ContractFolderStatus - TechnicalDocumentReference - Attachment - ExternalReference - URI  \\\n",
       "0                                                NaN                                         \n",
       "1                                                NaN                                         \n",
       "2                                                NaN                                         \n",
       "3                                                NaN                                         \n",
       "4  https://contractaciopublica.gencat.cat/ecofin_...                                         \n",
       "\n",
       "  ContractFolderStatus - ProcurementProject - PlannedPeriod - StartDate  \\\n",
       "0                                                NaN                      \n",
       "1                                                NaN                      \n",
       "2                                                NaN                      \n",
       "3                                                NaN                      \n",
       "4                                                NaN                      \n",
       "\n",
       "  ContractFolderStatus - ProcurementProject - PlannedPeriod - EndDate  \\\n",
       "0                                                NaN                    \n",
       "1                                                NaN                    \n",
       "2                                                NaN                    \n",
       "3                                                NaN                    \n",
       "4                                                NaN                    \n",
       "\n",
       "  ContractFolderStatus - LocatedContractingParty - Party - PartyIdentification - ID  \\\n",
       "0                                                NaN                                  \n",
       "1                                                NaN                                  \n",
       "2                                                NaN                                  \n",
       "3                                                NaN                                  \n",
       "4                                                NaN                                  \n",
       "\n",
       "  ContractFolderStatus - LocatedContractingParty - ParentLocatedParty - ParentLocatedParty - PartyName - Name  \\\n",
       "0                                                NaN                                                            \n",
       "1                                                NaN                                                            \n",
       "2                                                NaN                                                            \n",
       "3                                                NaN                                                            \n",
       "4                                                NaN                                                            \n",
       "\n",
       "  ContractFolderStatus - TenderingProcess - ParticipationRequestReceptionPeriod - EndDate  \\\n",
       "0                                                NaN                                        \n",
       "1                                                NaN                                        \n",
       "2                                                NaN                                        \n",
       "3                                                NaN                                        \n",
       "4                                                NaN                                        \n",
       "\n",
       "  ContractFolderStatus - TenderingProcess - ParticipationRequestReceptionPeriod - EndTime  \\\n",
       "0                                                NaN                                        \n",
       "1                                                NaN                                        \n",
       "2                                                NaN                                        \n",
       "3                                                NaN                                        \n",
       "4                                                NaN                                        \n",
       "\n",
       "  ContractFolderStatus - TenderResult - AwardedTenderedProject - ProcurementProjectLotID  \n",
       "0                                                NaN                                      \n",
       "1                                                NaN                                      \n",
       "2                                                NaN                                      \n",
       "3                                                NaN                                      \n",
       "4                                                NaN                                      \n",
       "\n",
       "[5 rows x 38 columns]"
      ]
     },
     "execution_count": null,
     "metadata": {},
     "output_type": "execute_result"
    }
   ],
   "source": [
    "loaded_df = file.read()\n",
    "loaded_df.head()"
   ]
  },
  {
   "cell_type": "markdown",
   "id": "839cbd2b-4ef1-40b9-b5dd-d463f1f2e7e4",
   "metadata": {},
   "source": [
    "Saved and loaded `pd.DataFrame`s should be equal"
   ]
  },
  {
   "cell_type": "code",
   "execution_count": null,
   "id": "d1e80c8e-e9c4-4d06-89cc-e5dda867d089",
   "metadata": {},
   "outputs": [],
   "source": [
    "assert df.equals(loaded_df)"
   ]
  },
  {
   "cell_type": "code",
   "execution_count": null,
   "id": "e1529155-983d-4bbf-a4cb-30f2282daf45",
   "metadata": {},
   "outputs": [],
   "source": [
    "file.name.unlink()"
   ]
  },
  {
   "cell_type": "code",
   "execution_count": null,
   "id": "479aab5c-6318-4222-9b09-1b21ebb7893b",
   "metadata": {},
   "outputs": [],
   "source": [
    "#| hide\n",
    "from nbdev.doclinks import nbdev_export"
   ]
  },
  {
   "cell_type": "code",
   "execution_count": null,
   "id": "6f5a2a9a-6e86-436f-a0e2-0325d35f0ab3",
   "metadata": {},
   "outputs": [],
   "source": [
    "#| hide\n",
    "nbdev_export('40_io.ipynb')"
   ]
  }
 ],
 "metadata": {
  "kernelspec": {
   "display_name": "python3",
   "language": "python",
   "name": "python3"
  }
 },
 "nbformat": 4,
 "nbformat_minor": 5
}

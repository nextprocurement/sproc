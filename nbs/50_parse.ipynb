{
 "cells": [
  {
   "cell_type": "code",
   "execution_count": null,
   "id": "2b6181da-c92b-4df4-9e3d-69b88fb3d974",
   "metadata": {},
   "outputs": [],
   "source": [
    "#| default_exp parse"
   ]
  },
  {
   "cell_type": "markdown",
   "id": "004740ec-455b-43af-9cdf-792958c2619d",
   "metadata": {},
   "source": [
    "# parse\n",
    "\n",
    "> Parsing stuff"
   ]
  },
  {
   "cell_type": "code",
   "execution_count": null,
   "id": "73dc1246-97f2-437c-98e1-99c4b7298e1e",
   "metadata": {},
   "outputs": [],
   "source": [
    "#| export\n",
    "import pathlib\n",
    "import urllib.parse\n",
    "import datetime\n",
    "\n",
    "import pandas as pd\n",
    "\n",
    "import sproc.xml\n",
    "import sproc.hier"
   ]
  },
  {
   "cell_type": "markdown",
   "id": "7ab25901-1b73-4254-a981-406ac2491968",
   "metadata": {},
   "source": [
    "## Sample data"
   ]
  },
  {
   "cell_type": "markdown",
   "id": "352cb879-55aa-42ab-85c9-eadbb9dfca23",
   "metadata": {},
   "source": [
    "Directory where the data (*XML* files) are stored"
   ]
  },
  {
   "cell_type": "code",
   "execution_count": null,
   "id": "00682f2d-6641-4618-ac1b-ddcdfd988039",
   "metadata": {},
   "outputs": [
    {
     "data": {
      "text/plain": [
       "PosixPath('/home/manu/Sync/UC3M/proyectos/2022/nextProcurement/sproc/samples')"
      ]
     },
     "execution_count": null,
     "metadata": {},
     "output_type": "execute_result"
    }
   ],
   "source": [
    "directory = pathlib.Path.cwd().parent / 'samples'\n",
    "assert directory.exists()\n",
    "directory"
   ]
  },
  {
   "cell_type": "markdown",
   "id": "bade185b-0c00-4b00-a261-35ea245a3eec",
   "metadata": {},
   "source": [
    "A (sample) file in that directory"
   ]
  },
  {
   "cell_type": "code",
   "execution_count": null,
   "id": "a37e129f-21e3-4d61-837d-e33231afbe2a",
   "metadata": {},
   "outputs": [
    {
     "data": {
      "text/plain": [
       "PosixPath('/home/manu/Sync/UC3M/proyectos/2022/nextProcurement/sproc/samples/PlataformasAgregadasSinMenores_20220104_030016_1.atom')"
      ]
     },
     "execution_count": null,
     "metadata": {},
     "output_type": "execute_result"
    }
   ],
   "source": [
    "xml_file = directory / 'PlataformasAgregadasSinMenores_20220104_030016_1.atom'\n",
    "assert xml_file.exists()\n",
    "xml_file"
   ]
  },
  {
   "cell_type": "markdown",
   "id": "1690b526-f416-4724-ad09-2523c6797556",
   "metadata": {},
   "source": [
    "XML file is read into a **hierarchical** (*column-multiindex*) `pd.DataFrame`. **<font color='red'>CAVEAT:</font>** a hierarchical `pd.DataFrame` is assumed."
   ]
  },
  {
   "cell_type": "code",
   "execution_count": null,
   "id": "67cac1b3-6b77-4cd3-b9ac-b36f330fd43e",
   "metadata": {},
   "outputs": [
    {
     "data": {
      "text/html": [
       "<div>\n",
       "<style scoped>\n",
       "    .dataframe tbody tr th:only-of-type {\n",
       "        vertical-align: middle;\n",
       "    }\n",
       "\n",
       "    .dataframe tbody tr th {\n",
       "        vertical-align: top;\n",
       "    }\n",
       "\n",
       "    .dataframe thead tr th {\n",
       "        text-align: left;\n",
       "    }\n",
       "</style>\n",
       "<table border=\"1\" class=\"dataframe\">\n",
       "  <thead>\n",
       "    <tr>\n",
       "      <th></th>\n",
       "      <th>id</th>\n",
       "      <th>summary</th>\n",
       "      <th>title</th>\n",
       "      <th>updated</th>\n",
       "      <th colspan=\"17\" halign=\"left\">ContractFolderStatus</th>\n",
       "    </tr>\n",
       "    <tr>\n",
       "      <th></th>\n",
       "      <th></th>\n",
       "      <th></th>\n",
       "      <th></th>\n",
       "      <th></th>\n",
       "      <th>ContractFolderID</th>\n",
       "      <th>ContractFolderStatusCode</th>\n",
       "      <th colspan=\"3\" halign=\"left\">LocatedContractingParty</th>\n",
       "      <th>ProcurementProject</th>\n",
       "      <th>...</th>\n",
       "      <th colspan=\"2\" halign=\"left\">TechnicalDocumentReference</th>\n",
       "      <th colspan=\"2\" halign=\"left\">ProcurementProject</th>\n",
       "      <th colspan=\"2\" halign=\"left\">LocatedContractingParty</th>\n",
       "      <th colspan=\"2\" halign=\"left\">TenderingProcess</th>\n",
       "      <th>TenderResult</th>\n",
       "      <th>TenderingProcess</th>\n",
       "    </tr>\n",
       "    <tr>\n",
       "      <th></th>\n",
       "      <th></th>\n",
       "      <th></th>\n",
       "      <th></th>\n",
       "      <th></th>\n",
       "      <th></th>\n",
       "      <th></th>\n",
       "      <th>BuyerProfileURIID</th>\n",
       "      <th>Party</th>\n",
       "      <th>ParentLocatedParty</th>\n",
       "      <th>Name</th>\n",
       "      <th>...</th>\n",
       "      <th>ID</th>\n",
       "      <th>Attachment</th>\n",
       "      <th colspan=\"2\" halign=\"left\">PlannedPeriod</th>\n",
       "      <th>Party</th>\n",
       "      <th>ParentLocatedParty</th>\n",
       "      <th colspan=\"2\" halign=\"left\">ParticipationRequestReceptionPeriod</th>\n",
       "      <th>AwardedTenderedProject</th>\n",
       "      <th>TenderSubmissionDeadlinePeriod</th>\n",
       "    </tr>\n",
       "    <tr>\n",
       "      <th></th>\n",
       "      <th></th>\n",
       "      <th></th>\n",
       "      <th></th>\n",
       "      <th></th>\n",
       "      <th></th>\n",
       "      <th></th>\n",
       "      <th></th>\n",
       "      <th>PartyName</th>\n",
       "      <th>PartyName</th>\n",
       "      <th></th>\n",
       "      <th>...</th>\n",
       "      <th></th>\n",
       "      <th>ExternalReference</th>\n",
       "      <th>StartDate</th>\n",
       "      <th>EndDate</th>\n",
       "      <th>PartyIdentification</th>\n",
       "      <th>ParentLocatedParty</th>\n",
       "      <th>EndDate</th>\n",
       "      <th>EndTime</th>\n",
       "      <th>ProcurementProjectLotID</th>\n",
       "      <th></th>\n",
       "    </tr>\n",
       "    <tr>\n",
       "      <th></th>\n",
       "      <th></th>\n",
       "      <th></th>\n",
       "      <th></th>\n",
       "      <th></th>\n",
       "      <th></th>\n",
       "      <th></th>\n",
       "      <th></th>\n",
       "      <th>Name</th>\n",
       "      <th>Name</th>\n",
       "      <th></th>\n",
       "      <th>...</th>\n",
       "      <th></th>\n",
       "      <th>URI</th>\n",
       "      <th></th>\n",
       "      <th></th>\n",
       "      <th>ID</th>\n",
       "      <th>PartyName</th>\n",
       "      <th></th>\n",
       "      <th></th>\n",
       "      <th></th>\n",
       "      <th></th>\n",
       "    </tr>\n",
       "    <tr>\n",
       "      <th></th>\n",
       "      <th></th>\n",
       "      <th></th>\n",
       "      <th></th>\n",
       "      <th></th>\n",
       "      <th></th>\n",
       "      <th></th>\n",
       "      <th></th>\n",
       "      <th></th>\n",
       "      <th></th>\n",
       "      <th></th>\n",
       "      <th>...</th>\n",
       "      <th></th>\n",
       "      <th></th>\n",
       "      <th></th>\n",
       "      <th></th>\n",
       "      <th></th>\n",
       "      <th>Name</th>\n",
       "      <th></th>\n",
       "      <th></th>\n",
       "      <th></th>\n",
       "      <th></th>\n",
       "    </tr>\n",
       "  </thead>\n",
       "  <tbody>\n",
       "    <tr>\n",
       "      <th>0</th>\n",
       "      <td>https://contrataciondelestado.es/sindicacion/P...</td>\n",
       "      <td>Id licitación: C. 2-2021; Órgano de Contrataci...</td>\n",
       "      <td>L'objecte del contracte és la renovació de tot...</td>\n",
       "      <td>2022-01-03 00:11:41.826000+00:00</td>\n",
       "      <td>C. 2-2021</td>\n",
       "      <td>ADJ</td>\n",
       "      <td>https://contractaciopublica.gencat.cat/ecofin_...</td>\n",
       "      <td>Ajuntament de Sant Ramon</td>\n",
       "      <td>Entitats municipals de Catalunya</td>\n",
       "      <td>L'objecte del contracte és la renovació de tot...</td>\n",
       "      <td>...</td>\n",
       "      <td>&lt;NA&gt;</td>\n",
       "      <td>&lt;NA&gt;</td>\n",
       "      <td>&lt;NA&gt;</td>\n",
       "      <td>&lt;NA&gt;</td>\n",
       "      <td>&lt;NA&gt;</td>\n",
       "      <td>&lt;NA&gt;</td>\n",
       "      <td>&lt;NA&gt;</td>\n",
       "      <td>&lt;NA&gt;</td>\n",
       "      <td>NaN</td>\n",
       "      <td>2021-12-17 14:00:00+00:00</td>\n",
       "    </tr>\n",
       "    <tr>\n",
       "      <th>1</th>\n",
       "      <td>https://contrataciondelestado.es/sindicacion/P...</td>\n",
       "      <td>Id licitación: 8128_3/2021; Órgano de Contrata...</td>\n",
       "      <td>Obras de restauración hidromorfológica del río...</td>\n",
       "      <td>2022-01-03 00:00:11.194000+00:00</td>\n",
       "      <td>8128_3/2021</td>\n",
       "      <td>PUB</td>\n",
       "      <td>&lt;NA&gt;</td>\n",
       "      <td>Pleno del Ayuntamiento</td>\n",
       "      <td>AYUNTAMIENTO DE MONREAL</td>\n",
       "      <td>Obras de restauración hidromorfológica del río...</td>\n",
       "      <td>...</td>\n",
       "      <td>&lt;NA&gt;</td>\n",
       "      <td>&lt;NA&gt;</td>\n",
       "      <td>&lt;NA&gt;</td>\n",
       "      <td>&lt;NA&gt;</td>\n",
       "      <td>&lt;NA&gt;</td>\n",
       "      <td>&lt;NA&gt;</td>\n",
       "      <td>&lt;NA&gt;</td>\n",
       "      <td>&lt;NA&gt;</td>\n",
       "      <td>NaN</td>\n",
       "      <td>2022-01-22 23:30:00+00:00</td>\n",
       "    </tr>\n",
       "    <tr>\n",
       "      <th>2</th>\n",
       "      <td>https://contrataciondelestado.es/sindicacion/P...</td>\n",
       "      <td>Id licitación: 1000_0005-CP01-2021-000063; Órg...</td>\n",
       "      <td>Contrato del servicio de realización de labore...</td>\n",
       "      <td>2022-01-03 00:00:10.399000+00:00</td>\n",
       "      <td>1000_0005-CP01-2021-000063</td>\n",
       "      <td>EV</td>\n",
       "      <td>&lt;NA&gt;</td>\n",
       "      <td>El Director General de Comunicación y Relacion...</td>\n",
       "      <td>Departamento de Presidencia, Igualdad, Función...</td>\n",
       "      <td>Contrato del servicio de realización de labore...</td>\n",
       "      <td>...</td>\n",
       "      <td>&lt;NA&gt;</td>\n",
       "      <td>&lt;NA&gt;</td>\n",
       "      <td>&lt;NA&gt;</td>\n",
       "      <td>&lt;NA&gt;</td>\n",
       "      <td>&lt;NA&gt;</td>\n",
       "      <td>&lt;NA&gt;</td>\n",
       "      <td>&lt;NA&gt;</td>\n",
       "      <td>&lt;NA&gt;</td>\n",
       "      <td>NaN</td>\n",
       "      <td>NaT</td>\n",
       "    </tr>\n",
       "    <tr>\n",
       "      <th>3</th>\n",
       "      <td>https://contrataciondelestado.es/sindicacion/P...</td>\n",
       "      <td>Id licitación: 1379/2020 4738; Órgano de Contr...</td>\n",
       "      <td>Obres de renovació de l'enllumenat públic a la...</td>\n",
       "      <td>2022-01-02 23:11:40.740000+00:00</td>\n",
       "      <td>1379/2020 4738</td>\n",
       "      <td>EV</td>\n",
       "      <td>https://contractaciopublica.gencat.cat/ecofin_...</td>\n",
       "      <td>Ajuntament de Canet de Mar</td>\n",
       "      <td>Entitats municipals de Catalunya</td>\n",
       "      <td>Obres de renovació de l'enllumenat públic a la...</td>\n",
       "      <td>...</td>\n",
       "      <td>&lt;NA&gt;</td>\n",
       "      <td>&lt;NA&gt;</td>\n",
       "      <td>&lt;NA&gt;</td>\n",
       "      <td>&lt;NA&gt;</td>\n",
       "      <td>&lt;NA&gt;</td>\n",
       "      <td>&lt;NA&gt;</td>\n",
       "      <td>&lt;NA&gt;</td>\n",
       "      <td>&lt;NA&gt;</td>\n",
       "      <td>NaN</td>\n",
       "      <td>2022-01-02 23:59:00+00:00</td>\n",
       "    </tr>\n",
       "    <tr>\n",
       "      <th>4</th>\n",
       "      <td>https://contrataciondelestado.es/sindicacion/P...</td>\n",
       "      <td>Id licitación: 2021-44; Órgano de Contratación...</td>\n",
       "      <td>Subministre i la instal·lació fotovoltaica en ...</td>\n",
       "      <td>2022-01-02 23:11:40.696000+00:00</td>\n",
       "      <td>2021-44</td>\n",
       "      <td>EV</td>\n",
       "      <td>https://contractaciopublica.gencat.cat/ecofin_...</td>\n",
       "      <td>Ajuntament de Valls</td>\n",
       "      <td>Entitats municipals de Catalunya</td>\n",
       "      <td>Subministre i la instal·lació fotovoltaica en ...</td>\n",
       "      <td>...</td>\n",
       "      <td>Enllac plec clausules tecniques.doc</td>\n",
       "      <td>https://contractaciopublica.gencat.cat/ecofin_...</td>\n",
       "      <td>&lt;NA&gt;</td>\n",
       "      <td>&lt;NA&gt;</td>\n",
       "      <td>&lt;NA&gt;</td>\n",
       "      <td>&lt;NA&gt;</td>\n",
       "      <td>&lt;NA&gt;</td>\n",
       "      <td>&lt;NA&gt;</td>\n",
       "      <td>NaN</td>\n",
       "      <td>2022-01-02 23:59:00+00:00</td>\n",
       "    </tr>\n",
       "  </tbody>\n",
       "</table>\n",
       "<p>5 rows × 39 columns</p>\n",
       "</div>"
      ],
      "text/plain": [
       "                                                  id  \\\n",
       "                                                       \n",
       "                                                       \n",
       "                                                       \n",
       "                                                       \n",
       "                                                       \n",
       "0  https://contrataciondelestado.es/sindicacion/P...   \n",
       "1  https://contrataciondelestado.es/sindicacion/P...   \n",
       "2  https://contrataciondelestado.es/sindicacion/P...   \n",
       "3  https://contrataciondelestado.es/sindicacion/P...   \n",
       "4  https://contrataciondelestado.es/sindicacion/P...   \n",
       "\n",
       "                                             summary  \\\n",
       "                                                       \n",
       "                                                       \n",
       "                                                       \n",
       "                                                       \n",
       "                                                       \n",
       "0  Id licitación: C. 2-2021; Órgano de Contrataci...   \n",
       "1  Id licitación: 8128_3/2021; Órgano de Contrata...   \n",
       "2  Id licitación: 1000_0005-CP01-2021-000063; Órg...   \n",
       "3  Id licitación: 1379/2020 4738; Órgano de Contr...   \n",
       "4  Id licitación: 2021-44; Órgano de Contratación...   \n",
       "\n",
       "                                               title  \\\n",
       "                                                       \n",
       "                                                       \n",
       "                                                       \n",
       "                                                       \n",
       "                                                       \n",
       "0  L'objecte del contracte és la renovació de tot...   \n",
       "1  Obras de restauración hidromorfológica del río...   \n",
       "2  Contrato del servicio de realización de labore...   \n",
       "3  Obres de renovació de l'enllumenat públic a la...   \n",
       "4  Subministre i la instal·lació fotovoltaica en ...   \n",
       "\n",
       "                           updated        ContractFolderStatus  \\\n",
       "                                              ContractFolderID   \n",
       "                                                                 \n",
       "                                                                 \n",
       "                                                                 \n",
       "                                                                 \n",
       "0 2022-01-03 00:11:41.826000+00:00                   C. 2-2021   \n",
       "1 2022-01-03 00:00:11.194000+00:00                 8128_3/2021   \n",
       "2 2022-01-03 00:00:10.399000+00:00  1000_0005-CP01-2021-000063   \n",
       "3 2022-01-02 23:11:40.740000+00:00              1379/2020 4738   \n",
       "4 2022-01-02 23:11:40.696000+00:00                     2021-44   \n",
       "\n",
       "                                                                               \\\n",
       "  ContractFolderStatusCode                            LocatedContractingParty   \n",
       "                                                            BuyerProfileURIID   \n",
       "                                                                                \n",
       "                                                                                \n",
       "                                                                                \n",
       "0                      ADJ  https://contractaciopublica.gencat.cat/ecofin_...   \n",
       "1                      PUB                                               <NA>   \n",
       "2                       EV                                               <NA>   \n",
       "3                       EV  https://contractaciopublica.gencat.cat/ecofin_...   \n",
       "4                       EV  https://contractaciopublica.gencat.cat/ecofin_...   \n",
       "\n",
       "                                                      \\\n",
       "                                                       \n",
       "                                               Party   \n",
       "                                           PartyName   \n",
       "                                                Name   \n",
       "                                                       \n",
       "0                           Ajuntament de Sant Ramon   \n",
       "1                             Pleno del Ayuntamiento   \n",
       "2  El Director General de Comunicación y Relacion...   \n",
       "3                         Ajuntament de Canet de Mar   \n",
       "4                                Ajuntament de Valls   \n",
       "\n",
       "                                                      \\\n",
       "                                                       \n",
       "                                  ParentLocatedParty   \n",
       "                                           PartyName   \n",
       "                                                Name   \n",
       "                                                       \n",
       "0                   Entitats municipals de Catalunya   \n",
       "1                            AYUNTAMIENTO DE MONREAL   \n",
       "2  Departamento de Presidencia, Igualdad, Función...   \n",
       "3                   Entitats municipals de Catalunya   \n",
       "4                   Entitats municipals de Catalunya   \n",
       "\n",
       "                                                      ...  \\\n",
       "                                  ProcurementProject  ...   \n",
       "                                                Name  ...   \n",
       "                                                      ...   \n",
       "                                                      ...   \n",
       "                                                      ...   \n",
       "0  L'objecte del contracte és la renovació de tot...  ...   \n",
       "1  Obras de restauración hidromorfológica del río...  ...   \n",
       "2  Contrato del servicio de realización de labore...  ...   \n",
       "3  Obres de renovació de l'enllumenat públic a la...  ...   \n",
       "4  Subministre i la instal·lació fotovoltaica en ...  ...   \n",
       "\n",
       "                                        \\\n",
       "            TechnicalDocumentReference   \n",
       "                                    ID   \n",
       "                                         \n",
       "                                         \n",
       "                                         \n",
       "0                                 <NA>   \n",
       "1                                 <NA>   \n",
       "2                                 <NA>   \n",
       "3                                 <NA>   \n",
       "4  Enllac plec clausules tecniques.doc   \n",
       "\n",
       "                                                                         \\\n",
       "                                                     ProcurementProject   \n",
       "                                          Attachment      PlannedPeriod   \n",
       "                                   ExternalReference          StartDate   \n",
       "                                                 URI                      \n",
       "                                                                          \n",
       "0                                               <NA>               <NA>   \n",
       "1                                               <NA>               <NA>   \n",
       "2                                               <NA>               <NA>   \n",
       "3                                               <NA>               <NA>   \n",
       "4  https://contractaciopublica.gencat.cat/ecofin_...               <NA>   \n",
       "\n",
       "                                                      \\\n",
       "          LocatedContractingParty                      \n",
       "                            Party ParentLocatedParty   \n",
       "  EndDate     PartyIdentification ParentLocatedParty   \n",
       "                               ID          PartyName   \n",
       "                                                Name   \n",
       "0    <NA>                    <NA>               <NA>   \n",
       "1    <NA>                    <NA>               <NA>   \n",
       "2    <NA>                    <NA>               <NA>   \n",
       "3    <NA>                    <NA>               <NA>   \n",
       "4    <NA>                    <NA>               <NA>   \n",
       "\n",
       "                                                                       \\\n",
       "                     TenderingProcess                    TenderResult   \n",
       "  ParticipationRequestReceptionPeriod          AwardedTenderedProject   \n",
       "                              EndDate EndTime ProcurementProjectLotID   \n",
       "                                                                        \n",
       "                                                                        \n",
       "0                                <NA>    <NA>                     NaN   \n",
       "1                                <NA>    <NA>                     NaN   \n",
       "2                                <NA>    <NA>                     NaN   \n",
       "3                                <NA>    <NA>                     NaN   \n",
       "4                                <NA>    <NA>                     NaN   \n",
       "\n",
       "                                  \n",
       "                TenderingProcess  \n",
       "  TenderSubmissionDeadlinePeriod  \n",
       "                                  \n",
       "                                  \n",
       "                                  \n",
       "0      2021-12-17 14:00:00+00:00  \n",
       "1      2022-01-22 23:30:00+00:00  \n",
       "2                            NaT  \n",
       "3      2022-01-02 23:59:00+00:00  \n",
       "4      2022-01-02 23:59:00+00:00  \n",
       "\n",
       "[5 rows x 39 columns]"
      ]
     },
     "execution_count": null,
     "metadata": {},
     "output_type": "execute_result"
    }
   ],
   "source": [
    "df = sproc.hier.flat_df_to_multiindexed_df(sproc.xml.to_curated_df(xml_file))\n",
    "df.head()"
   ]
  },
  {
   "cell_type": "markdown",
   "id": "dc087d04-0dcb-4134-8541-9891c5186038",
   "metadata": {},
   "source": [
    "The column to discriminate regions"
   ]
  },
  {
   "cell_type": "code",
   "execution_count": null,
   "id": "7947da81-313c-48fd-884d-4a083186e5cb",
   "metadata": {},
   "outputs": [],
   "source": [
    "#| export\n",
    "domain_discriminative_columns_paths = [\n",
    "    ['ContractFolderStatus', 'LocatedContractingParty', 'BuyerProfileURIID'],\n",
    "    ['ContractFolderStatus', 'LegalDocumentReference', 'Attachment', 'ExternalReference', 'URI']\n",
    "]"
   ]
  },
  {
   "cell_type": "markdown",
   "id": "18ea7458-ae15-4ccb-a06d-f50c0c8757c7",
   "metadata": {},
   "source": [
    "It is turned"
   ]
  },
  {
   "cell_type": "code",
   "execution_count": null,
   "id": "ab9e166d-11c3-47d4-9bae-e5a49c0219fd",
   "metadata": {},
   "outputs": [
    {
     "data": {
      "text/plain": [
       "[('ContractFolderStatus',\n",
       "  'LocatedContractingParty',\n",
       "  'BuyerProfileURIID',\n",
       "  '',\n",
       "  '',\n",
       "  ''),\n",
       " ('ContractFolderStatus',\n",
       "  'LegalDocumentReference',\n",
       "  'Attachment',\n",
       "  'ExternalReference',\n",
       "  'URI',\n",
       "  '')]"
      ]
     },
     "execution_count": null,
     "metadata": {},
     "output_type": "execute_result"
    }
   ],
   "source": [
    "domain_discriminative_columns = [sproc.hier.pad_col_levels(df, p) for p in domain_discriminative_columns_paths]\n",
    "domain_discriminative_columns"
   ]
  },
  {
   "cell_type": "markdown",
   "id": "9101dee6-0973-4ce8-ac78-fd8efeb70372",
   "metadata": {},
   "source": [
    "Unique values of the *first* one"
   ]
  },
  {
   "cell_type": "code",
   "execution_count": null,
   "id": "a04590c8-f38c-4373-b019-626213753a02",
   "metadata": {},
   "outputs": [
    {
     "data": {
      "text/plain": [
       "['https://contractaciopublica.gencat.cat/ecofin_pscp/AppJava/cap.pscp?reqCode=viewDetail&idCap=2763318',\n",
       " <NA>,\n",
       " 'https://contractaciopublica.gencat.cat/ecofin_pscp/AppJava/cap.pscp?reqCode=viewDetail&idCap=29178875',\n",
       " 'https://contractaciopublica.gencat.cat/ecofin_pscp/AppJava/cap.pscp?reqCode=viewDetail&idCap=8530338',\n",
       " 'https://contractaciopublica.gencat.cat/ecofin_pscp/AppJava/cap.pscp?reqCode=viewDetail&idCap=16054009']"
      ]
     },
     "execution_count": null,
     "metadata": {},
     "output_type": "execute_result"
    }
   ],
   "source": [
    "unique_values = df[domain_discriminative_columns[0]].unique().tolist()\n",
    "unique_values[:5]"
   ]
  },
  {
   "cell_type": "markdown",
   "id": "462d6b19-5700-441e-af3b-c9f1c5fab0c7",
   "metadata": {},
   "source": [
    "`pd.NA` values are filtered out"
   ]
  },
  {
   "cell_type": "code",
   "execution_count": null,
   "id": "1f18da9a-0cb2-4dc6-a5d6-1d6547fd37ba",
   "metadata": {},
   "outputs": [
    {
     "data": {
      "text/plain": [
       "['https://contractaciopublica.gencat.cat/ecofin_pscp/AppJava/cap.pscp?reqCode=viewDetail&idCap=2763318',\n",
       " 'https://contractaciopublica.gencat.cat/ecofin_pscp/AppJava/cap.pscp?reqCode=viewDetail&idCap=29178875',\n",
       " 'https://contractaciopublica.gencat.cat/ecofin_pscp/AppJava/cap.pscp?reqCode=viewDetail&idCap=8530338',\n",
       " 'https://contractaciopublica.gencat.cat/ecofin_pscp/AppJava/cap.pscp?reqCode=viewDetail&idCap=16054009',\n",
       " 'https://contractaciopublica.gencat.cat/ecofin_pscp/AppJava/cap.pscp?reqCode=viewDetail&idCap=15937468']"
      ]
     },
     "execution_count": null,
     "metadata": {},
     "output_type": "execute_result"
    }
   ],
   "source": [
    "unique_values = list(filter(pd.notna, unique_values))\n",
    "unique_values[:5]"
   ]
  },
  {
   "cell_type": "markdown",
   "id": "f38eb1a0-817d-4748-af1e-38b5babda33f",
   "metadata": {},
   "source": [
    "A one-liner returning a `pd.DataFrame` of columns with *parsed* domains"
   ]
  },
  {
   "cell_type": "code",
   "execution_count": null,
   "id": "0bbdee1e-e2c4-4987-a663-74a8dbde0b42",
   "metadata": {},
   "outputs": [
    {
     "data": {
      "text/html": [
       "<div>\n",
       "<style scoped>\n",
       "    .dataframe tbody tr th:only-of-type {\n",
       "        vertical-align: middle;\n",
       "    }\n",
       "\n",
       "    .dataframe tbody tr th {\n",
       "        vertical-align: top;\n",
       "    }\n",
       "\n",
       "    .dataframe thead tr th {\n",
       "        text-align: left;\n",
       "    }\n",
       "</style>\n",
       "<table border=\"1\" class=\"dataframe\">\n",
       "  <thead>\n",
       "    <tr>\n",
       "      <th></th>\n",
       "      <th colspan=\"2\" halign=\"left\">ContractFolderStatus</th>\n",
       "    </tr>\n",
       "    <tr>\n",
       "      <th></th>\n",
       "      <th>LocatedContractingParty</th>\n",
       "      <th>LegalDocumentReference</th>\n",
       "    </tr>\n",
       "    <tr>\n",
       "      <th></th>\n",
       "      <th>BuyerProfileURIID</th>\n",
       "      <th>Attachment</th>\n",
       "    </tr>\n",
       "    <tr>\n",
       "      <th></th>\n",
       "      <th></th>\n",
       "      <th>ExternalReference</th>\n",
       "    </tr>\n",
       "    <tr>\n",
       "      <th></th>\n",
       "      <th></th>\n",
       "      <th>URI</th>\n",
       "    </tr>\n",
       "    <tr>\n",
       "      <th></th>\n",
       "      <th></th>\n",
       "      <th></th>\n",
       "    </tr>\n",
       "  </thead>\n",
       "  <tbody>\n",
       "    <tr>\n",
       "      <th>0</th>\n",
       "      <td>contractaciopublica.gencat.cat</td>\n",
       "      <td>&lt;NA&gt;</td>\n",
       "    </tr>\n",
       "    <tr>\n",
       "      <th>1</th>\n",
       "      <td>&lt;NA&gt;</td>\n",
       "      <td>&lt;NA&gt;</td>\n",
       "    </tr>\n",
       "    <tr>\n",
       "      <th>2</th>\n",
       "      <td>&lt;NA&gt;</td>\n",
       "      <td>&lt;NA&gt;</td>\n",
       "    </tr>\n",
       "    <tr>\n",
       "      <th>3</th>\n",
       "      <td>contractaciopublica.gencat.cat</td>\n",
       "      <td>contractaciopublica.gencat.cat</td>\n",
       "    </tr>\n",
       "    <tr>\n",
       "      <th>4</th>\n",
       "      <td>contractaciopublica.gencat.cat</td>\n",
       "      <td>contractaciopublica.gencat.cat</td>\n",
       "    </tr>\n",
       "    <tr>\n",
       "      <th>...</th>\n",
       "      <td>...</td>\n",
       "      <td>...</td>\n",
       "    </tr>\n",
       "    <tr>\n",
       "      <th>112</th>\n",
       "      <td>NaN</td>\n",
       "      <td>NaN</td>\n",
       "    </tr>\n",
       "    <tr>\n",
       "      <th>113</th>\n",
       "      <td>NaN</td>\n",
       "      <td>NaN</td>\n",
       "    </tr>\n",
       "    <tr>\n",
       "      <th>114</th>\n",
       "      <td>NaN</td>\n",
       "      <td>NaN</td>\n",
       "    </tr>\n",
       "    <tr>\n",
       "      <th>115</th>\n",
       "      <td>NaN</td>\n",
       "      <td>NaN</td>\n",
       "    </tr>\n",
       "    <tr>\n",
       "      <th>116</th>\n",
       "      <td>NaN</td>\n",
       "      <td>NaN</td>\n",
       "    </tr>\n",
       "  </tbody>\n",
       "</table>\n",
       "<p>117 rows × 2 columns</p>\n",
       "</div>"
      ],
      "text/plain": [
       "               ContractFolderStatus                                \n",
       "            LocatedContractingParty          LegalDocumentReference\n",
       "                  BuyerProfileURIID                      Attachment\n",
       "                                                  ExternalReference\n",
       "                                                                URI\n",
       "                                                                   \n",
       "0    contractaciopublica.gencat.cat                            <NA>\n",
       "1                              <NA>                            <NA>\n",
       "2                              <NA>                            <NA>\n",
       "3    contractaciopublica.gencat.cat  contractaciopublica.gencat.cat\n",
       "4    contractaciopublica.gencat.cat  contractaciopublica.gencat.cat\n",
       "..                              ...                             ...\n",
       "112                             NaN                             NaN\n",
       "113                             NaN                             NaN\n",
       "114                             NaN                             NaN\n",
       "115                             NaN                             NaN\n",
       "116                             NaN                             NaN\n",
       "\n",
       "[117 rows x 2 columns]"
      ]
     },
     "execution_count": null,
     "metadata": {},
     "output_type": "execute_result"
    }
   ],
   "source": [
    "domains = df[domain_discriminative_columns].applymap(lambda x: urllib.parse.urlparse(x).netloc if pd.notna(x) else pd.NA)\n",
    "domains"
   ]
  },
  {
   "cell_type": "markdown",
   "id": "0ae3e729-2642-4375-a1fa-2bbf9be6b12c",
   "metadata": {},
   "source": [
    "How many *non-nulls* are in every column?"
   ]
  },
  {
   "cell_type": "code",
   "execution_count": null,
   "id": "5ecab711-fd85-4798-a2a0-631a6c8211fb",
   "metadata": {},
   "outputs": [
    {
     "data": {
      "text/plain": [
       "ContractFolderStatus  LocatedContractingParty  BuyerProfileURIID                              42\n",
       "                      LegalDocumentReference   Attachment         ExternalReference  URI      70\n",
       "dtype: int64"
      ]
     },
     "execution_count": null,
     "metadata": {},
     "output_type": "execute_result"
    }
   ],
   "source": [
    "domains.notna().sum()"
   ]
  },
  {
   "cell_type": "markdown",
   "id": "fc219e7a-a723-44b9-9f31-e7d10cac2c2e",
   "metadata": {},
   "source": [
    "What about the combination?"
   ]
  },
  {
   "cell_type": "code",
   "execution_count": null,
   "id": "7faf7d51-bb5e-4596-95a2-9b5d3bb61288",
   "metadata": {},
   "outputs": [
    {
     "data": {
      "text/plain": [
       "77"
      ]
     },
     "execution_count": null,
     "metadata": {},
     "output_type": "execute_result"
    }
   ],
   "source": [
    "domains[domain_discriminative_columns[0]].combine_first(domains[domain_discriminative_columns[1]]).notna().sum()"
   ]
  },
  {
   "cell_type": "markdown",
   "id": "563799e2-022c-406a-bcba-f31abd8d4a61",
   "metadata": {},
   "source": [
    "A function returning a `pd.Series` with domains"
   ]
  },
  {
   "cell_type": "code",
   "execution_count": null,
   "id": "2a49dbc0-fa5d-42e3-82c5-bd3212b1db0b",
   "metadata": {},
   "outputs": [],
   "source": [
    "#| export\n",
    "def domain(\n",
    "    df: pd.DataFrame # Input\n",
    "    ) -> pd.Series: # Domains\n",
    "    \"Extract the (internet) domains from the given data\"\n",
    "    \n",
    "    # columns names from \"path\"s\n",
    "    columns = [sproc.hier.pad_col_levels(df, p) for p in domain_discriminative_columns_paths]\n",
    "    \n",
    "    domains = df[columns].applymap(lambda x: urllib.parse.urlparse(x).netloc if pd.notna(x) else pd.NA)\n",
    "    \n",
    "    # the result is initialized with the first column of domains...\n",
    "    res = domains[columns[0]]\n",
    "    \n",
    "    # ...and  the remaining...\n",
    "    for c in columns[1:]:\n",
    "\n",
    "        # ...are used to update it\n",
    "        res = res.combine_first(domains[c])\n",
    "    \n",
    "    return res"
   ]
  },
  {
   "cell_type": "markdown",
   "id": "d9810ea3-19da-407e-be52-d317836aee42",
   "metadata": {},
   "source": [
    "The function adds a new column to the `pd.DataFrame` *inplace*"
   ]
  },
  {
   "cell_type": "code",
   "execution_count": null,
   "id": "e26eb491-fc81-4699-8be7-66b553b58027",
   "metadata": {},
   "outputs": [
    {
     "data": {
      "text/plain": [
       "0      contractaciopublica.gencat.cat\n",
       "1                                <NA>\n",
       "2                                <NA>\n",
       "3      contractaciopublica.gencat.cat\n",
       "4      contractaciopublica.gencat.cat\n",
       "                    ...              \n",
       "112                              <NA>\n",
       "113                              <NA>\n",
       "114                              <NA>\n",
       "115                              <NA>\n",
       "116                              <NA>\n",
       "Name: (ContractFolderStatus, LocatedContractingParty, BuyerProfileURIID, , , ), Length: 117, dtype: object"
      ]
     },
     "execution_count": null,
     "metadata": {},
     "output_type": "execute_result"
    }
   ],
   "source": [
    "domain(df)"
   ]
  },
  {
   "attachments": {},
   "cell_type": "markdown",
   "id": "62b5812a",
   "metadata": {},
   "source": [
    "## Dates"
   ]
  },
  {
   "attachments": {},
   "cell_type": "markdown",
   "id": "43bdf5a3",
   "metadata": {},
   "source": [
    "A function to parse a string containing either a year or a year **and** a month"
   ]
  },
  {
   "cell_type": "code",
   "execution_count": null,
   "id": "e6650076",
   "metadata": {},
   "outputs": [],
   "source": [
    "#| export\n",
    "def year_and_maybe_month(\n",
    "    s: str # Raw date\n",
    "    ) -> datetime.datetime: # Parsed date\n",
    "\n",
    "    try:\n",
    "\n",
    "        # year and month\n",
    "        d = datetime.datetime.strptime(s, '%Y%d')\n",
    "    \n",
    "    except ValueError:\n",
    "\n",
    "        # only year\n",
    "        d = datetime.datetime.strptime(s, '%Y').replace(month=12)\n",
    "\n",
    "    return d\n"
   ]
  },
  {
   "attachments": {},
   "cell_type": "markdown",
   "id": "cbba5874",
   "metadata": {},
   "source": [
    "Only a year"
   ]
  },
  {
   "cell_type": "code",
   "execution_count": null,
   "id": "0da5d4c7",
   "metadata": {},
   "outputs": [
    {
     "data": {
      "text/plain": [
       "datetime.datetime(2021, 12, 1, 0, 0)"
      ]
     },
     "execution_count": null,
     "metadata": {},
     "output_type": "execute_result"
    }
   ],
   "source": [
    "year_and_maybe_month('2021')"
   ]
  },
  {
   "attachments": {},
   "cell_type": "markdown",
   "id": "0130da20",
   "metadata": {},
   "source": [
    "A year and a month"
   ]
  },
  {
   "cell_type": "code",
   "execution_count": null,
   "id": "c5d7e48b",
   "metadata": {},
   "outputs": [
    {
     "data": {
      "text/plain": [
       "datetime.datetime(2022, 1, 5, 0, 0)"
      ]
     },
     "execution_count": null,
     "metadata": {},
     "output_type": "execute_result"
    }
   ],
   "source": [
    "year_and_maybe_month('202205')"
   ]
  },
  {
   "cell_type": "code",
   "execution_count": null,
   "id": "1d030921-fa2b-4503-ae39-23e80aee2512",
   "metadata": {},
   "outputs": [],
   "source": [
    "#| hide\n",
    "from nbdev.doclinks import nbdev_export"
   ]
  },
  {
   "cell_type": "code",
   "execution_count": null,
   "id": "1055283c-d312-429c-b116-f34ff133ac80",
   "metadata": {},
   "outputs": [],
   "source": [
    "#| hide\n",
    "nbdev_export('50_parse.ipynb')"
   ]
  }
 ],
 "metadata": {
  "kernelspec": {
   "display_name": "python3",
   "language": "python",
   "name": "python3"
  }
 },
 "nbformat": 4,
 "nbformat_minor": 5
}

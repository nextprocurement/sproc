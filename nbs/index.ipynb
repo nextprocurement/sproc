{
 "cells": [
  {
   "cell_type": "code",
   "execution_count": null,
   "metadata": {},
   "outputs": [],
   "source": [
    "#| hide\n",
    "from sproc.core import *\n",
    "\n",
    "import pandas as pd"
   ]
  },
  {
   "cell_type": "markdown",
   "metadata": {},
   "source": [
    "# sproc\n",
    "\n",
    "> Spanish procurement"
   ]
  },
  {
   "cell_type": "markdown",
   "metadata": {},
   "source": [
    "This is Python code meant to download and *parse* Spanish government's [Plataforma de contratación del sector público](https://contrataciondelestado.es) *metadata*. It produces [parquet](https://parquet.apache.org/) files that can be easily read in many programming languages. \n",
    "\n",
    "This project was developed with [nbdev](https://github.com/fastai/nbdev), and hence each module stems from a [Jupyter](https://jupyter.org/) notebook that contains the code, along with tests and documentation. If you are interested in the inner workings of any module you can check its corresponding notebook in the corresponding section of the [github pages](https://manuvazquez.github.io/sproc/) of the project."
   ]
  },
  {
   "cell_type": "markdown",
   "metadata": {},
   "source": [
    "## Install"
   ]
  },
  {
   "cell_type": "markdown",
   "metadata": {},
   "source": [
    "```\n",
    "pip install git+https://github.com/manuvazquez/sproc@main\n",
    "```\n",
    "should do."
   ]
  },
  {
   "cell_type": "markdown",
   "metadata": {},
   "source": [
    "## How to use"
   ]
  },
  {
   "cell_type": "markdown",
   "metadata": {},
   "source": [
    "The software can be exploited as a library or as *standalone* scripts. "
   ]
  },
  {
   "cell_type": "markdown",
   "metadata": {},
   "source": [
    "### Scripts"
   ]
  },
  {
   "cell_type": "markdown",
   "metadata": {},
   "source": [
    "#### Downloading data"
   ]
  },
  {
   "cell_type": "markdown",
   "metadata": {},
   "source": [
    "`sproc_dl` command is the work-horse of the library. It allows downloading *all* the data of a given `kind` into a *parquet* file, that later on can be updated invoking the same command. Running, e.g.,\n",
    "```\n",
    "sproc_dl outsiders\n",
    "```\n",
    "will download all the *aggregated* procurement data (excluding minor contracts), and write a `outsiders.parquet` file. Argument `-o` can be used to specify a directory other than the current one. Instead of `outsiders`, one can pass `insiders` or `minors`.\n",
    "\n",
    "This is the highest-level command, and most likely the only one you need. The remaining ones (briefly explained below) provide access to finer granularity functionality."
   ]
  },
  {
   "cell_type": "markdown",
   "metadata": {},
   "source": [
    "#### Processing a single zip file"
   ]
  },
  {
   "cell_type": "markdown",
   "metadata": {},
   "source": [
    "For testing purposes one can download *Outsiders contracts for 2018*, either directly by clicking [this link](https://contrataciondelsectorpublico.gob.es/sindicacion/sindicacion_1044/PlataformasAgregadasSinMenores_2018.zip) or, if [wget](https://www.gnu.org/software/wget/) is available, running\n",
    "```\n",
    "wget https://contrataciondelsectorpublico.gob.es/sindicacion/sindicacion_1044/PlataformasAgregadasSinMenores_2018.zip\n",
    "```"
   ]
  },
  {
   "cell_type": "markdown",
   "metadata": {},
   "source": [
    "Running\n",
    "```\n",
    "sproc_process_zip.py PlataformasAgregadasSinMenores_2018.zip 2018.parquet\n",
    "```\n",
    "outputs the file `2018.parquet` (the name being given by the 2nd argument), which contains a `pd.DataFrame` with all the 2018 metadata. It can be readily loaded (in Python, through [Pandas](https://pandas.pydata.org/)' `pd.read_parquet`). The columns of the `pd.DataFrame` stored inside are *multiindexed* (meaning one could get columns such as `(ContractFolderStatus','ContractFolderID)` and `(ContractFolderStatus','ContractFolderStatusCode)`.  This is very convenient when visualizing the data (see the [the documentation for the `hier`module](https://manuvazquez.github.io/sproc/hierarchical.html#flat_df_to_multiindexed_df))."
   ]
  },
  {
   "cell_type": "markdown",
   "metadata": {},
   "source": [
    "#### From hierarchical (*multiindexed*) columns to plain ones"
   ]
  },
  {
   "cell_type": "markdown",
   "metadata": {},
   "source": [
    "The columns of the above `pd.DataFrame` can be *flattened* to get, in the example above, `ContractFolderStatus - ContractFolderID` and `ContractFolderStatus - ContractFolderStatusCode`, respectively. Additionally, some renaming might be applied following the mapping in some YAML file\n",
    "```\n",
    "sproc_rename_cols.py 2018.parquet -f samples/PLACE.yaml\n",
    "```"
   ]
  },
  {
   "cell_type": "markdown",
   "metadata": {},
   "source": [
    "This would yield a `pd.DataFrame` with *plain* columns in file `2018_renamed.parquet`. Renaming is carried out using the mapping in [PLACE.yaml](https://github.com/manuvazquez/sproc/blob/main/samples/PLACE.yaml), which can be found in the `samples` directory of this repository."
   ]
  },
  {
   "cell_type": "markdown",
   "metadata": {},
   "source": [
    "#### Processing a list of zip files"
   ]
  },
  {
   "cell_type": "markdown",
   "metadata": {},
   "source": [
    "Command `sproc_read_zips.py` can be used to *batch*-process a sequence of files, e.g.,"
   ]
  },
  {
   "cell_type": "markdown",
   "metadata": {},
   "source": [
    "```\n",
    "sproc_read_zips.py contratosMenoresPerfilesContratantes_2018.zip contratosMenoresPerfilesContratantes_2019.zip\n",
    "```"
   ]
  },
  {
   "cell_type": "markdown",
   "metadata": {},
   "source": [
    "If no output file is specified (through the `-o` option), an `out.parquet` file (in which all the entries of all the zip files are stitched together) is produced."
   ]
  },
  {
   "cell_type": "markdown",
   "metadata": {},
   "source": [
    "#### Appending new data to an existing (column-*multiindexed*) *parquet* file"
   ]
  },
  {
   "cell_type": "markdown",
   "metadata": {},
   "source": [
    "We can append new data to an existing `pd.DataFrame`. Let us, for instance, download, [data from January 2022](https://contrataciondelsectorpublico.gob.es/sindicacion/sindicacion_1044/PlataformasAgregadasSinMenores_202201.zip),\n",
    "```\n",
    "wget https://contrataciondelsectorpublico.gob.es/sindicacion/sindicacion_1044/PlataformasAgregadasSinMenores_202201.zip\n",
    "```\n",
    "and extend the previous *parquet* file with data extracted from the newly downloaded *zip*,\n",
    "```\n",
    "sproc_extend_parquet_with_zip.py 2018.parquet PlataformasAgregadasSinMenores_202201.zip 2018_202201.parquet\n",
    "```\n",
    "The *combined* data was saved in `2018_202201.parquet`."
   ]
  }
 ],
 "metadata": {
  "kernelspec": {
   "display_name": "Python 3 (ipykernel)",
   "language": "python",
   "name": "python3"
  }
 },
 "nbformat": 4,
 "nbformat_minor": 4
}

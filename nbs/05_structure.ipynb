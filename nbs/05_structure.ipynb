{
 "cells": [
  {
   "cell_type": "code",
   "execution_count": null,
   "id": "db2da76a-b7eb-4bd1-9f47-4410b54bf509",
   "metadata": {},
   "outputs": [],
   "source": [
    "#| default_exp structure"
   ]
  },
  {
   "cell_type": "markdown",
   "id": "aa155fc2-dd87-4e1b-abc7-28e5a0c6cf3b",
   "metadata": {},
   "source": [
    "# structure\n",
    "\n",
    "> Basic functionality related to the structure of the (XML) data"
   ]
  },
  {
   "cell_type": "code",
   "execution_count": null,
   "id": "c01b2cdb-0c51-4e35-a142-f44100846a79",
   "metadata": {},
   "outputs": [],
   "source": [
    "#| export\n",
    "import pathlib\n",
    "import re\n",
    "\n",
    "import numpy as np\n",
    "import pandas as pd"
   ]
  },
  {
   "cell_type": "markdown",
   "id": "8a97e7ed-f5e9-41f9-a22b-9d7bcf1200d7",
   "metadata": {},
   "source": [
    "For testing purposes"
   ]
  },
  {
   "cell_type": "code",
   "execution_count": null,
   "id": "b0320654-2c1f-479e-a624-d7659781ae62",
   "metadata": {},
   "outputs": [],
   "source": [
    "import sproc.xml"
   ]
  },
  {
   "cell_type": "markdown",
   "id": "3ccce139",
   "metadata": {},
   "source": [
    "Some *hardwired* metadata: the *base* URLs and file names for every kind of file hosted (the final `/` at the end of each `base_url` is required for `urllib.parse.urljoin` below to work correctly)."
   ]
  },
  {
   "cell_type": "code",
   "execution_count": null,
   "id": "665ff211",
   "metadata": {},
   "outputs": [
    {
     "data": {
      "text/plain": [
       "{'outsiders': {'base_url': 'https://contrataciondelsectorpublico.gob.es/sindicacion/sindicacion_1044/',\n",
       "  'base_filename': 'PlataformasAgregadasSinMenores_'},\n",
       " 'insiders': {'base_url': 'https://contrataciondelsectorpublico.gob.es/sindicacion/sindicacion_643/',\n",
       "  'base_filename': 'licitacionesPerfilesContratanteCompleto3_'},\n",
       " 'minors': {'base_url': 'https://contrataciondelsectorpublico.gob.es/sindicacion/sindicacion_1143/',\n",
       "  'base_filename': 'contratosMenoresPerfilesContratantes_'}}"
      ]
     },
     "execution_count": null,
     "metadata": {},
     "output_type": "execute_result"
    }
   ],
   "source": [
    "#| export\n",
    "tables = {\n",
    "    'outsiders': {'base_url': 'https://contrataciondelsectorpublico.gob.es/sindicacion/sindicacion_1044/', 'base_filename': 'PlataformasAgregadasSinMenores_'},\n",
    "    'insiders': {'base_url': 'https://contrataciondelsectorpublico.gob.es/sindicacion/sindicacion_643/', 'base_filename': 'licitacionesPerfilesContratanteCompleto3_'},\n",
    "    'minors': {'base_url': 'https://contrataciondelsectorpublico.gob.es/sindicacion/sindicacion_1143/', 'base_filename': 'contratosMenoresPerfilesContratantes_'}\n",
    "    }\n",
    "tables"
   ]
  },
  {
   "cell_type": "markdown",
   "id": "2c1ef0da-9a1f-4883-abbf-ac52abb36a1b",
   "metadata": {},
   "source": [
    "## Sample data"
   ]
  },
  {
   "cell_type": "markdown",
   "id": "f1afe542-2a1f-4d4b-8f78-a56fa176908b",
   "metadata": {},
   "source": [
    "Directory where the data (*XML* files) are stored"
   ]
  },
  {
   "cell_type": "code",
   "execution_count": null,
   "id": "548708e0-00c3-4d9b-83cb-3c55b2c7a2fb",
   "metadata": {},
   "outputs": [
    {
     "data": {
      "text/plain": [
       "PosixPath('/home/manu/Sync/UC3M/proyectos/2022/nextProcurement/sproc/samples')"
      ]
     },
     "execution_count": null,
     "metadata": {},
     "output_type": "execute_result"
    }
   ],
   "source": [
    "directory = pathlib.Path.cwd().parent / 'samples'\n",
    "assert directory.exists()\n",
    "directory"
   ]
  },
  {
   "cell_type": "markdown",
   "id": "caa8ec6a-b1c9-4ac0-b21e-49274a1ca7cb",
   "metadata": {},
   "source": [
    "A (sample) file in that directory"
   ]
  },
  {
   "cell_type": "code",
   "execution_count": null,
   "id": "4fb0f0c7-5a03-41f0-a60e-a5064e8118e4",
   "metadata": {},
   "outputs": [
    {
     "data": {
      "text/plain": [
       "PosixPath('/home/manu/Sync/UC3M/proyectos/2022/nextProcurement/sproc/samples/PlataformasAgregadasSinMenores_20220104_030016_1.atom')"
      ]
     },
     "execution_count": null,
     "metadata": {},
     "output_type": "execute_result"
    }
   ],
   "source": [
    "xml_file = directory / 'PlataformasAgregadasSinMenores_20220104_030016_1.atom'\n",
    "assert xml_file.exists()\n",
    "xml_file"
   ]
  },
  {
   "cell_type": "code",
   "execution_count": null,
   "id": "f10a5f2c-a37d-4bef-858d-bd9bf021610c",
   "metadata": {},
   "outputs": [
    {
     "data": {
      "text/html": [
       "<div>\n",
       "<style scoped>\n",
       "    .dataframe tbody tr th:only-of-type {\n",
       "        vertical-align: middle;\n",
       "    }\n",
       "\n",
       "    .dataframe tbody tr th {\n",
       "        vertical-align: top;\n",
       "    }\n",
       "\n",
       "    .dataframe thead th {\n",
       "        text-align: right;\n",
       "    }\n",
       "</style>\n",
       "<table border=\"1\" class=\"dataframe\">\n",
       "  <thead>\n",
       "    <tr style=\"text-align: right;\">\n",
       "      <th></th>\n",
       "      <th>id</th>\n",
       "      <th>summary</th>\n",
       "      <th>title</th>\n",
       "      <th>updated</th>\n",
       "      <th>ContractFolderStatus - ContractFolderID</th>\n",
       "      <th>ContractFolderStatus - ContractFolderStatusCode</th>\n",
       "      <th>ContractFolderStatus - LocatedContractingParty - BuyerProfileURIID</th>\n",
       "      <th>ContractFolderStatus - LocatedContractingParty - Party - PartyName - Name</th>\n",
       "      <th>ContractFolderStatus - LocatedContractingParty - ParentLocatedParty - PartyName - Name</th>\n",
       "      <th>ContractFolderStatus - ProcurementProject - Name</th>\n",
       "      <th>...</th>\n",
       "      <th>ContractFolderStatus - LegalDocumentReference - Attachment - ExternalReference - URI</th>\n",
       "      <th>ContractFolderStatus - TechnicalDocumentReference - ID</th>\n",
       "      <th>ContractFolderStatus - TechnicalDocumentReference - Attachment - ExternalReference - URI</th>\n",
       "      <th>ContractFolderStatus - ProcurementProject - PlannedPeriod - StartDate</th>\n",
       "      <th>ContractFolderStatus - ProcurementProject - PlannedPeriod - EndDate</th>\n",
       "      <th>ContractFolderStatus - LocatedContractingParty - Party - PartyIdentification - ID</th>\n",
       "      <th>ContractFolderStatus - LocatedContractingParty - ParentLocatedParty - ParentLocatedParty - PartyName - Name</th>\n",
       "      <th>ContractFolderStatus - TenderingProcess - ParticipationRequestReceptionPeriod - EndDate</th>\n",
       "      <th>ContractFolderStatus - TenderingProcess - ParticipationRequestReceptionPeriod - EndTime</th>\n",
       "      <th>ContractFolderStatus - TenderResult - AwardedTenderedProject - ProcurementProjectLotID</th>\n",
       "    </tr>\n",
       "  </thead>\n",
       "  <tbody>\n",
       "    <tr>\n",
       "      <th>0</th>\n",
       "      <td>https://contrataciondelestado.es/sindicacion/P...</td>\n",
       "      <td>Id licitación: C. 2-2021; Órgano de Contrataci...</td>\n",
       "      <td>L'objecte del contracte és la renovació de tot...</td>\n",
       "      <td>2022-01-03T01:11:41.826+01:00</td>\n",
       "      <td>C. 2-2021</td>\n",
       "      <td>ADJ</td>\n",
       "      <td>https://contractaciopublica.gencat.cat/ecofin_...</td>\n",
       "      <td>Ajuntament de Sant Ramon</td>\n",
       "      <td>Entitats municipals de Catalunya</td>\n",
       "      <td>L'objecte del contracte és la renovació de tot...</td>\n",
       "      <td>...</td>\n",
       "      <td>NaN</td>\n",
       "      <td>NaN</td>\n",
       "      <td>NaN</td>\n",
       "      <td>NaN</td>\n",
       "      <td>NaN</td>\n",
       "      <td>NaN</td>\n",
       "      <td>NaN</td>\n",
       "      <td>NaN</td>\n",
       "      <td>NaN</td>\n",
       "      <td>NaN</td>\n",
       "    </tr>\n",
       "    <tr>\n",
       "      <th>1</th>\n",
       "      <td>https://contrataciondelestado.es/sindicacion/P...</td>\n",
       "      <td>Id licitación: 8128_3/2021; Órgano de Contrata...</td>\n",
       "      <td>Obras de restauración hidromorfológica del río...</td>\n",
       "      <td>2022-01-03T01:00:11.194+01:00</td>\n",
       "      <td>8128_3/2021</td>\n",
       "      <td>PUB</td>\n",
       "      <td>NaN</td>\n",
       "      <td>Pleno del Ayuntamiento</td>\n",
       "      <td>AYUNTAMIENTO DE MONREAL</td>\n",
       "      <td>Obras de restauración hidromorfológica del río...</td>\n",
       "      <td>...</td>\n",
       "      <td>NaN</td>\n",
       "      <td>NaN</td>\n",
       "      <td>NaN</td>\n",
       "      <td>NaN</td>\n",
       "      <td>NaN</td>\n",
       "      <td>NaN</td>\n",
       "      <td>NaN</td>\n",
       "      <td>NaN</td>\n",
       "      <td>NaN</td>\n",
       "      <td>NaN</td>\n",
       "    </tr>\n",
       "    <tr>\n",
       "      <th>2</th>\n",
       "      <td>https://contrataciondelestado.es/sindicacion/P...</td>\n",
       "      <td>Id licitación: 1000_0005-CP01-2021-000063; Órg...</td>\n",
       "      <td>Contrato del servicio de realización de labore...</td>\n",
       "      <td>2022-01-03T01:00:10.399+01:00</td>\n",
       "      <td>1000_0005-CP01-2021-000063</td>\n",
       "      <td>EV</td>\n",
       "      <td>NaN</td>\n",
       "      <td>El Director General de Comunicación y Relacion...</td>\n",
       "      <td>Departamento de Presidencia, Igualdad, Función...</td>\n",
       "      <td>Contrato del servicio de realización de labore...</td>\n",
       "      <td>...</td>\n",
       "      <td>NaN</td>\n",
       "      <td>NaN</td>\n",
       "      <td>NaN</td>\n",
       "      <td>NaN</td>\n",
       "      <td>NaN</td>\n",
       "      <td>NaN</td>\n",
       "      <td>NaN</td>\n",
       "      <td>NaN</td>\n",
       "      <td>NaN</td>\n",
       "      <td>NaN</td>\n",
       "    </tr>\n",
       "    <tr>\n",
       "      <th>3</th>\n",
       "      <td>https://contrataciondelestado.es/sindicacion/P...</td>\n",
       "      <td>Id licitación: 1379/2020 4738; Órgano de Contr...</td>\n",
       "      <td>Obres de renovació de l'enllumenat públic a la...</td>\n",
       "      <td>2022-01-03T00:11:40.740+01:00</td>\n",
       "      <td>1379/2020 4738</td>\n",
       "      <td>EV</td>\n",
       "      <td>https://contractaciopublica.gencat.cat/ecofin_...</td>\n",
       "      <td>Ajuntament de Canet de Mar</td>\n",
       "      <td>Entitats municipals de Catalunya</td>\n",
       "      <td>Obres de renovació de l'enllumenat públic a la...</td>\n",
       "      <td>...</td>\n",
       "      <td>https://contractaciopublica.gencat.cat/ecofin_...</td>\n",
       "      <td>NaN</td>\n",
       "      <td>NaN</td>\n",
       "      <td>NaN</td>\n",
       "      <td>NaN</td>\n",
       "      <td>NaN</td>\n",
       "      <td>NaN</td>\n",
       "      <td>NaN</td>\n",
       "      <td>NaN</td>\n",
       "      <td>NaN</td>\n",
       "    </tr>\n",
       "    <tr>\n",
       "      <th>4</th>\n",
       "      <td>https://contrataciondelestado.es/sindicacion/P...</td>\n",
       "      <td>Id licitación: 2021-44; Órgano de Contratación...</td>\n",
       "      <td>Subministre i la instal·lació fotovoltaica en ...</td>\n",
       "      <td>2022-01-03T00:11:40.696+01:00</td>\n",
       "      <td>2021-44</td>\n",
       "      <td>EV</td>\n",
       "      <td>https://contractaciopublica.gencat.cat/ecofin_...</td>\n",
       "      <td>Ajuntament de Valls</td>\n",
       "      <td>Entitats municipals de Catalunya</td>\n",
       "      <td>Subministre i la instal·lació fotovoltaica en ...</td>\n",
       "      <td>...</td>\n",
       "      <td>https://contractaciopublica.gencat.cat/ecofin_...</td>\n",
       "      <td>Enllac plec clausules tecniques.doc</td>\n",
       "      <td>https://contractaciopublica.gencat.cat/ecofin_...</td>\n",
       "      <td>NaN</td>\n",
       "      <td>NaN</td>\n",
       "      <td>NaN</td>\n",
       "      <td>NaN</td>\n",
       "      <td>NaN</td>\n",
       "      <td>NaN</td>\n",
       "      <td>NaN</td>\n",
       "    </tr>\n",
       "    <tr>\n",
       "      <th>...</th>\n",
       "      <td>...</td>\n",
       "      <td>...</td>\n",
       "      <td>...</td>\n",
       "      <td>...</td>\n",
       "      <td>...</td>\n",
       "      <td>...</td>\n",
       "      <td>...</td>\n",
       "      <td>...</td>\n",
       "      <td>...</td>\n",
       "      <td>...</td>\n",
       "      <td>...</td>\n",
       "      <td>...</td>\n",
       "      <td>...</td>\n",
       "      <td>...</td>\n",
       "      <td>...</td>\n",
       "      <td>...</td>\n",
       "      <td>...</td>\n",
       "      <td>...</td>\n",
       "      <td>...</td>\n",
       "      <td>...</td>\n",
       "      <td>...</td>\n",
       "    </tr>\n",
       "    <tr>\n",
       "      <th>112</th>\n",
       "      <td>https://contrataciondelestado.es/sindicacion/P...</td>\n",
       "      <td>Id licitación: 1005_391-2021; Órgano de Contra...</td>\n",
       "      <td>Apoyo a la gestión del patrimonio filmográfico...</td>\n",
       "      <td>2021-12-31T01:00:14.946+01:00</td>\n",
       "      <td>1005_391-2021</td>\n",
       "      <td>PUB</td>\n",
       "      <td>NaN</td>\n",
       "      <td>Dirección General de Cultura-Institución Prínc...</td>\n",
       "      <td>Departamento de Cultura, Deporte y Juventud</td>\n",
       "      <td>Apoyo a la gestión del patrimonio filmográfico...</td>\n",
       "      <td>...</td>\n",
       "      <td>NaN</td>\n",
       "      <td>NaN</td>\n",
       "      <td>NaN</td>\n",
       "      <td>NaN</td>\n",
       "      <td>NaN</td>\n",
       "      <td>NaN</td>\n",
       "      <td>NaN</td>\n",
       "      <td>NaN</td>\n",
       "      <td>NaN</td>\n",
       "      <td>NaN</td>\n",
       "    </tr>\n",
       "    <tr>\n",
       "      <th>113</th>\n",
       "      <td>https://contrataciondelestado.es/sindicacion/P...</td>\n",
       "      <td>Id licitación: 8165_3/2021; Órgano de Contrata...</td>\n",
       "      <td>Asistencia técnica para la prestación del serv...</td>\n",
       "      <td>2021-12-31T01:00:14.393+01:00</td>\n",
       "      <td>8165_3/2021</td>\n",
       "      <td>EV</td>\n",
       "      <td>NaN</td>\n",
       "      <td>Mancomunidad de Servicios Sociales de Base de ...</td>\n",
       "      <td>MANCOMUNIDAD DE SERVICIOS DE HUARTE Y DE ESTER...</td>\n",
       "      <td>Asistencia técnica para la prestación del serv...</td>\n",
       "      <td>...</td>\n",
       "      <td>NaN</td>\n",
       "      <td>NaN</td>\n",
       "      <td>NaN</td>\n",
       "      <td>NaN</td>\n",
       "      <td>NaN</td>\n",
       "      <td>NaN</td>\n",
       "      <td>NaN</td>\n",
       "      <td>NaN</td>\n",
       "      <td>NaN</td>\n",
       "      <td>NaN</td>\n",
       "    </tr>\n",
       "    <tr>\n",
       "      <th>114</th>\n",
       "      <td>https://contrataciondelestado.es/sindicacion/P...</td>\n",
       "      <td>Id licitación: 8113_3/2021; Órgano de Contrata...</td>\n",
       "      <td>Contrato de servicios de desinfección, desinse...</td>\n",
       "      <td>2021-12-31T01:00:13.594+01:00</td>\n",
       "      <td>8113_3/2021</td>\n",
       "      <td>EV</td>\n",
       "      <td>NaN</td>\n",
       "      <td>Subdirector de Gestión y Recursos</td>\n",
       "      <td>Agencia Navarra para la Dependencia</td>\n",
       "      <td>Contrato de servicios de desinfección, desinse...</td>\n",
       "      <td>...</td>\n",
       "      <td>NaN</td>\n",
       "      <td>NaN</td>\n",
       "      <td>NaN</td>\n",
       "      <td>2022-01-01</td>\n",
       "      <td>2022-12-31</td>\n",
       "      <td>NaN</td>\n",
       "      <td>NaN</td>\n",
       "      <td>NaN</td>\n",
       "      <td>NaN</td>\n",
       "      <td>NaN</td>\n",
       "    </tr>\n",
       "    <tr>\n",
       "      <th>115</th>\n",
       "      <td>https://contrataciondelestado.es/sindicacion/P...</td>\n",
       "      <td>Id licitación: 8113_01 2021; Órgano de Contrat...</td>\n",
       "      <td>Contrato del Servicio de Teleasistencia para l...</td>\n",
       "      <td>2021-12-31T01:00:12.604+01:00</td>\n",
       "      <td>8113_01 2021</td>\n",
       "      <td>EV</td>\n",
       "      <td>NaN</td>\n",
       "      <td>Agencia Navarra de Autonomía y Desarrollo de l...</td>\n",
       "      <td>Agencia Navarra para la Dependencia</td>\n",
       "      <td>Contrato del Servicio de Teleasistencia para l...</td>\n",
       "      <td>...</td>\n",
       "      <td>NaN</td>\n",
       "      <td>NaN</td>\n",
       "      <td>NaN</td>\n",
       "      <td>NaN</td>\n",
       "      <td>NaN</td>\n",
       "      <td>NaN</td>\n",
       "      <td>NaN</td>\n",
       "      <td>NaN</td>\n",
       "      <td>NaN</td>\n",
       "      <td>NaN</td>\n",
       "    </tr>\n",
       "    <tr>\n",
       "      <th>116</th>\n",
       "      <td>https://contrataciondelestado.es/sindicacion/P...</td>\n",
       "      <td>Id licitación: 0001264/2021; Órgano de contrat...</td>\n",
       "      <td>2021/pa-44-4 servicio de mantenimiento integra...</td>\n",
       "      <td>2021-12-31T00:14:15.739+01:00</td>\n",
       "      <td>0001264/2021</td>\n",
       "      <td>RES</td>\n",
       "      <td>NaN</td>\n",
       "      <td>Agencia Pública Empresarial Sanitaria Bajo Gua...</td>\n",
       "      <td>Junta de Andalucía</td>\n",
       "      <td>2021/pa-44-4 servicio de mantenimiento integra...</td>\n",
       "      <td>...</td>\n",
       "      <td>NaN</td>\n",
       "      <td>NaN</td>\n",
       "      <td>NaN</td>\n",
       "      <td>NaN</td>\n",
       "      <td>NaN</td>\n",
       "      <td>NaN</td>\n",
       "      <td>NaN</td>\n",
       "      <td>NaN</td>\n",
       "      <td>NaN</td>\n",
       "      <td>NaN</td>\n",
       "    </tr>\n",
       "  </tbody>\n",
       "</table>\n",
       "<p>117 rows × 38 columns</p>\n",
       "</div>"
      ],
      "text/plain": [
       "                                                    id  \\\n",
       "0    https://contrataciondelestado.es/sindicacion/P...   \n",
       "1    https://contrataciondelestado.es/sindicacion/P...   \n",
       "2    https://contrataciondelestado.es/sindicacion/P...   \n",
       "3    https://contrataciondelestado.es/sindicacion/P...   \n",
       "4    https://contrataciondelestado.es/sindicacion/P...   \n",
       "..                                                 ...   \n",
       "112  https://contrataciondelestado.es/sindicacion/P...   \n",
       "113  https://contrataciondelestado.es/sindicacion/P...   \n",
       "114  https://contrataciondelestado.es/sindicacion/P...   \n",
       "115  https://contrataciondelestado.es/sindicacion/P...   \n",
       "116  https://contrataciondelestado.es/sindicacion/P...   \n",
       "\n",
       "                                               summary  \\\n",
       "0    Id licitación: C. 2-2021; Órgano de Contrataci...   \n",
       "1    Id licitación: 8128_3/2021; Órgano de Contrata...   \n",
       "2    Id licitación: 1000_0005-CP01-2021-000063; Órg...   \n",
       "3    Id licitación: 1379/2020 4738; Órgano de Contr...   \n",
       "4    Id licitación: 2021-44; Órgano de Contratación...   \n",
       "..                                                 ...   \n",
       "112  Id licitación: 1005_391-2021; Órgano de Contra...   \n",
       "113  Id licitación: 8165_3/2021; Órgano de Contrata...   \n",
       "114  Id licitación: 8113_3/2021; Órgano de Contrata...   \n",
       "115  Id licitación: 8113_01 2021; Órgano de Contrat...   \n",
       "116  Id licitación: 0001264/2021; Órgano de contrat...   \n",
       "\n",
       "                                                 title  \\\n",
       "0    L'objecte del contracte és la renovació de tot...   \n",
       "1    Obras de restauración hidromorfológica del río...   \n",
       "2    Contrato del servicio de realización de labore...   \n",
       "3    Obres de renovació de l'enllumenat públic a la...   \n",
       "4    Subministre i la instal·lació fotovoltaica en ...   \n",
       "..                                                 ...   \n",
       "112  Apoyo a la gestión del patrimonio filmográfico...   \n",
       "113  Asistencia técnica para la prestación del serv...   \n",
       "114  Contrato de servicios de desinfección, desinse...   \n",
       "115  Contrato del Servicio de Teleasistencia para l...   \n",
       "116  2021/pa-44-4 servicio de mantenimiento integra...   \n",
       "\n",
       "                           updated ContractFolderStatus - ContractFolderID  \\\n",
       "0    2022-01-03T01:11:41.826+01:00                               C. 2-2021   \n",
       "1    2022-01-03T01:00:11.194+01:00                             8128_3/2021   \n",
       "2    2022-01-03T01:00:10.399+01:00              1000_0005-CP01-2021-000063   \n",
       "3    2022-01-03T00:11:40.740+01:00                          1379/2020 4738   \n",
       "4    2022-01-03T00:11:40.696+01:00                                 2021-44   \n",
       "..                             ...                                     ...   \n",
       "112  2021-12-31T01:00:14.946+01:00                           1005_391-2021   \n",
       "113  2021-12-31T01:00:14.393+01:00                             8165_3/2021   \n",
       "114  2021-12-31T01:00:13.594+01:00                             8113_3/2021   \n",
       "115  2021-12-31T01:00:12.604+01:00                            8113_01 2021   \n",
       "116  2021-12-31T00:14:15.739+01:00                            0001264/2021   \n",
       "\n",
       "    ContractFolderStatus - ContractFolderStatusCode  \\\n",
       "0                                               ADJ   \n",
       "1                                               PUB   \n",
       "2                                                EV   \n",
       "3                                                EV   \n",
       "4                                                EV   \n",
       "..                                              ...   \n",
       "112                                             PUB   \n",
       "113                                              EV   \n",
       "114                                              EV   \n",
       "115                                              EV   \n",
       "116                                             RES   \n",
       "\n",
       "    ContractFolderStatus - LocatedContractingParty - BuyerProfileURIID  \\\n",
       "0    https://contractaciopublica.gencat.cat/ecofin_...                   \n",
       "1                                                  NaN                   \n",
       "2                                                  NaN                   \n",
       "3    https://contractaciopublica.gencat.cat/ecofin_...                   \n",
       "4    https://contractaciopublica.gencat.cat/ecofin_...                   \n",
       "..                                                 ...                   \n",
       "112                                                NaN                   \n",
       "113                                                NaN                   \n",
       "114                                                NaN                   \n",
       "115                                                NaN                   \n",
       "116                                                NaN                   \n",
       "\n",
       "    ContractFolderStatus - LocatedContractingParty - Party - PartyName - Name  \\\n",
       "0                             Ajuntament de Sant Ramon                          \n",
       "1                               Pleno del Ayuntamiento                          \n",
       "2    El Director General de Comunicación y Relacion...                          \n",
       "3                           Ajuntament de Canet de Mar                          \n",
       "4                                  Ajuntament de Valls                          \n",
       "..                                                 ...                          \n",
       "112  Dirección General de Cultura-Institución Prínc...                          \n",
       "113  Mancomunidad de Servicios Sociales de Base de ...                          \n",
       "114                  Subdirector de Gestión y Recursos                          \n",
       "115  Agencia Navarra de Autonomía y Desarrollo de l...                          \n",
       "116  Agencia Pública Empresarial Sanitaria Bajo Gua...                          \n",
       "\n",
       "    ContractFolderStatus - LocatedContractingParty - ParentLocatedParty - PartyName - Name  \\\n",
       "0                     Entitats municipals de Catalunya                                       \n",
       "1                              AYUNTAMIENTO DE MONREAL                                       \n",
       "2    Departamento de Presidencia, Igualdad, Función...                                       \n",
       "3                     Entitats municipals de Catalunya                                       \n",
       "4                     Entitats municipals de Catalunya                                       \n",
       "..                                                 ...                                       \n",
       "112        Departamento de Cultura, Deporte y Juventud                                       \n",
       "113  MANCOMUNIDAD DE SERVICIOS DE HUARTE Y DE ESTER...                                       \n",
       "114                Agencia Navarra para la Dependencia                                       \n",
       "115                Agencia Navarra para la Dependencia                                       \n",
       "116                                 Junta de Andalucía                                       \n",
       "\n",
       "      ContractFolderStatus - ProcurementProject - Name  ...  \\\n",
       "0    L'objecte del contracte és la renovació de tot...  ...   \n",
       "1    Obras de restauración hidromorfológica del río...  ...   \n",
       "2    Contrato del servicio de realización de labore...  ...   \n",
       "3    Obres de renovació de l'enllumenat públic a la...  ...   \n",
       "4    Subministre i la instal·lació fotovoltaica en ...  ...   \n",
       "..                                                 ...  ...   \n",
       "112  Apoyo a la gestión del patrimonio filmográfico...  ...   \n",
       "113  Asistencia técnica para la prestación del serv...  ...   \n",
       "114  Contrato de servicios de desinfección, desinse...  ...   \n",
       "115  Contrato del Servicio de Teleasistencia para l...  ...   \n",
       "116  2021/pa-44-4 servicio de mantenimiento integra...  ...   \n",
       "\n",
       "    ContractFolderStatus - LegalDocumentReference - Attachment - ExternalReference - URI  \\\n",
       "0                                                  NaN                                     \n",
       "1                                                  NaN                                     \n",
       "2                                                  NaN                                     \n",
       "3    https://contractaciopublica.gencat.cat/ecofin_...                                     \n",
       "4    https://contractaciopublica.gencat.cat/ecofin_...                                     \n",
       "..                                                 ...                                     \n",
       "112                                                NaN                                     \n",
       "113                                                NaN                                     \n",
       "114                                                NaN                                     \n",
       "115                                                NaN                                     \n",
       "116                                                NaN                                     \n",
       "\n",
       "    ContractFolderStatus - TechnicalDocumentReference - ID  \\\n",
       "0                                                  NaN       \n",
       "1                                                  NaN       \n",
       "2                                                  NaN       \n",
       "3                                                  NaN       \n",
       "4                  Enllac plec clausules tecniques.doc       \n",
       "..                                                 ...       \n",
       "112                                                NaN       \n",
       "113                                                NaN       \n",
       "114                                                NaN       \n",
       "115                                                NaN       \n",
       "116                                                NaN       \n",
       "\n",
       "    ContractFolderStatus - TechnicalDocumentReference - Attachment - ExternalReference - URI  \\\n",
       "0                                                  NaN                                         \n",
       "1                                                  NaN                                         \n",
       "2                                                  NaN                                         \n",
       "3                                                  NaN                                         \n",
       "4    https://contractaciopublica.gencat.cat/ecofin_...                                         \n",
       "..                                                 ...                                         \n",
       "112                                                NaN                                         \n",
       "113                                                NaN                                         \n",
       "114                                                NaN                                         \n",
       "115                                                NaN                                         \n",
       "116                                                NaN                                         \n",
       "\n",
       "    ContractFolderStatus - ProcurementProject - PlannedPeriod - StartDate  \\\n",
       "0                                                  NaN                      \n",
       "1                                                  NaN                      \n",
       "2                                                  NaN                      \n",
       "3                                                  NaN                      \n",
       "4                                                  NaN                      \n",
       "..                                                 ...                      \n",
       "112                                                NaN                      \n",
       "113                                                NaN                      \n",
       "114                                         2022-01-01                      \n",
       "115                                                NaN                      \n",
       "116                                                NaN                      \n",
       "\n",
       "    ContractFolderStatus - ProcurementProject - PlannedPeriod - EndDate  \\\n",
       "0                                                  NaN                    \n",
       "1                                                  NaN                    \n",
       "2                                                  NaN                    \n",
       "3                                                  NaN                    \n",
       "4                                                  NaN                    \n",
       "..                                                 ...                    \n",
       "112                                                NaN                    \n",
       "113                                                NaN                    \n",
       "114                                         2022-12-31                    \n",
       "115                                                NaN                    \n",
       "116                                                NaN                    \n",
       "\n",
       "    ContractFolderStatus - LocatedContractingParty - Party - PartyIdentification - ID  \\\n",
       "0                                                  NaN                                  \n",
       "1                                                  NaN                                  \n",
       "2                                                  NaN                                  \n",
       "3                                                  NaN                                  \n",
       "4                                                  NaN                                  \n",
       "..                                                 ...                                  \n",
       "112                                                NaN                                  \n",
       "113                                                NaN                                  \n",
       "114                                                NaN                                  \n",
       "115                                                NaN                                  \n",
       "116                                                NaN                                  \n",
       "\n",
       "    ContractFolderStatus - LocatedContractingParty - ParentLocatedParty - ParentLocatedParty - PartyName - Name  \\\n",
       "0                                                  NaN                                                            \n",
       "1                                                  NaN                                                            \n",
       "2                                                  NaN                                                            \n",
       "3                                                  NaN                                                            \n",
       "4                                                  NaN                                                            \n",
       "..                                                 ...                                                            \n",
       "112                                                NaN                                                            \n",
       "113                                                NaN                                                            \n",
       "114                                                NaN                                                            \n",
       "115                                                NaN                                                            \n",
       "116                                                NaN                                                            \n",
       "\n",
       "    ContractFolderStatus - TenderingProcess - ParticipationRequestReceptionPeriod - EndDate  \\\n",
       "0                                                  NaN                                        \n",
       "1                                                  NaN                                        \n",
       "2                                                  NaN                                        \n",
       "3                                                  NaN                                        \n",
       "4                                                  NaN                                        \n",
       "..                                                 ...                                        \n",
       "112                                                NaN                                        \n",
       "113                                                NaN                                        \n",
       "114                                                NaN                                        \n",
       "115                                                NaN                                        \n",
       "116                                                NaN                                        \n",
       "\n",
       "    ContractFolderStatus - TenderingProcess - ParticipationRequestReceptionPeriod - EndTime  \\\n",
       "0                                                  NaN                                        \n",
       "1                                                  NaN                                        \n",
       "2                                                  NaN                                        \n",
       "3                                                  NaN                                        \n",
       "4                                                  NaN                                        \n",
       "..                                                 ...                                        \n",
       "112                                                NaN                                        \n",
       "113                                                NaN                                        \n",
       "114                                                NaN                                        \n",
       "115                                                NaN                                        \n",
       "116                                                NaN                                        \n",
       "\n",
       "    ContractFolderStatus - TenderResult - AwardedTenderedProject - ProcurementProjectLotID  \n",
       "0                                                  NaN                                      \n",
       "1                                                  NaN                                      \n",
       "2                                                  NaN                                      \n",
       "3                                                  NaN                                      \n",
       "4                                                  NaN                                      \n",
       "..                                                 ...                                      \n",
       "112                                                NaN                                      \n",
       "113                                                NaN                                      \n",
       "114                                                NaN                                      \n",
       "115                                                NaN                                      \n",
       "116                                                NaN                                      \n",
       "\n",
       "[117 rows x 38 columns]"
      ]
     },
     "execution_count": null,
     "metadata": {},
     "output_type": "execute_result"
    }
   ],
   "source": [
    "df = sproc.xml.to_df(xml_file)\n",
    "df"
   ]
  },
  {
   "cell_type": "markdown",
   "id": "71a4aa37-554c-4704-8f34-dbd732b36878",
   "metadata": {},
   "source": [
    "## Nested tags"
   ]
  },
  {
   "cell_type": "markdown",
   "id": "3b0c5e04-a2eb-424c-89f8-56abca403b46",
   "metadata": {},
   "source": [
    "When a *tag* is nested inside other *tag* the string below is used to assemble the name of the resulting *column* from those of the original tags"
   ]
  },
  {
   "cell_type": "code",
   "execution_count": null,
   "id": "44cbdbf9-2051-471b-812d-85d976742b53",
   "metadata": {},
   "outputs": [],
   "source": [
    "#| export\n",
    "nested_tags_separator = ' - '"
   ]
  },
  {
   "cell_type": "markdown",
   "id": "6f5dc7c4-85df-475d-afef-3f5a08c73d7f",
   "metadata": {},
   "source": [
    "For instance, a *tag* `<month>` inside a *tag* `<date>` will yield a *column*"
   ]
  },
  {
   "cell_type": "code",
   "execution_count": null,
   "id": "6a989a09-0fd7-4024-ac19-f8748235a6ff",
   "metadata": {},
   "outputs": [
    {
     "data": {
      "text/plain": [
       "'month - date'"
      ]
     },
     "execution_count": null,
     "metadata": {},
     "output_type": "execute_result"
    }
   ],
   "source": [
    "f'month{nested_tags_separator}date'"
   ]
  },
  {
   "cell_type": "markdown",
   "id": "b1a7d20e-9195-4b35-9bb2-969e880d60f1",
   "metadata": {},
   "source": [
    "A high-level function to do exactly that"
   ]
  },
  {
   "cell_type": "code",
   "execution_count": null,
   "id": "7c218b05-50cb-45aa-bf93-b384e092dacf",
   "metadata": {},
   "outputs": [],
   "source": [
    "#| export\n",
    "def assemble_name(\n",
    "    tags: list # Tags\n",
    "    ) -> str: # Name\n",
    "    \"Assemble the name of field/column in the DataFrame from a path of nested tags\"\n",
    "    \n",
    "    tags = filter(pd.notna, tags)\n",
    "    tags = filter(lambda x: x!='', tags)\n",
    "    \n",
    "    return nested_tags_separator.join(tags)"
   ]
  },
  {
   "cell_type": "code",
   "execution_count": null,
   "id": "9ef6a82c-2479-4b7b-bb79-155e8f38ea59",
   "metadata": {},
   "outputs": [
    {
     "data": {
      "text/plain": [
       "'foo - fa'"
      ]
     },
     "execution_count": null,
     "metadata": {},
     "output_type": "execute_result"
    }
   ],
   "source": [
    "assemble_name(['foo', 'fa'])"
   ]
  },
  {
   "cell_type": "markdown",
   "id": "a4a07e8e-4a02-4553-a5f6-a19a7649baad",
   "metadata": {},
   "source": [
    "`NaN`s are ignored..."
   ]
  },
  {
   "cell_type": "code",
   "execution_count": null,
   "id": "7aa9e373-8422-46d6-922f-d0c3413f08c0",
   "metadata": {},
   "outputs": [
    {
     "data": {
      "text/plain": [
       "'foo'"
      ]
     },
     "execution_count": null,
     "metadata": {},
     "output_type": "execute_result"
    }
   ],
   "source": [
    "assemble_name(['foo', np.nan])"
   ]
  },
  {
   "cell_type": "markdown",
   "id": "df090688-5eb2-433b-b072-8916930b7078",
   "metadata": {},
   "source": [
    "...and so are empty strings"
   ]
  },
  {
   "cell_type": "code",
   "execution_count": null,
   "id": "4b137a9a-6f40-458a-b584-72d6cd44403e",
   "metadata": {},
   "outputs": [
    {
     "data": {
      "text/plain": [
       "'foo'"
      ]
     },
     "execution_count": null,
     "metadata": {},
     "output_type": "execute_result"
    }
   ],
   "source": [
    "assemble_name(['foo', np.nan, ''])"
   ]
  },
  {
   "cell_type": "markdown",
   "id": "ce7c03ee-4e63-4913-8f93-55d02c7bff75",
   "metadata": {},
   "source": [
    "Mutivalued data"
   ]
  },
  {
   "cell_type": "markdown",
   "id": "7c5b1338-cf70-44fd-a7fe-41581b44bfe7",
   "metadata": {},
   "source": [
    "`list`s of values are possible. A function to check whether a `pd.Series` (a *column* in a `pd.DataFrame`) has `list`s."
   ]
  },
  {
   "cell_type": "code",
   "execution_count": null,
   "id": "553a75fb-88b9-482a-9c97-5031aa14b464",
   "metadata": {},
   "outputs": [],
   "source": [
    "#| export\n",
    "def is_multivalued(\n",
    "    s: pd.Series # Input\n",
    "    ) -> bool: # `True` if the input contains some `list`\n",
    "    \"Returns `True` is the given `pd.Series` has a `list` at any index\"\n",
    "    \n",
    "    return s.apply(lambda x: (type(x) == list) or (type(x) == np.ndarray)).any()"
   ]
  },
  {
   "cell_type": "code",
   "execution_count": null,
   "id": "d4c31e9e-ec90-4273-ba76-816668b49a60",
   "metadata": {},
   "outputs": [
    {
     "data": {
      "text/plain": [
       "True"
      ]
     },
     "execution_count": null,
     "metadata": {},
     "output_type": "execute_result"
    }
   ],
   "source": [
    "multivalued_column = assemble_name(['ContractFolderStatus', 'ValidNoticeInfo', 'NoticeTypeCode'])\n",
    "is_multivalued(df[multivalued_column])"
   ]
  },
  {
   "cell_type": "code",
   "execution_count": null,
   "id": "db0f2445-f5e4-41d3-9e1c-0500a44567ca",
   "metadata": {},
   "outputs": [
    {
     "data": {
      "text/plain": [
       "0    [DOC_CN, DOC_CAN_ADJ]\n",
       "1                   DOC_CN\n",
       "2                   DOC_CN\n",
       "3                   DOC_CN\n",
       "4                   DOC_CN\n",
       "Name: ContractFolderStatus - ValidNoticeInfo - NoticeTypeCode, dtype: object"
      ]
     },
     "execution_count": null,
     "metadata": {},
     "output_type": "execute_result"
    }
   ],
   "source": [
    "df[multivalued_column].head()"
   ]
  },
  {
   "cell_type": "code",
   "execution_count": null,
   "id": "dc4a79f6-fdb7-47e2-8017-849a994dfbe6",
   "metadata": {},
   "outputs": [
    {
     "data": {
      "text/plain": [
       "False"
      ]
     },
     "execution_count": null,
     "metadata": {},
     "output_type": "execute_result"
    }
   ],
   "source": [
    "is_multivalued(df['id'])"
   ]
  },
  {
   "cell_type": "markdown",
   "id": "478d42ee-4399-4684-87e4-f083d3e726a9",
   "metadata": {},
   "source": [
    "A function exploiting the above function to return (only) the columns that are multivalued."
   ]
  },
  {
   "cell_type": "code",
   "execution_count": null,
   "id": "559f4d46-e64a-4ec9-8b14-09832caddaed",
   "metadata": {},
   "outputs": [],
   "source": [
    "#| export\n",
    "def multivalued_columns(\n",
    "    df: pd.DataFrame # Input\n",
    "    ) -> list: # Columns' names\n",
    "    \"Returns the list of multi-valued columns\"\n",
    "    \n",
    "    # `True` or `False` for every column\n",
    "    is_column_multivalued = df.apply(is_multivalued, axis='index')\n",
    "    \n",
    "    return is_column_multivalued[is_column_multivalued==True].index.tolist()"
   ]
  },
  {
   "cell_type": "code",
   "execution_count": null,
   "id": "c6111ad9-f418-4365-a72e-c68f615f2852",
   "metadata": {},
   "outputs": [
    {
     "data": {
      "text/plain": [
       "['ContractFolderStatus - ProcurementProject - RequiredCommodityClassification - ItemClassificationCode',\n",
       " 'ContractFolderStatus - TenderResult - ResultCode',\n",
       " 'ContractFolderStatus - TenderResult - ReceivedTenderQuantity',\n",
       " 'ContractFolderStatus - TenderResult - WinningParty - PartyIdentification - ID',\n",
       " 'ContractFolderStatus - TenderResult - WinningParty - PartyName - Name',\n",
       " 'ContractFolderStatus - TenderResult - AwardedTenderedProject - LegalMonetaryTotal - TaxExclusiveAmount',\n",
       " 'ContractFolderStatus - ValidNoticeInfo - NoticeTypeCode',\n",
       " 'ContractFolderStatus - ValidNoticeInfo - AdditionalPublicationStatus - PublicationMediaName',\n",
       " 'ContractFolderStatus - ValidNoticeInfo - AdditionalPublicationStatus - AdditionalPublicationDocumentReference - IssueDate',\n",
       " 'ContractFolderStatus - TenderResult - AwardedTenderedProject - ProcurementProjectLotID']"
      ]
     },
     "execution_count": null,
     "metadata": {},
     "output_type": "execute_result"
    }
   ],
   "source": [
    "multivalued_columns(df)"
   ]
  },
  {
   "cell_type": "code",
   "execution_count": null,
   "id": "4368053b-9a36-47de-91cf-6befa4618974",
   "metadata": {},
   "outputs": [],
   "source": [
    "#| hide\n",
    "from nbdev.doclinks import nbdev_export"
   ]
  },
  {
   "cell_type": "code",
   "execution_count": null,
   "id": "2a85cb7a-2dfe-46f8-b5cb-d5ac748252b8",
   "metadata": {},
   "outputs": [],
   "source": [
    "#| hide\n",
    "nbdev_export('05_structure.ipynb')"
   ]
  }
 ],
 "metadata": {
  "kernelspec": {
   "display_name": "Python 3 (ipykernel)",
   "language": "python",
   "name": "python3"
  }
 },
 "nbformat": 4,
 "nbformat_minor": 5
}

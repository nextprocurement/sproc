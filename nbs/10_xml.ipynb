{
 "cells": [
  {
   "cell_type": "code",
   "execution_count": null,
   "id": "b228d757-44d0-4f15-bc18-b86827952a0f",
   "metadata": {},
   "outputs": [],
   "source": [
    "#| default_exp xml"
   ]
  },
  {
   "cell_type": "markdown",
   "id": "8efe08fd-8837-4841-97e1-4481af7f1fd7",
   "metadata": {},
   "source": [
    "# xml\n",
    "\n",
    "> Parse XML files"
   ]
  },
  {
   "cell_type": "code",
   "execution_count": null,
   "id": "9d726f12-e682-49f0-94fb-ac579259ca35",
   "metadata": {},
   "outputs": [],
   "source": [
    "#| export\n",
    "import pathlib\n",
    "import re\n",
    "import datetime\n",
    "from collections.abc import Iterable\n",
    "\n",
    "import numpy as np\n",
    "import pandas as pd\n",
    "from lxml import etree\n",
    "\n",
    "import sproc.structure\n",
    "import sproc.postprocess"
   ]
  },
  {
   "cell_type": "markdown",
   "id": "307377ad-cf69-4e9f-a6c0-9fe8c1e2747b",
   "metadata": {},
   "source": [
    "## Sample data"
   ]
  },
  {
   "cell_type": "markdown",
   "id": "8d0aa4ee-85f7-48d7-bfaa-456c1c473482",
   "metadata": {},
   "source": [
    "Directory where the data (*XML* files) are stored"
   ]
  },
  {
   "cell_type": "code",
   "execution_count": null,
   "id": "00682f2d-6641-4618-ac1b-ddcdfd988039",
   "metadata": {},
   "outputs": [
    {
     "data": {
      "text/plain": [
       "PosixPath('/home/manu/Sync/UC3M/proyectos/2022/nextProcurement/sproc/samples')"
      ]
     },
     "execution_count": null,
     "metadata": {},
     "output_type": "execute_result"
    }
   ],
   "source": [
    "directory = pathlib.Path.cwd().parent / 'samples'\n",
    "assert directory.exists()\n",
    "directory"
   ]
  },
  {
   "cell_type": "markdown",
   "id": "1e2391bc-aefe-4c15-b276-9b0dcec4b879",
   "metadata": {},
   "source": [
    "A (sample) file in that directory"
   ]
  },
  {
   "cell_type": "code",
   "execution_count": null,
   "id": "a37e129f-21e3-4d61-837d-e33231afbe2a",
   "metadata": {},
   "outputs": [
    {
     "data": {
      "text/plain": [
       "PosixPath('/home/manu/Sync/UC3M/proyectos/2022/nextProcurement/sproc/samples/PlataformasAgregadasSinMenores_20220104_030016_1.atom')"
      ]
     },
     "execution_count": null,
     "metadata": {},
     "output_type": "execute_result"
    }
   ],
   "source": [
    "xml_file = directory / 'PlataformasAgregadasSinMenores_20220104_030016_1.atom'\n",
    "assert xml_file.exists()\n",
    "xml_file"
   ]
  },
  {
   "cell_type": "code",
   "execution_count": null,
   "id": "3655fa0b-2e8e-4eb9-89fe-0b9753bb9c9f",
   "metadata": {},
   "outputs": [
    {
     "name": "stdout",
     "output_type": "stream",
     "text": [
      "<?xml version=\"1.0\" encoding=\"UTF-8\" standalone=\"yes\"?>\n",
      "<feed xmlns=\"http://www.w3.org/2005/Atom\" xmlns:cbc-place-ext=\"urn:dgpe:names:draft:codice-place-ext:schema:xsd:CommonBasicComponents-2\" xmlns:cac-place-ext=\"urn:dgpe:names:draft:codice-place-ext:schema:xsd:CommonAggregateComponents-2\" xmlns:cbc=\"urn:dgpe:names:draft:codice:schema:xsd:CommonBasicComponents-2\" xmlns:cac=\"urn:dgpe:names:draft:codice:schema:xsd:CommonAggregateComponents-2\" xmlns:ns1=\"urn:oasis:names:specification:ubl:schema:xsd:CommonExtensionComponents-2\">\n",
      "    <author>\n",
      "        <name>Plataforma de Contratación del Sector Público</name>\n",
      "        <uri>https://contrataciondelestado.es</uri>\n",
      "        <email>contrataciondelestado@minhafp.es</email>\n",
      "    </author>\n",
      "    <id>https://contrataciondelestado.es/sindicacion/sindicacion_1044/PlataformasAgregadasSinMenores.atom</id>\n",
      "    <link href=\"PlataformasAgregadasSinMenores_20220104_030016_1.atom\" rel=\"self\"/>\n",
      "    <link href=\"PlataformasAgregadasSinMenores.atom\" rel=\"first\"/>\n",
      "    <link href=\"PlataformasAgregadasSinMenores_20220104_030016.atom\" rel=\"prev\"/>\n",
      "    <link href=\"PlataformasAgregadasSinMenores_20211231_030012.atom\" rel=\"next\"/>\n",
      "    <title>Licitaciones publicadas en la Plataforma de Contratación del Sector Público: Plataformas Agregadas Sin Menores</title>\n",
      "    <updated>2022-01-03T03:00:13.633+01:00</updated>\n",
      "    <at:deleted-entry ref=\"https://contrataciondelestado.es/sindicacion/PlataformasAgregadasSinMenores/1968384\" when=\"2022-01-03T00:11:41.879+01:00\" xmlns:at=\"http://purl.org/atompub/tombstones/1.0\"/>\n",
      "    <at:deleted-entry ref=\"https://contrataciondelestado.es/sindicacion/PlataformasAgregadasSinMenores/6802801\" when=\"2022-01-03T00:11:41.837+01:00\" xmlns:at=\"http://purl.org/atompub/tombstones/1.0\"/>\n",
      "    <at:deleted-entry ref=\"https://contrataciondelestado.es/sindicacion/PlataformasAgregadasSinMenores/8231582\" when=\"2022-01-03T00:11:41.790+01:00\" xmlns:at=\"http://purl.org/atompub/tombstones/1.0\"/>\n",
      "    <at:deleted-entry ref=\"https://contrataciondelestado.es/sindicacion/PlataformasAgregadasSinMenores/1968385\" when=\"2022-01-03T00:11:41.750+01:00\" xmlns:at=\"http://purl.org/atompub/tombstones/1.0\"/>\n",
      "    <at:deleted-entry ref=\"https://contrataciondelestado.es/sindicacion/PlataformasAgregadasSinMenores/1969766\" when=\"2022-01-03T00:11:41.698+01:00\" xmlns:at=\"http://purl.org/atompub/tombstones/1.0\"/>\n",
      "    <at:deleted-entry ref=\"https://contrataciondelestado.es/sindicacion/PlataformasAgregadasSinMenores/1968427\" when=\"2022-01-03T00:11:41.653+01:00\" xmlns:at=\"http://purl.org/atompub/tombstones/1.0\"/>\n"
     ]
    }
   ],
   "source": [
    "!head {xml_file} --lines=20"
   ]
  },
  {
   "cell_type": "markdown",
   "id": "0bdca1c8-93ce-42a9-b16a-498c304edc18",
   "metadata": {},
   "source": [
    "*Root* element of the *XML* tree"
   ]
  },
  {
   "cell_type": "code",
   "execution_count": null,
   "id": "74566f0b-2ce5-4a67-90ae-1fc795ecca48",
   "metadata": {},
   "outputs": [],
   "source": [
    "root = etree.parse(xml_file).getroot()"
   ]
  },
  {
   "cell_type": "markdown",
   "id": "0efba25d-0b3b-4eb6-83a0-34a6848f353b",
   "metadata": {},
   "source": [
    "## Convenience functions"
   ]
  },
  {
   "cell_type": "markdown",
   "id": "ee4e94e3-8739-4e9e-aeae-b016e9a52c41",
   "metadata": {},
   "source": [
    "A function to extract the *namespace*s declared in an *XML* file"
   ]
  },
  {
   "cell_type": "code",
   "execution_count": null,
   "id": "0b66537e-3084-45f9-91c4-fc29e62b5b63",
   "metadata": {},
   "outputs": [],
   "source": [
    "#| export\n",
    "def get_namespaces(\n",
    "    input_file: str | pathlib.Path, # XML file\n",
    "    root_name: str = 'base' # Name of the root element\n",
    "    ) -> dict[str, str]: # Mapping from *tag* to *namespace*\n",
    "    \n",
    "    tree = etree.parse(input_file)\n",
    "    \n",
    "    namespaces = tree.getroot().nsmap\n",
    "    \n",
    "    if None in namespaces:\n",
    "        \n",
    "        namespaces[root_name] = namespaces.pop(None)\n",
    "        \n",
    "    return namespaces"
   ]
  },
  {
   "cell_type": "code",
   "execution_count": null,
   "id": "cb8d6b65-0b4b-4d88-816c-3be72dc6de2a",
   "metadata": {},
   "outputs": [
    {
     "data": {
      "text/plain": [
       "{'cbc-place-ext': 'urn:dgpe:names:draft:codice-place-ext:schema:xsd:CommonBasicComponents-2',\n",
       " 'cac-place-ext': 'urn:dgpe:names:draft:codice-place-ext:schema:xsd:CommonAggregateComponents-2',\n",
       " 'cbc': 'urn:dgpe:names:draft:codice:schema:xsd:CommonBasicComponents-2',\n",
       " 'cac': 'urn:dgpe:names:draft:codice:schema:xsd:CommonAggregateComponents-2',\n",
       " 'ns1': 'urn:oasis:names:specification:ubl:schema:xsd:CommonExtensionComponents-2',\n",
       " 'base': 'http://www.w3.org/2005/Atom'}"
      ]
     },
     "execution_count": null,
     "metadata": {},
     "output_type": "execute_result"
    }
   ],
   "source": [
    "get_namespaces(xml_file)"
   ]
  },
  {
   "cell_type": "markdown",
   "id": "85bbd439-81fc-4e6d-a5e4-c11484b112a1",
   "metadata": {},
   "source": [
    "In order to trim off *namespace*s from a tag:\n",
    "- a regular expression"
   ]
  },
  {
   "cell_type": "code",
   "execution_count": null,
   "id": "33a4f81a-23be-4cf9-bb24-b23d6b3e6df4",
   "metadata": {},
   "outputs": [],
   "source": [
    "#| export\n",
    "re_tag = re.compile('\\{(.*)\\}(.*)')"
   ]
  },
  {
   "cell_type": "code",
   "execution_count": null,
   "id": "81cf6797-0279-4b1f-9459-390b5c8c0180",
   "metadata": {},
   "outputs": [],
   "source": [
    "assert re_tag.match('{blabla}foo').groups() == ('blabla', 'foo')"
   ]
  },
  {
   "cell_type": "code",
   "execution_count": null,
   "id": "61d29e8e-8a11-48ba-b1ed-6f8919ac7f26",
   "metadata": {},
   "outputs": [
    {
     "data": {
      "text/plain": [
       "('some.namespace', 'id')"
      ]
     },
     "execution_count": null,
     "metadata": {},
     "output_type": "execute_result"
    }
   ],
   "source": [
    "re_tag.match('{some.namespace}id').groups()"
   ]
  },
  {
   "cell_type": "markdown",
   "id": "b0ab0238-966f-49cd-ae53-9c481299435b",
   "metadata": {},
   "source": [
    "* a convenience function exploiting the latter"
   ]
  },
  {
   "cell_type": "code",
   "execution_count": null,
   "id": "6e01b512-8c4d-4543-8abd-9ec3d055435d",
   "metadata": {},
   "outputs": [],
   "source": [
    "#| export\n",
    "def split_namespace_tag(namespace_tag: str) -> str:\n",
    "    \n",
    "    return re_tag.match(namespace_tag).groups()"
   ]
  },
  {
   "cell_type": "code",
   "execution_count": null,
   "id": "82b99f3c-c0cb-4cd4-ae04-0ed7f2960b60",
   "metadata": {},
   "outputs": [
    {
     "data": {
      "text/plain": [
       "('some.namespace', 'id')"
      ]
     },
     "execution_count": null,
     "metadata": {},
     "output_type": "execute_result"
    }
   ],
   "source": [
    "split_namespace_tag('{some.namespace}id')"
   ]
  },
  {
   "cell_type": "code",
   "execution_count": null,
   "id": "de2f7466-af74-4f0e-a60b-6afd84dcba82",
   "metadata": {},
   "outputs": [
    {
     "data": {
      "text/plain": [
       "('http://www.w3.org/2005/Atom', 'feed')"
      ]
     },
     "execution_count": null,
     "metadata": {},
     "output_type": "execute_result"
    }
   ],
   "source": [
    "split_namespace_tag(root.tag)"
   ]
  },
  {
   "cell_type": "code",
   "execution_count": null,
   "id": "7855a955-6c58-492b-bebc-889b41c565f4",
   "metadata": {},
   "outputs": [
    {
     "data": {
      "text/plain": [
       "'{http://www.w3.org/2005/Atom}feed'"
      ]
     },
     "execution_count": null,
     "metadata": {},
     "output_type": "execute_result"
    }
   ],
   "source": [
    "root.tag"
   ]
  },
  {
   "cell_type": "markdown",
   "id": "dc5613cb-b8af-4bae-a523-8bb0652a9c3b",
   "metadata": {},
   "source": [
    "### Regular entries"
   ]
  },
  {
   "cell_type": "markdown",
   "id": "94f058ea-4fee-438d-9443-d6665581a027",
   "metadata": {},
   "source": [
    "A function to get a list of `etree.Element` with all the *entries* (allegedly, *procurement contracts*)"
   ]
  },
  {
   "cell_type": "code",
   "execution_count": null,
   "id": "7a1911c3-7099-498e-9bf6-809e7bd02d2c",
   "metadata": {},
   "outputs": [],
   "source": [
    "#| export\n",
    "def get_entries(root: etree.Element) -> list[etree.Element]:\n",
    "    \n",
    "    return [e for e in root if split_namespace_tag(e.tag)[1] == 'entry']"
   ]
  },
  {
   "cell_type": "markdown",
   "id": "5a7b6ac2-a492-4c16-908b-23839de19d6d",
   "metadata": {},
   "source": [
    "*Entries* are extracted using the above function (only the 4 first ones are shown)"
   ]
  },
  {
   "cell_type": "code",
   "execution_count": null,
   "id": "26fc9a77-70af-497f-92f4-d56afddbe932",
   "metadata": {},
   "outputs": [
    {
     "data": {
      "text/plain": [
       "[<Element {http://www.w3.org/2005/Atom}entry>,\n",
       " <Element {http://www.w3.org/2005/Atom}entry>,\n",
       " <Element {http://www.w3.org/2005/Atom}entry>,\n",
       " <Element {http://www.w3.org/2005/Atom}entry>]"
      ]
     },
     "execution_count": null,
     "metadata": {},
     "output_type": "execute_result"
    }
   ],
   "source": [
    "entries = get_entries(root)\n",
    "assert len(entries) == 117\n",
    "entries[:4]"
   ]
  },
  {
   "cell_type": "code",
   "execution_count": null,
   "id": "80ec1376-c475-4761-8f67-f13fc0322236",
   "metadata": {},
   "outputs": [
    {
     "data": {
      "text/plain": [
       "('http://www.w3.org/2005/Atom', 'entry')"
      ]
     },
     "execution_count": null,
     "metadata": {},
     "output_type": "execute_result"
    }
   ],
   "source": [
    "element = entries[0]\n",
    "split_namespace_tag(element.tag)"
   ]
  },
  {
   "cell_type": "code",
   "execution_count": null,
   "id": "bf8f33dd-9fb3-4fdb-a3c4-3639b4e0bd67",
   "metadata": {},
   "outputs": [
    {
     "data": {
      "text/plain": [
       "('http://www.w3.org/2005/Atom', 'title')"
      ]
     },
     "execution_count": null,
     "metadata": {},
     "output_type": "execute_result"
    }
   ],
   "source": [
    "subelement = element[3]\n",
    "split_namespace_tag(subelement.tag)"
   ]
  },
  {
   "cell_type": "code",
   "execution_count": null,
   "id": "af3c6c5d-c012-4646-9f52-ada2aa8c44d8",
   "metadata": {},
   "outputs": [
    {
     "data": {
      "text/plain": [
       "\"L'objecte del contracte és la renovació de totes les llumeneres que formen la il·luminació existent de tots els carrers i vials del casc urbà de la localitat de Sant Ramon i dels nuclis agregats de La Manresana, Portell, Viver i Gospí\""
      ]
     },
     "execution_count": null,
     "metadata": {},
     "output_type": "execute_result"
    }
   ],
   "source": [
    "subelement.text"
   ]
  },
  {
   "cell_type": "code",
   "execution_count": null,
   "id": "8d842420-bbed-452a-8cf8-eb7a0e2c1581",
   "metadata": {},
   "outputs": [
    {
     "data": {
      "text/plain": [
       "<Element {http://www.w3.org/2005/Atom}entry>"
      ]
     },
     "execution_count": null,
     "metadata": {},
     "output_type": "execute_result"
    }
   ],
   "source": [
    "element"
   ]
  },
  {
   "cell_type": "markdown",
   "id": "99ffbfc2-2703-4a4f-a571-166f59a3c950",
   "metadata": {},
   "source": [
    "Everything is stored as a string in an *XML* file. The approach below is used to handle conversions."
   ]
  },
  {
   "cell_type": "code",
   "execution_count": null,
   "id": "f70d6048-820c-4902-9dca-297b42cc7020",
   "metadata": {},
   "outputs": [
    {
     "data": {
      "text/plain": [
       "True"
      ]
     },
     "execution_count": null,
     "metadata": {},
     "output_type": "execute_result"
    }
   ],
   "source": [
    "numeric_field = '8'\n",
    "numeric_field.isnumeric()\n",
    "float(numeric_field).is_integer()"
   ]
  },
  {
   "cell_type": "markdown",
   "id": "384b396f-d05e-4b8b-86ec-5e2ce41beb6e",
   "metadata": {},
   "source": [
    "### Deleted entries"
   ]
  },
  {
   "cell_type": "markdown",
   "id": "218dc3bb-644d-4d64-9e27-20622b14cd47",
   "metadata": {},
   "source": [
    "It makes sense to treat separately since they information provided for them is completely different."
   ]
  },
  {
   "cell_type": "code",
   "execution_count": null,
   "id": "0bb26755-951c-4ccb-b492-73ab3ac72db9",
   "metadata": {},
   "outputs": [],
   "source": [
    "#| export\n",
    "def get_deleted_entries(root: etree.Element) -> list[etree.Element]:\n",
    "    \n",
    "    return [e for e in root if split_namespace_tag(e.tag)[1] == 'deleted-entry']"
   ]
  },
  {
   "cell_type": "code",
   "execution_count": null,
   "id": "5f42933c-f67a-4a98-a806-9c4d6adff6be",
   "metadata": {},
   "outputs": [
    {
     "data": {
      "text/plain": [
       "[<Element {http://purl.org/atompub/tombstones/1.0}deleted-entry>,\n",
       " <Element {http://purl.org/atompub/tombstones/1.0}deleted-entry>]"
      ]
     },
     "execution_count": null,
     "metadata": {},
     "output_type": "execute_result"
    }
   ],
   "source": [
    "deleted_entries = get_deleted_entries(root)\n",
    "deleted_entries[:2]"
   ]
  },
  {
   "cell_type": "code",
   "execution_count": null,
   "id": "3f76c45a-8daf-42d0-9a9a-20c97d1fd175",
   "metadata": {},
   "outputs": [
    {
     "data": {
      "text/plain": [
       "('http://purl.org/atompub/tombstones/1.0', 'deleted-entry')"
      ]
     },
     "execution_count": null,
     "metadata": {},
     "output_type": "execute_result"
    }
   ],
   "source": [
    "deleted_element = deleted_entries[0]\n",
    "split_namespace_tag(deleted_element.tag)"
   ]
  },
  {
   "cell_type": "markdown",
   "id": "60720899-c004-42b0-acd5-dae14c6ba6ca",
   "metadata": {},
   "source": [
    "These are *all-attributes* elements"
   ]
  },
  {
   "cell_type": "code",
   "execution_count": null,
   "id": "e6c358a4-f0df-4537-9b2d-dafae16358ab",
   "metadata": {},
   "outputs": [
    {
     "data": {
      "text/plain": [
       "{'ref': 'https://contrataciondelestado.es/sindicacion/PlataformasAgregadasSinMenores/1968384', 'when': '2022-01-03T00:11:41.879+01:00'}"
      ]
     },
     "execution_count": null,
     "metadata": {},
     "output_type": "execute_result"
    }
   ],
   "source": [
    "deleted_element.attrib"
   ]
  },
  {
   "cell_type": "markdown",
   "id": "1d6a78d9-8864-4428-8cb8-12f716095845",
   "metadata": {},
   "source": [
    "A function to process an XML file into a `pd.Series`"
   ]
  },
  {
   "cell_type": "code",
   "execution_count": null,
   "id": "46254f37-bdce-4e71-9681-8f6d0a957c7a",
   "metadata": {},
   "outputs": [],
   "source": [
    "#| export\n",
    "def deleted_to_series(\n",
    "    input_file: str | pathlib.Path # XML file\n",
    ") -> pd.Series: # A Pandas Series with XML data\n",
    "    \"Reads and parses 'deleted' entries in an XML file.\"\n",
    "    \n",
    "    tree = etree.parse(input_file)\n",
    "    root = tree.getroot()\n",
    "    \n",
    "    ids = []\n",
    "    dates = []\n",
    "\n",
    "    for e in get_deleted_entries(root):\n",
    "        ids.append(e.attrib['ref'])\n",
    "        # dates.append(pd.to_datetime(e.attrib['when']))\n",
    "        dates.append(pd.to_datetime(e.attrib['when'], utc=True))\n",
    "        \n",
    "    name = 'deleted_on'\n",
    "        \n",
    "    if not ids:\n",
    "        \n",
    "        return pd.Series([], dtype='datetime64[ns]', name=name)\n",
    "    \n",
    "    else:\n",
    "\n",
    "        return pd.Series(data=dates, index=ids, name=name)"
   ]
  },
  {
   "cell_type": "code",
   "execution_count": null,
   "id": "8819bd29-88c3-4781-8fdd-380b51273010",
   "metadata": {},
   "outputs": [
    {
     "data": {
      "text/plain": [
       "https://contrataciondelestado.es/sindicacion/PlataformasAgregadasSinMenores/1968384   2022-01-02 23:11:41.879000+00:00\n",
       "https://contrataciondelestado.es/sindicacion/PlataformasAgregadasSinMenores/6802801   2022-01-02 23:11:41.837000+00:00\n",
       "https://contrataciondelestado.es/sindicacion/PlataformasAgregadasSinMenores/8231582   2022-01-02 23:11:41.790000+00:00\n",
       "https://contrataciondelestado.es/sindicacion/PlataformasAgregadasSinMenores/1968385   2022-01-02 23:11:41.750000+00:00\n",
       "https://contrataciondelestado.es/sindicacion/PlataformasAgregadasSinMenores/1969766   2022-01-02 23:11:41.698000+00:00\n",
       "                                                                                                    ...               \n",
       "https://contrataciondelestado.es/sindicacion/PlataformasAgregadasSinMenores/1958181   2021-12-30 23:13:12.646000+00:00\n",
       "https://contrataciondelestado.es/sindicacion/PlataformasAgregadasSinMenores/1962159   2021-12-30 23:13:12.596000+00:00\n",
       "https://contrataciondelestado.es/sindicacion/PlataformasAgregadasSinMenores/1958329   2021-12-30 23:13:12.544000+00:00\n",
       "https://contrataciondelestado.es/sindicacion/PlataformasAgregadasSinMenores/1955955   2021-12-30 23:13:12.471000+00:00\n",
       "https://contrataciondelestado.es/sindicacion/PlataformasAgregadasSinMenores/1955775   2021-12-30 23:13:12.414000+00:00\n",
       "Name: deleted_on, Length: 383, dtype: datetime64[ns, UTC]"
      ]
     },
     "execution_count": null,
     "metadata": {},
     "output_type": "execute_result"
    }
   ],
   "source": [
    "deleted_series = deleted_to_series(xml_file)\n",
    "deleted_series"
   ]
  },
  {
   "cell_type": "markdown",
   "id": "075d9bcf-d66e-47ff-b1dc-e4c8b2c8d401",
   "metadata": {},
   "source": [
    "Are there duplicates?"
   ]
  },
  {
   "cell_type": "code",
   "execution_count": null,
   "id": "18ea70c3-d703-4bc1-84d8-e75267449152",
   "metadata": {},
   "outputs": [
    {
     "data": {
      "text/plain": [
       "False"
      ]
     },
     "execution_count": null,
     "metadata": {},
     "output_type": "execute_result"
    }
   ],
   "source": [
    "len(deleted_series) > len(deleted_series.unique())"
   ]
  },
  {
   "cell_type": "code",
   "execution_count": null,
   "id": "46f0de27-1f18-4c06-be3e-ee3d2d09fa0a",
   "metadata": {},
   "outputs": [],
   "source": [
    "#| hide\n",
    "# offending_xml = directory / 'deleted_offending.atom'\n",
    "# offending_xml"
   ]
  },
  {
   "cell_type": "code",
   "execution_count": null,
   "id": "b18f2055-e12c-4871-8f65-910c40c8e791",
   "metadata": {},
   "outputs": [],
   "source": [
    "#| hide\n",
    "# offending_deleted_series = deleted_to_series(offending_xml)\n",
    "# offending_deleted_series"
   ]
  },
  {
   "cell_type": "markdown",
   "id": "10eedeec-2f47-45ae-a44e-2ccb7a8616a2",
   "metadata": {},
   "source": [
    "## Parsing"
   ]
  },
  {
   "cell_type": "markdown",
   "id": "952b85ed-81af-49da-b4e3-2281e22517bc",
   "metadata": {},
   "source": [
    "A function to handle *multi-valued* fields"
   ]
  },
  {
   "cell_type": "code",
   "execution_count": null,
   "id": "e0ecfa72-b36b-4a44-8234-97053ca660cc",
   "metadata": {},
   "outputs": [],
   "source": [
    "#| export\n",
    "def set_or_append(\n",
    "    d: dict, # Input (to be modified)\n",
    "    key: str, # Entry of the dictionary to be created/extended\n",
    "    value: str | dict # Value to be set/added\n",
    "    ) -> None:\n",
    "    \"Set or append a new element to the dictionary storing the data in a single entry\"\n",
    "\n",
    "    # if there is already something in the given `key`...\n",
    "    if key in d:\n",
    "\n",
    "        # if what is already there is a list...\n",
    "        if type(d[key]) == list:\n",
    "\n",
    "            # ...and so is the `value` to be added...\n",
    "            if isinstance(value, list):\n",
    "\n",
    "                # ...whatever came before and was not a list is turned into (a single-element) one\n",
    "                d[key] = [e if isinstance(e, list) else [e] for e in d[key]] + [value]\n",
    "\n",
    "            # if what is going to be added is NOT a list\n",
    "            else:\n",
    "\n",
    "                # if what is there is actually a list of lists...\n",
    "                if isinstance(d[key][0], list):\n",
    "\n",
    "                    # ...the new `value` is turned into a (singleton)\n",
    "                    d[key].append([value])\n",
    "\n",
    "                # if what is there is a (plain) list of scalars (and so is `value`)...\n",
    "                else:\n",
    "            \n",
    "                    d[key].append(value)\n",
    "        \n",
    "        # if what is already there is NOT a list...\n",
    "        else:\n",
    "\n",
    "            # ...we make one, but...\n",
    "\n",
    "            # ...if the new element is a list...\n",
    "            if isinstance(value, list):\n",
    "\n",
    "                # ...whatever scalar was there is turned into a (single-element) list inside the new list\n",
    "                d[key] = [[d[key]]]\n",
    "\n",
    "            else:\n",
    "\n",
    "                # whatever was there becomes the 1st element in a new list\n",
    "                d[key] = [d[key]]\n",
    "\n",
    "            # the `value` is finally added\n",
    "            d[key].append(value)\n",
    "    \n",
    "    # if there is nothing for the given `key`...\n",
    "    else:\n",
    "\n",
    "        # if `value` is a list AND of scalars...\n",
    "        if isinstance(value, list) and not isinstance(value[0], list):\n",
    "\n",
    "            # in order to play it safe, the list is assumed to be just one element in a sequence\n",
    "            d[key] = [value]\n",
    "\n",
    "        # if the `value` is not a list OR it IS a list of lists...\n",
    "        else:\n",
    "\n",
    "            d[key] = value\n",
    "\n",
    "    # if the *final* value is a list...\n",
    "    if isinstance(d[key], list):\n",
    "\n",
    "        # \"double lists\" ([[]]) are turned into simple lists\n",
    "        d[key] = [e[0] if (isinstance(e, list) and (len(e) == 1) and isinstance(e[0], list)) else e  for e in d[key]]\n",
    "\n",
    "            "
   ]
  },
  {
   "cell_type": "markdown",
   "id": "c230f22e-e924-40df-8079-6f9096b7b2e2",
   "metadata": {},
   "source": [
    "A sample dictionary"
   ]
  },
  {
   "cell_type": "code",
   "execution_count": null,
   "id": "810f6483-89b6-4ab3-a271-54d392e78586",
   "metadata": {},
   "outputs": [],
   "source": [
    "sample_dict = {}"
   ]
  },
  {
   "cell_type": "markdown",
   "id": "7250e3e6-74ca-4fcc-a783-390b290068e1",
   "metadata": {},
   "source": [
    "A value for *foo* is added"
   ]
  },
  {
   "cell_type": "code",
   "execution_count": null,
   "id": "88042e64-5e08-4076-8427-1b55a1b70ac3",
   "metadata": {},
   "outputs": [
    {
     "data": {
      "text/plain": [
       "{'foo': 1}"
      ]
     },
     "execution_count": null,
     "metadata": {},
     "output_type": "execute_result"
    }
   ],
   "source": [
    "set_or_append(sample_dict, 'foo', 1)\n",
    "sample_dict"
   ]
  },
  {
   "cell_type": "markdown",
   "id": "c9bfd346-2d69-4cb6-9295-0e5170406499",
   "metadata": {},
   "source": [
    "Another value for the *same* key is added"
   ]
  },
  {
   "cell_type": "code",
   "execution_count": null,
   "id": "158dc750-37b8-4c5a-9137-415e3c4fa337",
   "metadata": {},
   "outputs": [
    {
     "data": {
      "text/plain": [
       "{'foo': [1, 2]}"
      ]
     },
     "execution_count": null,
     "metadata": {},
     "output_type": "execute_result"
    }
   ],
   "source": [
    "set_or_append(sample_dict, 'foo', 2)\n",
    "sample_dict"
   ]
  },
  {
   "cell_type": "markdown",
   "id": "383b3c77-fcfe-4170-a0ee-1b57d28e9991",
   "metadata": {},
   "source": [
    "A different key is added"
   ]
  },
  {
   "cell_type": "code",
   "execution_count": null,
   "id": "b8bde2da-1887-4d1d-81d1-8fd441783add",
   "metadata": {},
   "outputs": [
    {
     "data": {
      "text/plain": [
       "{'foo': [1, 2], 'blah': 3}"
      ]
     },
     "execution_count": null,
     "metadata": {},
     "output_type": "execute_result"
    }
   ],
   "source": [
    "set_or_append(sample_dict, 'blah', 3)\n",
    "sample_dict"
   ]
  },
  {
   "cell_type": "markdown",
   "id": "0981dc5c-de12-414e-aa89-cc3c4f4ae4b6",
   "metadata": {},
   "source": [
    "A **recursive** function to parse a node of the *XML* tree"
   ]
  },
  {
   "cell_type": "code",
   "execution_count": null,
   "id": "fd8f1fc1-9659-4680-8626-2e2b7f17f7b5",
   "metadata": {},
   "outputs": [],
   "source": [
    "#| export\n",
    "def entry_to_dict(\n",
    "    entry: etree.Element, # XML entry\n",
    "    recursive: bool = True # If `True`, children of `entry` are also parsed\n",
    "    ) -> dict:\n",
    "    \"Parse an XML entry into a Python dictionary\"\n",
    "\n",
    "    res = {}\n",
    "    \n",
    "    # for every \"child\" of `entry` ...\n",
    "    for e in entry:\n",
    "        \n",
    "        # ...the *namespace* and *tag* are extracted\n",
    "        namespace, tag = split_namespace_tag(e.tag)\n",
    "        \n",
    "        # for the sake of readability\n",
    "        value = e.text\n",
    "            \n",
    "        # if `value` is \"something\" and not an empty string after striping it of blank characters...\n",
    "        if value and (value.strip() != ''):\n",
    "            \n",
    "            # if the text contains a number...\n",
    "            if value.isnumeric():\n",
    "                \n",
    "                # ...it is turned into a `float`\n",
    "                value = float(value)\n",
    "                \n",
    "                # if the latter is actually an integer...\n",
    "                if value.is_integer():\n",
    "                    \n",
    "                    # ...conversion is performed\n",
    "                    value = int(value)\n",
    "            \n",
    "            # assert tag not in res, f'multiple values for {tag}'\n",
    "            \n",
    "            # the value of this element (whether the original text or the obtained number) is stored\n",
    "            set_or_append(res, tag, value)\n",
    "        \n",
    "        # if in \"recursive mode\" and this element has children (`len(e)` is different from 0)...\n",
    "        if recursive and len(e):\n",
    "            \n",
    "            # recursion\n",
    "            sub_res = entry_to_dict(e)\n",
    "            \n",
    "            for k, v in sub_res.items():\n",
    "                \n",
    "                # the name of the new \"key\" is assembled from those of the parent and the child\n",
    "                key_name = f'{tag}{sproc.structure.nested_tags_separator}{k}'\n",
    "                \n",
    "                set_or_append(res, key_name, v)\n",
    "    \n",
    "    return res"
   ]
  },
  {
   "cell_type": "code",
   "execution_count": null,
   "id": "b7c6cc43-9251-459e-8b2c-52a39bd41c6c",
   "metadata": {},
   "outputs": [
    {
     "data": {
      "text/plain": [
       "{'id': 'https://contrataciondelestado.es/sindicacion/PlataformasAgregadasSinMenores/8799346',\n",
       " 'summary': 'Id licitación: C. 2-2021; Órgano de Contratación: Ajuntament de Sant Ramon; Importe: 135553.26; Estado: ADJUDICADA',\n",
       " 'title': \"L'objecte del contracte és la renovació de totes les llumeneres que formen la il·luminació existent de tots els carrers i vials del casc urbà de la localitat de Sant Ramon i dels nuclis agregats de La Manresana, Portell, Viver i Gospí\",\n",
       " 'updated': '2022-01-03T01:11:41.826+01:00',\n",
       " 'ContractFolderStatus - ContractFolderID': 'C. 2-2021',\n",
       " 'ContractFolderStatus - ContractFolderStatusCode': 'ADJ',\n",
       " 'ContractFolderStatus - LocatedContractingParty - BuyerProfileURIID': 'https://contractaciopublica.gencat.cat/ecofin_pscp/AppJava/cap.pscp?reqCode=viewDetail&idCap=2763318',\n",
       " 'ContractFolderStatus - LocatedContractingParty - Party - PartyName - Name': 'Ajuntament de Sant Ramon',\n",
       " 'ContractFolderStatus - LocatedContractingParty - ParentLocatedParty - PartyName - Name': 'Entitats municipals de Catalunya',\n",
       " 'ContractFolderStatus - ProcurementProject - Name': \"L'objecte del contracte és la renovació de totes les llumeneres que formen la il·luminació existent de tots els carrers i vials del casc urbà de la localitat de Sant Ramon i dels nuclis agregats de La Manresana, Portell, Viver i Gospí\",\n",
       " 'ContractFolderStatus - ProcurementProject - TypeCode': 1,\n",
       " 'ContractFolderStatus - ProcurementProject - BudgetAmount - EstimatedOverallContractAmount': '135553.26',\n",
       " 'ContractFolderStatus - ProcurementProject - BudgetAmount - TaxExclusiveAmount': '135553.26',\n",
       " 'ContractFolderStatus - ProcurementProject - RequiredCommodityClassification - ItemClassificationCode': 34928530,\n",
       " 'ContractFolderStatus - ProcurementProject - RealizedLocation - CountrySubentityCode': 'ES513',\n",
       " 'ContractFolderStatus - ProcurementProject - PlannedPeriod - DurationMeasure': 3,\n",
       " 'ContractFolderStatus - TenderResult - ResultCode': 8,\n",
       " 'ContractFolderStatus - TenderResult - ReceivedTenderQuantity': 11,\n",
       " 'ContractFolderStatus - TenderResult - WinningParty - PartyIdentification - ID': 'A28526275',\n",
       " 'ContractFolderStatus - TenderResult - WinningParty - PartyName - Name': 'AERONAVAL DE CONSTRUCCIONES I INSTALACIONES , SA ( ACISA)',\n",
       " 'ContractFolderStatus - TenderResult - AwardedTenderedProject - LegalMonetaryTotal - TaxExclusiveAmount': '90078.51',\n",
       " 'ContractFolderStatus - TenderingProcess - ProcedureCode': 9,\n",
       " 'ContractFolderStatus - TenderingProcess - TenderSubmissionDeadlinePeriod - EndDate': '2021-12-17',\n",
       " 'ContractFolderStatus - TenderingProcess - TenderSubmissionDeadlinePeriod - EndTime': '14:00:00',\n",
       " 'ContractFolderStatus - ValidNoticeInfo - NoticeTypeCode': [['DOC_CN',\n",
       "   'DOC_CAN_ADJ']],\n",
       " 'ContractFolderStatus - ValidNoticeInfo - AdditionalPublicationStatus - PublicationMediaName': [['Perfil del contratante',\n",
       "   'Perfil del contratante']],\n",
       " 'ContractFolderStatus - ValidNoticeInfo - AdditionalPublicationStatus - AdditionalPublicationDocumentReference - IssueDate': [['2021-11-30',\n",
       "   '2022-01-03']]}"
      ]
     },
     "execution_count": null,
     "metadata": {},
     "output_type": "execute_result"
    }
   ],
   "source": [
    "element_series = entry_to_dict(element)\n",
    "element_series"
   ]
  },
  {
   "cell_type": "markdown",
   "id": "23b002ab-d06f-4232-b223-183041be0014",
   "metadata": {},
   "source": [
    "An example of *multi-valued* field"
   ]
  },
  {
   "cell_type": "code",
   "execution_count": null,
   "id": "4499bbb4-86d5-4aa9-81d4-ed04a64b8a33",
   "metadata": {},
   "outputs": [
    {
     "data": {
      "text/plain": [
       "[['2021-11-30', '2022-01-03']]"
      ]
     },
     "execution_count": null,
     "metadata": {},
     "output_type": "execute_result"
    }
   ],
   "source": [
    "element_series[sproc.structure.assemble_name(\n",
    "    ['ContractFolderStatus', 'ValidNoticeInfo', 'AdditionalPublicationStatus', 'AdditionalPublicationDocumentReference', 'IssueDate']\n",
    ")]"
   ]
  },
  {
   "cell_type": "markdown",
   "id": "ddc74622-16e1-4959-9ef3-97049cac525e",
   "metadata": {},
   "source": [
    "## Data structures"
   ]
  },
  {
   "cell_type": "markdown",
   "id": "aa0cf9cf-c53b-4c1f-b7d3-095b13e07912",
   "metadata": {},
   "source": [
    "### Series"
   ]
  },
  {
   "cell_type": "markdown",
   "id": "8c513db2-ffe4-4df4-9be0-816f775ce289",
   "metadata": {},
   "source": [
    "A function that just wraps the result of `entry_to_dict` into a `pd.Series`"
   ]
  },
  {
   "cell_type": "code",
   "execution_count": null,
   "id": "1e731f6e-85ad-4ace-bdbf-bef07bada6bd",
   "metadata": {},
   "outputs": [],
   "source": [
    "#| export\n",
    "def entry_to_series(entry: etree.Element) -> pd.Series:\n",
    "\n",
    "    return pd.Series(entry_to_dict(entry))"
   ]
  },
  {
   "cell_type": "markdown",
   "id": "1a47b92a-82aa-4ea3-81df-391d8f4d88c9",
   "metadata": {},
   "source": [
    "Only the first 8 fields are printed (enough to show *nested* elements)"
   ]
  },
  {
   "cell_type": "code",
   "execution_count": null,
   "id": "5b02c23d-1814-4660-944e-c3eda8305a41",
   "metadata": {},
   "outputs": [
    {
     "data": {
      "text/plain": [
       "id                                                                           https://contrataciondelestado.es/sindicacion/P...\n",
       "summary                                                                      Id licitación: C. 2-2021; Órgano de Contrataci...\n",
       "title                                                                        L'objecte del contracte és la renovació de tot...\n",
       "updated                                                                                          2022-01-03T01:11:41.826+01:00\n",
       "ContractFolderStatus - ContractFolderID                                                                              C. 2-2021\n",
       "ContractFolderStatus - ContractFolderStatusCode                                                                            ADJ\n",
       "ContractFolderStatus - LocatedContractingParty - BuyerProfileURIID           https://contractaciopublica.gencat.cat/ecofin_...\n",
       "ContractFolderStatus - LocatedContractingParty - Party - PartyName - Name                             Ajuntament de Sant Ramon\n",
       "dtype: object"
      ]
     },
     "execution_count": null,
     "metadata": {},
     "output_type": "execute_result"
    }
   ],
   "source": [
    "element_series = entry_to_series(element)\n",
    "element_series[:8]"
   ]
  },
  {
   "cell_type": "markdown",
   "id": "8f9e2f9e-f202-4c35-a293-a1218a640eec",
   "metadata": {},
   "source": [
    "### DataFrame"
   ]
  },
  {
   "cell_type": "markdown",
   "id": "fd652e17-b9fc-4847-bcbc-b05153426488",
   "metadata": {},
   "source": [
    "We can concatenate together the `pd.Series` for the different *entries* into a `pd.DataFrame`"
   ]
  },
  {
   "cell_type": "code",
   "execution_count": null,
   "id": "09518d08-d4fb-4514-84ae-ff4e30e95cad",
   "metadata": {},
   "outputs": [
    {
     "data": {
      "text/html": [
       "<div>\n",
       "<style scoped>\n",
       "    .dataframe tbody tr th:only-of-type {\n",
       "        vertical-align: middle;\n",
       "    }\n",
       "\n",
       "    .dataframe tbody tr th {\n",
       "        vertical-align: top;\n",
       "    }\n",
       "\n",
       "    .dataframe thead th {\n",
       "        text-align: right;\n",
       "    }\n",
       "</style>\n",
       "<table border=\"1\" class=\"dataframe\">\n",
       "  <thead>\n",
       "    <tr style=\"text-align: right;\">\n",
       "      <th></th>\n",
       "      <th>id</th>\n",
       "      <th>summary</th>\n",
       "      <th>title</th>\n",
       "      <th>updated</th>\n",
       "      <th>ContractFolderStatus - ContractFolderID</th>\n",
       "      <th>ContractFolderStatus - ContractFolderStatusCode</th>\n",
       "      <th>ContractFolderStatus - LocatedContractingParty - BuyerProfileURIID</th>\n",
       "      <th>ContractFolderStatus - LocatedContractingParty - Party - PartyName - Name</th>\n",
       "      <th>ContractFolderStatus - LocatedContractingParty - ParentLocatedParty - PartyName - Name</th>\n",
       "      <th>ContractFolderStatus - ProcurementProject - Name</th>\n",
       "      <th>...</th>\n",
       "      <th>ContractFolderStatus - TenderResult - WinningParty - PartyName - Name</th>\n",
       "      <th>ContractFolderStatus - TenderResult - AwardedTenderedProject - LegalMonetaryTotal - TaxExclusiveAmount</th>\n",
       "      <th>ContractFolderStatus - TenderingProcess - ProcedureCode</th>\n",
       "      <th>ContractFolderStatus - TenderingProcess - TenderSubmissionDeadlinePeriod - EndDate</th>\n",
       "      <th>ContractFolderStatus - TenderingProcess - TenderSubmissionDeadlinePeriod - EndTime</th>\n",
       "      <th>ContractFolderStatus - ValidNoticeInfo - NoticeTypeCode</th>\n",
       "      <th>ContractFolderStatus - ValidNoticeInfo - AdditionalPublicationStatus - PublicationMediaName</th>\n",
       "      <th>ContractFolderStatus - ValidNoticeInfo - AdditionalPublicationStatus - AdditionalPublicationDocumentReference - IssueDate</th>\n",
       "      <th>ContractFolderStatus - LegalDocumentReference - ID</th>\n",
       "      <th>ContractFolderStatus - LegalDocumentReference - Attachment - ExternalReference - URI</th>\n",
       "    </tr>\n",
       "  </thead>\n",
       "  <tbody>\n",
       "    <tr>\n",
       "      <th>0</th>\n",
       "      <td>https://contrataciondelestado.es/sindicacion/P...</td>\n",
       "      <td>Id licitación: C. 2-2021; Órgano de Contrataci...</td>\n",
       "      <td>L'objecte del contracte és la renovació de tot...</td>\n",
       "      <td>2022-01-03T01:11:41.826+01:00</td>\n",
       "      <td>C. 2-2021</td>\n",
       "      <td>ADJ</td>\n",
       "      <td>https://contractaciopublica.gencat.cat/ecofin_...</td>\n",
       "      <td>Ajuntament de Sant Ramon</td>\n",
       "      <td>Entitats municipals de Catalunya</td>\n",
       "      <td>L'objecte del contracte és la renovació de tot...</td>\n",
       "      <td>...</td>\n",
       "      <td>AERONAVAL DE CONSTRUCCIONES I INSTALACIONES , ...</td>\n",
       "      <td>90078.51</td>\n",
       "      <td>9</td>\n",
       "      <td>2021-12-17</td>\n",
       "      <td>14:00:00</td>\n",
       "      <td>[[DOC_CN, DOC_CAN_ADJ]]</td>\n",
       "      <td>[[Perfil del contratante, Perfil del contratan...</td>\n",
       "      <td>[[2021-11-30, 2022-01-03]]</td>\n",
       "      <td>NaN</td>\n",
       "      <td>NaN</td>\n",
       "    </tr>\n",
       "    <tr>\n",
       "      <th>1</th>\n",
       "      <td>https://contrataciondelestado.es/sindicacion/P...</td>\n",
       "      <td>Id licitación: 8128_3/2021; Órgano de Contrata...</td>\n",
       "      <td>Obras de restauración hidromorfológica del río...</td>\n",
       "      <td>2022-01-03T01:00:11.194+01:00</td>\n",
       "      <td>8128_3/2021</td>\n",
       "      <td>PUB</td>\n",
       "      <td>NaN</td>\n",
       "      <td>Pleno del Ayuntamiento</td>\n",
       "      <td>AYUNTAMIENTO DE MONREAL</td>\n",
       "      <td>Obras de restauración hidromorfológica del río...</td>\n",
       "      <td>...</td>\n",
       "      <td>NaN</td>\n",
       "      <td>NaN</td>\n",
       "      <td>1</td>\n",
       "      <td>2022-01-22</td>\n",
       "      <td>23:30:00</td>\n",
       "      <td>DOC_CN</td>\n",
       "      <td>Perfil del contratante</td>\n",
       "      <td>2022-01-03</td>\n",
       "      <td>NaN</td>\n",
       "      <td>NaN</td>\n",
       "    </tr>\n",
       "    <tr>\n",
       "      <th>2</th>\n",
       "      <td>https://contrataciondelestado.es/sindicacion/P...</td>\n",
       "      <td>Id licitación: 1000_0005-CP01-2021-000063; Órg...</td>\n",
       "      <td>Contrato del servicio de realización de labore...</td>\n",
       "      <td>2022-01-03T01:00:10.399+01:00</td>\n",
       "      <td>1000_0005-CP01-2021-000063</td>\n",
       "      <td>EV</td>\n",
       "      <td>NaN</td>\n",
       "      <td>El Director General de Comunicación y Relacion...</td>\n",
       "      <td>Departamento de Presidencia, Igualdad, Función...</td>\n",
       "      <td>Contrato del servicio de realización de labore...</td>\n",
       "      <td>...</td>\n",
       "      <td>NaN</td>\n",
       "      <td>NaN</td>\n",
       "      <td>1</td>\n",
       "      <td>NaN</td>\n",
       "      <td>NaN</td>\n",
       "      <td>DOC_CN</td>\n",
       "      <td>[[DOUE, Perfil del contratante]]</td>\n",
       "      <td>[[2021-12-01, 2022-01-03]]</td>\n",
       "      <td>NaN</td>\n",
       "      <td>NaN</td>\n",
       "    </tr>\n",
       "    <tr>\n",
       "      <th>3</th>\n",
       "      <td>https://contrataciondelestado.es/sindicacion/P...</td>\n",
       "      <td>Id licitación: 1379/2020 4738; Órgano de Contr...</td>\n",
       "      <td>Obres de renovació de l'enllumenat públic a la...</td>\n",
       "      <td>2022-01-03T00:11:40.740+01:00</td>\n",
       "      <td>1379/2020 4738</td>\n",
       "      <td>EV</td>\n",
       "      <td>https://contractaciopublica.gencat.cat/ecofin_...</td>\n",
       "      <td>Ajuntament de Canet de Mar</td>\n",
       "      <td>Entitats municipals de Catalunya</td>\n",
       "      <td>Obres de renovació de l'enllumenat públic a la...</td>\n",
       "      <td>...</td>\n",
       "      <td>NaN</td>\n",
       "      <td>NaN</td>\n",
       "      <td>9</td>\n",
       "      <td>2022-01-02</td>\n",
       "      <td>23:59:00</td>\n",
       "      <td>DOC_CN</td>\n",
       "      <td>Perfil del contratante</td>\n",
       "      <td>2021-12-13</td>\n",
       "      <td>Plec Clausules.pdf</td>\n",
       "      <td>https://contractaciopublica.gencat.cat/ecofin_...</td>\n",
       "    </tr>\n",
       "  </tbody>\n",
       "</table>\n",
       "<p>4 rows × 29 columns</p>\n",
       "</div>"
      ],
      "text/plain": [
       "                                                  id  \\\n",
       "0  https://contrataciondelestado.es/sindicacion/P...   \n",
       "1  https://contrataciondelestado.es/sindicacion/P...   \n",
       "2  https://contrataciondelestado.es/sindicacion/P...   \n",
       "3  https://contrataciondelestado.es/sindicacion/P...   \n",
       "\n",
       "                                             summary  \\\n",
       "0  Id licitación: C. 2-2021; Órgano de Contrataci...   \n",
       "1  Id licitación: 8128_3/2021; Órgano de Contrata...   \n",
       "2  Id licitación: 1000_0005-CP01-2021-000063; Órg...   \n",
       "3  Id licitación: 1379/2020 4738; Órgano de Contr...   \n",
       "\n",
       "                                               title  \\\n",
       "0  L'objecte del contracte és la renovació de tot...   \n",
       "1  Obras de restauración hidromorfológica del río...   \n",
       "2  Contrato del servicio de realización de labore...   \n",
       "3  Obres de renovació de l'enllumenat públic a la...   \n",
       "\n",
       "                         updated ContractFolderStatus - ContractFolderID  \\\n",
       "0  2022-01-03T01:11:41.826+01:00                               C. 2-2021   \n",
       "1  2022-01-03T01:00:11.194+01:00                             8128_3/2021   \n",
       "2  2022-01-03T01:00:10.399+01:00              1000_0005-CP01-2021-000063   \n",
       "3  2022-01-03T00:11:40.740+01:00                          1379/2020 4738   \n",
       "\n",
       "  ContractFolderStatus - ContractFolderStatusCode  \\\n",
       "0                                             ADJ   \n",
       "1                                             PUB   \n",
       "2                                              EV   \n",
       "3                                              EV   \n",
       "\n",
       "  ContractFolderStatus - LocatedContractingParty - BuyerProfileURIID  \\\n",
       "0  https://contractaciopublica.gencat.cat/ecofin_...                   \n",
       "1                                                NaN                   \n",
       "2                                                NaN                   \n",
       "3  https://contractaciopublica.gencat.cat/ecofin_...                   \n",
       "\n",
       "  ContractFolderStatus - LocatedContractingParty - Party - PartyName - Name  \\\n",
       "0                           Ajuntament de Sant Ramon                          \n",
       "1                             Pleno del Ayuntamiento                          \n",
       "2  El Director General de Comunicación y Relacion...                          \n",
       "3                         Ajuntament de Canet de Mar                          \n",
       "\n",
       "  ContractFolderStatus - LocatedContractingParty - ParentLocatedParty - PartyName - Name  \\\n",
       "0                   Entitats municipals de Catalunya                                       \n",
       "1                            AYUNTAMIENTO DE MONREAL                                       \n",
       "2  Departamento de Presidencia, Igualdad, Función...                                       \n",
       "3                   Entitats municipals de Catalunya                                       \n",
       "\n",
       "    ContractFolderStatus - ProcurementProject - Name  ...  \\\n",
       "0  L'objecte del contracte és la renovació de tot...  ...   \n",
       "1  Obras de restauración hidromorfológica del río...  ...   \n",
       "2  Contrato del servicio de realización de labore...  ...   \n",
       "3  Obres de renovació de l'enllumenat públic a la...  ...   \n",
       "\n",
       "  ContractFolderStatus - TenderResult - WinningParty - PartyName - Name  \\\n",
       "0  AERONAVAL DE CONSTRUCCIONES I INSTALACIONES , ...                      \n",
       "1                                                NaN                      \n",
       "2                                                NaN                      \n",
       "3                                                NaN                      \n",
       "\n",
       "  ContractFolderStatus - TenderResult - AwardedTenderedProject - LegalMonetaryTotal - TaxExclusiveAmount  \\\n",
       "0                                           90078.51                                                       \n",
       "1                                                NaN                                                       \n",
       "2                                                NaN                                                       \n",
       "3                                                NaN                                                       \n",
       "\n",
       "  ContractFolderStatus - TenderingProcess - ProcedureCode  \\\n",
       "0                                                  9        \n",
       "1                                                  1        \n",
       "2                                                  1        \n",
       "3                                                  9        \n",
       "\n",
       "  ContractFolderStatus - TenderingProcess - TenderSubmissionDeadlinePeriod - EndDate  \\\n",
       "0                                         2021-12-17                                   \n",
       "1                                         2022-01-22                                   \n",
       "2                                                NaN                                   \n",
       "3                                         2022-01-02                                   \n",
       "\n",
       "  ContractFolderStatus - TenderingProcess - TenderSubmissionDeadlinePeriod - EndTime  \\\n",
       "0                                           14:00:00                                   \n",
       "1                                           23:30:00                                   \n",
       "2                                                NaN                                   \n",
       "3                                           23:59:00                                   \n",
       "\n",
       "  ContractFolderStatus - ValidNoticeInfo - NoticeTypeCode  \\\n",
       "0                            [[DOC_CN, DOC_CAN_ADJ]]        \n",
       "1                                             DOC_CN        \n",
       "2                                             DOC_CN        \n",
       "3                                             DOC_CN        \n",
       "\n",
       "  ContractFolderStatus - ValidNoticeInfo - AdditionalPublicationStatus - PublicationMediaName  \\\n",
       "0  [[Perfil del contratante, Perfil del contratan...                                            \n",
       "1                             Perfil del contratante                                            \n",
       "2                   [[DOUE, Perfil del contratante]]                                            \n",
       "3                             Perfil del contratante                                            \n",
       "\n",
       "  ContractFolderStatus - ValidNoticeInfo - AdditionalPublicationStatus - AdditionalPublicationDocumentReference - IssueDate  \\\n",
       "0                         [[2021-11-30, 2022-01-03]]                                                                          \n",
       "1                                         2022-01-03                                                                          \n",
       "2                         [[2021-12-01, 2022-01-03]]                                                                          \n",
       "3                                         2021-12-13                                                                          \n",
       "\n",
       "  ContractFolderStatus - LegalDocumentReference - ID  \\\n",
       "0                                                NaN   \n",
       "1                                                NaN   \n",
       "2                                                NaN   \n",
       "3                                 Plec Clausules.pdf   \n",
       "\n",
       "  ContractFolderStatus - LegalDocumentReference - Attachment - ExternalReference - URI  \n",
       "0                                                NaN                                    \n",
       "1                                                NaN                                    \n",
       "2                                                NaN                                    \n",
       "3  https://contractaciopublica.gencat.cat/ecofin_...                                    \n",
       "\n",
       "[4 rows x 29 columns]"
      ]
     },
     "execution_count": null,
     "metadata": {},
     "output_type": "execute_result"
    }
   ],
   "source": [
    "df = pd.concat([entry_to_series(e) for e in entries[:4]], axis=1).T\n",
    "df"
   ]
  },
  {
   "cell_type": "markdown",
   "id": "90a7ae2d-31db-4624-ab1d-e73277df1f20",
   "metadata": {},
   "source": [
    "The types of the columns (every type is `object` since there are missing values everywhere)"
   ]
  },
  {
   "cell_type": "code",
   "execution_count": null,
   "id": "4bfe894b-e63c-4e30-97dd-f1cc6fb0c222",
   "metadata": {},
   "outputs": [
    {
     "data": {
      "text/plain": [
       "id                                                                                                                           object\n",
       "summary                                                                                                                      object\n",
       "title                                                                                                                        object\n",
       "updated                                                                                                                      object\n",
       "ContractFolderStatus - ContractFolderID                                                                                      object\n",
       "ContractFolderStatus - ContractFolderStatusCode                                                                              object\n",
       "ContractFolderStatus - LocatedContractingParty - BuyerProfileURIID                                                           object\n",
       "ContractFolderStatus - LocatedContractingParty - Party - PartyName - Name                                                    object\n",
       "ContractFolderStatus - LocatedContractingParty - ParentLocatedParty - PartyName - Name                                       object\n",
       "ContractFolderStatus - ProcurementProject - Name                                                                             object\n",
       "ContractFolderStatus - ProcurementProject - TypeCode                                                                         object\n",
       "ContractFolderStatus - ProcurementProject - BudgetAmount - EstimatedOverallContractAmount                                    object\n",
       "ContractFolderStatus - ProcurementProject - BudgetAmount - TaxExclusiveAmount                                                object\n",
       "ContractFolderStatus - ProcurementProject - RequiredCommodityClassification - ItemClassificationCode                         object\n",
       "ContractFolderStatus - ProcurementProject - RealizedLocation - CountrySubentityCode                                          object\n",
       "ContractFolderStatus - ProcurementProject - PlannedPeriod - DurationMeasure                                                  object\n",
       "ContractFolderStatus - TenderResult - ResultCode                                                                             object\n",
       "ContractFolderStatus - TenderResult - ReceivedTenderQuantity                                                                 object\n",
       "ContractFolderStatus - TenderResult - WinningParty - PartyIdentification - ID                                                object\n",
       "ContractFolderStatus - TenderResult - WinningParty - PartyName - Name                                                        object\n",
       "ContractFolderStatus - TenderResult - AwardedTenderedProject - LegalMonetaryTotal - TaxExclusiveAmount                       object\n",
       "ContractFolderStatus - TenderingProcess - ProcedureCode                                                                      object\n",
       "ContractFolderStatus - TenderingProcess - TenderSubmissionDeadlinePeriod - EndDate                                           object\n",
       "ContractFolderStatus - TenderingProcess - TenderSubmissionDeadlinePeriod - EndTime                                           object\n",
       "ContractFolderStatus - ValidNoticeInfo - NoticeTypeCode                                                                      object\n",
       "ContractFolderStatus - ValidNoticeInfo - AdditionalPublicationStatus - PublicationMediaName                                  object\n",
       "ContractFolderStatus - ValidNoticeInfo - AdditionalPublicationStatus - AdditionalPublicationDocumentReference - IssueDate    object\n",
       "ContractFolderStatus - LegalDocumentReference - ID                                                                           object\n",
       "ContractFolderStatus - LegalDocumentReference - Attachment - ExternalReference - URI                                         object\n",
       "dtype: object"
      ]
     },
     "execution_count": null,
     "metadata": {},
     "output_type": "execute_result"
    }
   ],
   "source": [
    "df.dtypes"
   ]
  },
  {
   "cell_type": "markdown",
   "id": "cb490325-3cd9-40a9-9e14-93119e75608b",
   "metadata": {},
   "source": [
    "The function below follows the above strategy to turn an *XML* file into a *Pandas* `pd.DataFrame`"
   ]
  },
  {
   "cell_type": "code",
   "execution_count": null,
   "id": "5d15ced5-5403-4626-9d67-0acbef3da763",
   "metadata": {},
   "outputs": [],
   "source": [
    "#| export\n",
    "def to_df(input_file: str | pathlib.Path) -> pd.DataFrame:\n",
    "    \"\"\"\n",
    "    Reads and parses an XML file into a `pd.DataFrame`.\n",
    "    \n",
    "    **Parameters**\n",
    "    \n",
    "    - input_file: str or Path\n",
    "    \n",
    "        Input file.\n",
    "    \n",
    "    **Returns**\n",
    "    \n",
    "    - out: pd.DataFrame\n",
    "    \n",
    "        A Pandas DataFrame with XML data.\n",
    "    \n",
    "    \"\"\"\n",
    "    \n",
    "    tree = etree.parse(input_file)\n",
    "    root = tree.getroot()\n",
    "    entries = get_entries(root)\n",
    "    \n",
    "    return pd.concat([entry_to_series(e) for e in entries], axis=1).T"
   ]
  },
  {
   "cell_type": "code",
   "execution_count": null,
   "id": "d7cca00e-2096-446b-a74c-db66e8fcfebc",
   "metadata": {},
   "outputs": [
    {
     "data": {
      "text/html": [
       "<div>\n",
       "<style scoped>\n",
       "    .dataframe tbody tr th:only-of-type {\n",
       "        vertical-align: middle;\n",
       "    }\n",
       "\n",
       "    .dataframe tbody tr th {\n",
       "        vertical-align: top;\n",
       "    }\n",
       "\n",
       "    .dataframe thead th {\n",
       "        text-align: right;\n",
       "    }\n",
       "</style>\n",
       "<table border=\"1\" class=\"dataframe\">\n",
       "  <thead>\n",
       "    <tr style=\"text-align: right;\">\n",
       "      <th></th>\n",
       "      <th>id</th>\n",
       "      <th>summary</th>\n",
       "      <th>title</th>\n",
       "      <th>updated</th>\n",
       "      <th>ContractFolderStatus - ContractFolderID</th>\n",
       "      <th>ContractFolderStatus - ContractFolderStatusCode</th>\n",
       "      <th>ContractFolderStatus - LocatedContractingParty - BuyerProfileURIID</th>\n",
       "      <th>ContractFolderStatus - LocatedContractingParty - Party - PartyName - Name</th>\n",
       "      <th>ContractFolderStatus - LocatedContractingParty - ParentLocatedParty - PartyName - Name</th>\n",
       "      <th>ContractFolderStatus - ProcurementProject - Name</th>\n",
       "      <th>...</th>\n",
       "      <th>ContractFolderStatus - LegalDocumentReference - Attachment - ExternalReference - URI</th>\n",
       "      <th>ContractFolderStatus - TechnicalDocumentReference - ID</th>\n",
       "      <th>ContractFolderStatus - TechnicalDocumentReference - Attachment - ExternalReference - URI</th>\n",
       "      <th>ContractFolderStatus - ProcurementProject - PlannedPeriod - StartDate</th>\n",
       "      <th>ContractFolderStatus - ProcurementProject - PlannedPeriod - EndDate</th>\n",
       "      <th>ContractFolderStatus - LocatedContractingParty - Party - PartyIdentification - ID</th>\n",
       "      <th>ContractFolderStatus - LocatedContractingParty - ParentLocatedParty - ParentLocatedParty - PartyName - Name</th>\n",
       "      <th>ContractFolderStatus - TenderingProcess - ParticipationRequestReceptionPeriod - EndDate</th>\n",
       "      <th>ContractFolderStatus - TenderingProcess - ParticipationRequestReceptionPeriod - EndTime</th>\n",
       "      <th>ContractFolderStatus - TenderResult - AwardedTenderedProject - ProcurementProjectLotID</th>\n",
       "    </tr>\n",
       "  </thead>\n",
       "  <tbody>\n",
       "    <tr>\n",
       "      <th>0</th>\n",
       "      <td>https://contrataciondelestado.es/sindicacion/P...</td>\n",
       "      <td>Id licitación: C. 2-2021; Órgano de Contrataci...</td>\n",
       "      <td>L'objecte del contracte és la renovació de tot...</td>\n",
       "      <td>2022-01-03T01:11:41.826+01:00</td>\n",
       "      <td>C. 2-2021</td>\n",
       "      <td>ADJ</td>\n",
       "      <td>https://contractaciopublica.gencat.cat/ecofin_...</td>\n",
       "      <td>Ajuntament de Sant Ramon</td>\n",
       "      <td>Entitats municipals de Catalunya</td>\n",
       "      <td>L'objecte del contracte és la renovació de tot...</td>\n",
       "      <td>...</td>\n",
       "      <td>NaN</td>\n",
       "      <td>NaN</td>\n",
       "      <td>NaN</td>\n",
       "      <td>NaN</td>\n",
       "      <td>NaN</td>\n",
       "      <td>NaN</td>\n",
       "      <td>NaN</td>\n",
       "      <td>NaN</td>\n",
       "      <td>NaN</td>\n",
       "      <td>NaN</td>\n",
       "    </tr>\n",
       "    <tr>\n",
       "      <th>1</th>\n",
       "      <td>https://contrataciondelestado.es/sindicacion/P...</td>\n",
       "      <td>Id licitación: 8128_3/2021; Órgano de Contrata...</td>\n",
       "      <td>Obras de restauración hidromorfológica del río...</td>\n",
       "      <td>2022-01-03T01:00:11.194+01:00</td>\n",
       "      <td>8128_3/2021</td>\n",
       "      <td>PUB</td>\n",
       "      <td>NaN</td>\n",
       "      <td>Pleno del Ayuntamiento</td>\n",
       "      <td>AYUNTAMIENTO DE MONREAL</td>\n",
       "      <td>Obras de restauración hidromorfológica del río...</td>\n",
       "      <td>...</td>\n",
       "      <td>NaN</td>\n",
       "      <td>NaN</td>\n",
       "      <td>NaN</td>\n",
       "      <td>NaN</td>\n",
       "      <td>NaN</td>\n",
       "      <td>NaN</td>\n",
       "      <td>NaN</td>\n",
       "      <td>NaN</td>\n",
       "      <td>NaN</td>\n",
       "      <td>NaN</td>\n",
       "    </tr>\n",
       "    <tr>\n",
       "      <th>2</th>\n",
       "      <td>https://contrataciondelestado.es/sindicacion/P...</td>\n",
       "      <td>Id licitación: 1000_0005-CP01-2021-000063; Órg...</td>\n",
       "      <td>Contrato del servicio de realización de labore...</td>\n",
       "      <td>2022-01-03T01:00:10.399+01:00</td>\n",
       "      <td>1000_0005-CP01-2021-000063</td>\n",
       "      <td>EV</td>\n",
       "      <td>NaN</td>\n",
       "      <td>El Director General de Comunicación y Relacion...</td>\n",
       "      <td>Departamento de Presidencia, Igualdad, Función...</td>\n",
       "      <td>Contrato del servicio de realización de labore...</td>\n",
       "      <td>...</td>\n",
       "      <td>NaN</td>\n",
       "      <td>NaN</td>\n",
       "      <td>NaN</td>\n",
       "      <td>NaN</td>\n",
       "      <td>NaN</td>\n",
       "      <td>NaN</td>\n",
       "      <td>NaN</td>\n",
       "      <td>NaN</td>\n",
       "      <td>NaN</td>\n",
       "      <td>NaN</td>\n",
       "    </tr>\n",
       "    <tr>\n",
       "      <th>3</th>\n",
       "      <td>https://contrataciondelestado.es/sindicacion/P...</td>\n",
       "      <td>Id licitación: 1379/2020 4738; Órgano de Contr...</td>\n",
       "      <td>Obres de renovació de l'enllumenat públic a la...</td>\n",
       "      <td>2022-01-03T00:11:40.740+01:00</td>\n",
       "      <td>1379/2020 4738</td>\n",
       "      <td>EV</td>\n",
       "      <td>https://contractaciopublica.gencat.cat/ecofin_...</td>\n",
       "      <td>Ajuntament de Canet de Mar</td>\n",
       "      <td>Entitats municipals de Catalunya</td>\n",
       "      <td>Obres de renovació de l'enllumenat públic a la...</td>\n",
       "      <td>...</td>\n",
       "      <td>https://contractaciopublica.gencat.cat/ecofin_...</td>\n",
       "      <td>NaN</td>\n",
       "      <td>NaN</td>\n",
       "      <td>NaN</td>\n",
       "      <td>NaN</td>\n",
       "      <td>NaN</td>\n",
       "      <td>NaN</td>\n",
       "      <td>NaN</td>\n",
       "      <td>NaN</td>\n",
       "      <td>NaN</td>\n",
       "    </tr>\n",
       "    <tr>\n",
       "      <th>4</th>\n",
       "      <td>https://contrataciondelestado.es/sindicacion/P...</td>\n",
       "      <td>Id licitación: 2021-44; Órgano de Contratación...</td>\n",
       "      <td>Subministre i la instal·lació fotovoltaica en ...</td>\n",
       "      <td>2022-01-03T00:11:40.696+01:00</td>\n",
       "      <td>2021-44</td>\n",
       "      <td>EV</td>\n",
       "      <td>https://contractaciopublica.gencat.cat/ecofin_...</td>\n",
       "      <td>Ajuntament de Valls</td>\n",
       "      <td>Entitats municipals de Catalunya</td>\n",
       "      <td>Subministre i la instal·lació fotovoltaica en ...</td>\n",
       "      <td>...</td>\n",
       "      <td>https://contractaciopublica.gencat.cat/ecofin_...</td>\n",
       "      <td>Enllac plec clausules tecniques.doc</td>\n",
       "      <td>https://contractaciopublica.gencat.cat/ecofin_...</td>\n",
       "      <td>NaN</td>\n",
       "      <td>NaN</td>\n",
       "      <td>NaN</td>\n",
       "      <td>NaN</td>\n",
       "      <td>NaN</td>\n",
       "      <td>NaN</td>\n",
       "      <td>NaN</td>\n",
       "    </tr>\n",
       "    <tr>\n",
       "      <th>...</th>\n",
       "      <td>...</td>\n",
       "      <td>...</td>\n",
       "      <td>...</td>\n",
       "      <td>...</td>\n",
       "      <td>...</td>\n",
       "      <td>...</td>\n",
       "      <td>...</td>\n",
       "      <td>...</td>\n",
       "      <td>...</td>\n",
       "      <td>...</td>\n",
       "      <td>...</td>\n",
       "      <td>...</td>\n",
       "      <td>...</td>\n",
       "      <td>...</td>\n",
       "      <td>...</td>\n",
       "      <td>...</td>\n",
       "      <td>...</td>\n",
       "      <td>...</td>\n",
       "      <td>...</td>\n",
       "      <td>...</td>\n",
       "      <td>...</td>\n",
       "    </tr>\n",
       "    <tr>\n",
       "      <th>112</th>\n",
       "      <td>https://contrataciondelestado.es/sindicacion/P...</td>\n",
       "      <td>Id licitación: 1005_391-2021; Órgano de Contra...</td>\n",
       "      <td>Apoyo a la gestión del patrimonio filmográfico...</td>\n",
       "      <td>2021-12-31T01:00:14.946+01:00</td>\n",
       "      <td>1005_391-2021</td>\n",
       "      <td>PUB</td>\n",
       "      <td>NaN</td>\n",
       "      <td>Dirección General de Cultura-Institución Prínc...</td>\n",
       "      <td>Departamento de Cultura, Deporte y Juventud</td>\n",
       "      <td>Apoyo a la gestión del patrimonio filmográfico...</td>\n",
       "      <td>...</td>\n",
       "      <td>NaN</td>\n",
       "      <td>NaN</td>\n",
       "      <td>NaN</td>\n",
       "      <td>NaN</td>\n",
       "      <td>NaN</td>\n",
       "      <td>NaN</td>\n",
       "      <td>NaN</td>\n",
       "      <td>NaN</td>\n",
       "      <td>NaN</td>\n",
       "      <td>NaN</td>\n",
       "    </tr>\n",
       "    <tr>\n",
       "      <th>113</th>\n",
       "      <td>https://contrataciondelestado.es/sindicacion/P...</td>\n",
       "      <td>Id licitación: 8165_3/2021; Órgano de Contrata...</td>\n",
       "      <td>Asistencia técnica para la prestación del serv...</td>\n",
       "      <td>2021-12-31T01:00:14.393+01:00</td>\n",
       "      <td>8165_3/2021</td>\n",
       "      <td>EV</td>\n",
       "      <td>NaN</td>\n",
       "      <td>Mancomunidad de Servicios Sociales de Base de ...</td>\n",
       "      <td>MANCOMUNIDAD DE SERVICIOS DE HUARTE Y DE ESTER...</td>\n",
       "      <td>Asistencia técnica para la prestación del serv...</td>\n",
       "      <td>...</td>\n",
       "      <td>NaN</td>\n",
       "      <td>NaN</td>\n",
       "      <td>NaN</td>\n",
       "      <td>NaN</td>\n",
       "      <td>NaN</td>\n",
       "      <td>NaN</td>\n",
       "      <td>NaN</td>\n",
       "      <td>NaN</td>\n",
       "      <td>NaN</td>\n",
       "      <td>NaN</td>\n",
       "    </tr>\n",
       "    <tr>\n",
       "      <th>114</th>\n",
       "      <td>https://contrataciondelestado.es/sindicacion/P...</td>\n",
       "      <td>Id licitación: 8113_3/2021; Órgano de Contrata...</td>\n",
       "      <td>Contrato de servicios de desinfección, desinse...</td>\n",
       "      <td>2021-12-31T01:00:13.594+01:00</td>\n",
       "      <td>8113_3/2021</td>\n",
       "      <td>EV</td>\n",
       "      <td>NaN</td>\n",
       "      <td>Subdirector de Gestión y Recursos</td>\n",
       "      <td>Agencia Navarra para la Dependencia</td>\n",
       "      <td>Contrato de servicios de desinfección, desinse...</td>\n",
       "      <td>...</td>\n",
       "      <td>NaN</td>\n",
       "      <td>NaN</td>\n",
       "      <td>NaN</td>\n",
       "      <td>2022-01-01</td>\n",
       "      <td>2022-12-31</td>\n",
       "      <td>NaN</td>\n",
       "      <td>NaN</td>\n",
       "      <td>NaN</td>\n",
       "      <td>NaN</td>\n",
       "      <td>NaN</td>\n",
       "    </tr>\n",
       "    <tr>\n",
       "      <th>115</th>\n",
       "      <td>https://contrataciondelestado.es/sindicacion/P...</td>\n",
       "      <td>Id licitación: 8113_01 2021; Órgano de Contrat...</td>\n",
       "      <td>Contrato del Servicio de Teleasistencia para l...</td>\n",
       "      <td>2021-12-31T01:00:12.604+01:00</td>\n",
       "      <td>8113_01 2021</td>\n",
       "      <td>EV</td>\n",
       "      <td>NaN</td>\n",
       "      <td>Agencia Navarra de Autonomía y Desarrollo de l...</td>\n",
       "      <td>Agencia Navarra para la Dependencia</td>\n",
       "      <td>Contrato del Servicio de Teleasistencia para l...</td>\n",
       "      <td>...</td>\n",
       "      <td>NaN</td>\n",
       "      <td>NaN</td>\n",
       "      <td>NaN</td>\n",
       "      <td>NaN</td>\n",
       "      <td>NaN</td>\n",
       "      <td>NaN</td>\n",
       "      <td>NaN</td>\n",
       "      <td>NaN</td>\n",
       "      <td>NaN</td>\n",
       "      <td>NaN</td>\n",
       "    </tr>\n",
       "    <tr>\n",
       "      <th>116</th>\n",
       "      <td>https://contrataciondelestado.es/sindicacion/P...</td>\n",
       "      <td>Id licitación: 0001264/2021; Órgano de contrat...</td>\n",
       "      <td>2021/pa-44-4 servicio de mantenimiento integra...</td>\n",
       "      <td>2021-12-31T00:14:15.739+01:00</td>\n",
       "      <td>0001264/2021</td>\n",
       "      <td>RES</td>\n",
       "      <td>NaN</td>\n",
       "      <td>Agencia Pública Empresarial Sanitaria Bajo Gua...</td>\n",
       "      <td>Junta de Andalucía</td>\n",
       "      <td>2021/pa-44-4 servicio de mantenimiento integra...</td>\n",
       "      <td>...</td>\n",
       "      <td>NaN</td>\n",
       "      <td>NaN</td>\n",
       "      <td>NaN</td>\n",
       "      <td>NaN</td>\n",
       "      <td>NaN</td>\n",
       "      <td>NaN</td>\n",
       "      <td>NaN</td>\n",
       "      <td>NaN</td>\n",
       "      <td>NaN</td>\n",
       "      <td>NaN</td>\n",
       "    </tr>\n",
       "  </tbody>\n",
       "</table>\n",
       "<p>117 rows × 38 columns</p>\n",
       "</div>"
      ],
      "text/plain": [
       "                                                    id  \\\n",
       "0    https://contrataciondelestado.es/sindicacion/P...   \n",
       "1    https://contrataciondelestado.es/sindicacion/P...   \n",
       "2    https://contrataciondelestado.es/sindicacion/P...   \n",
       "3    https://contrataciondelestado.es/sindicacion/P...   \n",
       "4    https://contrataciondelestado.es/sindicacion/P...   \n",
       "..                                                 ...   \n",
       "112  https://contrataciondelestado.es/sindicacion/P...   \n",
       "113  https://contrataciondelestado.es/sindicacion/P...   \n",
       "114  https://contrataciondelestado.es/sindicacion/P...   \n",
       "115  https://contrataciondelestado.es/sindicacion/P...   \n",
       "116  https://contrataciondelestado.es/sindicacion/P...   \n",
       "\n",
       "                                               summary  \\\n",
       "0    Id licitación: C. 2-2021; Órgano de Contrataci...   \n",
       "1    Id licitación: 8128_3/2021; Órgano de Contrata...   \n",
       "2    Id licitación: 1000_0005-CP01-2021-000063; Órg...   \n",
       "3    Id licitación: 1379/2020 4738; Órgano de Contr...   \n",
       "4    Id licitación: 2021-44; Órgano de Contratación...   \n",
       "..                                                 ...   \n",
       "112  Id licitación: 1005_391-2021; Órgano de Contra...   \n",
       "113  Id licitación: 8165_3/2021; Órgano de Contrata...   \n",
       "114  Id licitación: 8113_3/2021; Órgano de Contrata...   \n",
       "115  Id licitación: 8113_01 2021; Órgano de Contrat...   \n",
       "116  Id licitación: 0001264/2021; Órgano de contrat...   \n",
       "\n",
       "                                                 title  \\\n",
       "0    L'objecte del contracte és la renovació de tot...   \n",
       "1    Obras de restauración hidromorfológica del río...   \n",
       "2    Contrato del servicio de realización de labore...   \n",
       "3    Obres de renovació de l'enllumenat públic a la...   \n",
       "4    Subministre i la instal·lació fotovoltaica en ...   \n",
       "..                                                 ...   \n",
       "112  Apoyo a la gestión del patrimonio filmográfico...   \n",
       "113  Asistencia técnica para la prestación del serv...   \n",
       "114  Contrato de servicios de desinfección, desinse...   \n",
       "115  Contrato del Servicio de Teleasistencia para l...   \n",
       "116  2021/pa-44-4 servicio de mantenimiento integra...   \n",
       "\n",
       "                           updated ContractFolderStatus - ContractFolderID  \\\n",
       "0    2022-01-03T01:11:41.826+01:00                               C. 2-2021   \n",
       "1    2022-01-03T01:00:11.194+01:00                             8128_3/2021   \n",
       "2    2022-01-03T01:00:10.399+01:00              1000_0005-CP01-2021-000063   \n",
       "3    2022-01-03T00:11:40.740+01:00                          1379/2020 4738   \n",
       "4    2022-01-03T00:11:40.696+01:00                                 2021-44   \n",
       "..                             ...                                     ...   \n",
       "112  2021-12-31T01:00:14.946+01:00                           1005_391-2021   \n",
       "113  2021-12-31T01:00:14.393+01:00                             8165_3/2021   \n",
       "114  2021-12-31T01:00:13.594+01:00                             8113_3/2021   \n",
       "115  2021-12-31T01:00:12.604+01:00                            8113_01 2021   \n",
       "116  2021-12-31T00:14:15.739+01:00                            0001264/2021   \n",
       "\n",
       "    ContractFolderStatus - ContractFolderStatusCode  \\\n",
       "0                                               ADJ   \n",
       "1                                               PUB   \n",
       "2                                                EV   \n",
       "3                                                EV   \n",
       "4                                                EV   \n",
       "..                                              ...   \n",
       "112                                             PUB   \n",
       "113                                              EV   \n",
       "114                                              EV   \n",
       "115                                              EV   \n",
       "116                                             RES   \n",
       "\n",
       "    ContractFolderStatus - LocatedContractingParty - BuyerProfileURIID  \\\n",
       "0    https://contractaciopublica.gencat.cat/ecofin_...                   \n",
       "1                                                  NaN                   \n",
       "2                                                  NaN                   \n",
       "3    https://contractaciopublica.gencat.cat/ecofin_...                   \n",
       "4    https://contractaciopublica.gencat.cat/ecofin_...                   \n",
       "..                                                 ...                   \n",
       "112                                                NaN                   \n",
       "113                                                NaN                   \n",
       "114                                                NaN                   \n",
       "115                                                NaN                   \n",
       "116                                                NaN                   \n",
       "\n",
       "    ContractFolderStatus - LocatedContractingParty - Party - PartyName - Name  \\\n",
       "0                             Ajuntament de Sant Ramon                          \n",
       "1                               Pleno del Ayuntamiento                          \n",
       "2    El Director General de Comunicación y Relacion...                          \n",
       "3                           Ajuntament de Canet de Mar                          \n",
       "4                                  Ajuntament de Valls                          \n",
       "..                                                 ...                          \n",
       "112  Dirección General de Cultura-Institución Prínc...                          \n",
       "113  Mancomunidad de Servicios Sociales de Base de ...                          \n",
       "114                  Subdirector de Gestión y Recursos                          \n",
       "115  Agencia Navarra de Autonomía y Desarrollo de l...                          \n",
       "116  Agencia Pública Empresarial Sanitaria Bajo Gua...                          \n",
       "\n",
       "    ContractFolderStatus - LocatedContractingParty - ParentLocatedParty - PartyName - Name  \\\n",
       "0                     Entitats municipals de Catalunya                                       \n",
       "1                              AYUNTAMIENTO DE MONREAL                                       \n",
       "2    Departamento de Presidencia, Igualdad, Función...                                       \n",
       "3                     Entitats municipals de Catalunya                                       \n",
       "4                     Entitats municipals de Catalunya                                       \n",
       "..                                                 ...                                       \n",
       "112        Departamento de Cultura, Deporte y Juventud                                       \n",
       "113  MANCOMUNIDAD DE SERVICIOS DE HUARTE Y DE ESTER...                                       \n",
       "114                Agencia Navarra para la Dependencia                                       \n",
       "115                Agencia Navarra para la Dependencia                                       \n",
       "116                                 Junta de Andalucía                                       \n",
       "\n",
       "      ContractFolderStatus - ProcurementProject - Name  ...  \\\n",
       "0    L'objecte del contracte és la renovació de tot...  ...   \n",
       "1    Obras de restauración hidromorfológica del río...  ...   \n",
       "2    Contrato del servicio de realización de labore...  ...   \n",
       "3    Obres de renovació de l'enllumenat públic a la...  ...   \n",
       "4    Subministre i la instal·lació fotovoltaica en ...  ...   \n",
       "..                                                 ...  ...   \n",
       "112  Apoyo a la gestión del patrimonio filmográfico...  ...   \n",
       "113  Asistencia técnica para la prestación del serv...  ...   \n",
       "114  Contrato de servicios de desinfección, desinse...  ...   \n",
       "115  Contrato del Servicio de Teleasistencia para l...  ...   \n",
       "116  2021/pa-44-4 servicio de mantenimiento integra...  ...   \n",
       "\n",
       "    ContractFolderStatus - LegalDocumentReference - Attachment - ExternalReference - URI  \\\n",
       "0                                                  NaN                                     \n",
       "1                                                  NaN                                     \n",
       "2                                                  NaN                                     \n",
       "3    https://contractaciopublica.gencat.cat/ecofin_...                                     \n",
       "4    https://contractaciopublica.gencat.cat/ecofin_...                                     \n",
       "..                                                 ...                                     \n",
       "112                                                NaN                                     \n",
       "113                                                NaN                                     \n",
       "114                                                NaN                                     \n",
       "115                                                NaN                                     \n",
       "116                                                NaN                                     \n",
       "\n",
       "    ContractFolderStatus - TechnicalDocumentReference - ID  \\\n",
       "0                                                  NaN       \n",
       "1                                                  NaN       \n",
       "2                                                  NaN       \n",
       "3                                                  NaN       \n",
       "4                  Enllac plec clausules tecniques.doc       \n",
       "..                                                 ...       \n",
       "112                                                NaN       \n",
       "113                                                NaN       \n",
       "114                                                NaN       \n",
       "115                                                NaN       \n",
       "116                                                NaN       \n",
       "\n",
       "    ContractFolderStatus - TechnicalDocumentReference - Attachment - ExternalReference - URI  \\\n",
       "0                                                  NaN                                         \n",
       "1                                                  NaN                                         \n",
       "2                                                  NaN                                         \n",
       "3                                                  NaN                                         \n",
       "4    https://contractaciopublica.gencat.cat/ecofin_...                                         \n",
       "..                                                 ...                                         \n",
       "112                                                NaN                                         \n",
       "113                                                NaN                                         \n",
       "114                                                NaN                                         \n",
       "115                                                NaN                                         \n",
       "116                                                NaN                                         \n",
       "\n",
       "    ContractFolderStatus - ProcurementProject - PlannedPeriod - StartDate  \\\n",
       "0                                                  NaN                      \n",
       "1                                                  NaN                      \n",
       "2                                                  NaN                      \n",
       "3                                                  NaN                      \n",
       "4                                                  NaN                      \n",
       "..                                                 ...                      \n",
       "112                                                NaN                      \n",
       "113                                                NaN                      \n",
       "114                                         2022-01-01                      \n",
       "115                                                NaN                      \n",
       "116                                                NaN                      \n",
       "\n",
       "    ContractFolderStatus - ProcurementProject - PlannedPeriod - EndDate  \\\n",
       "0                                                  NaN                    \n",
       "1                                                  NaN                    \n",
       "2                                                  NaN                    \n",
       "3                                                  NaN                    \n",
       "4                                                  NaN                    \n",
       "..                                                 ...                    \n",
       "112                                                NaN                    \n",
       "113                                                NaN                    \n",
       "114                                         2022-12-31                    \n",
       "115                                                NaN                    \n",
       "116                                                NaN                    \n",
       "\n",
       "    ContractFolderStatus - LocatedContractingParty - Party - PartyIdentification - ID  \\\n",
       "0                                                  NaN                                  \n",
       "1                                                  NaN                                  \n",
       "2                                                  NaN                                  \n",
       "3                                                  NaN                                  \n",
       "4                                                  NaN                                  \n",
       "..                                                 ...                                  \n",
       "112                                                NaN                                  \n",
       "113                                                NaN                                  \n",
       "114                                                NaN                                  \n",
       "115                                                NaN                                  \n",
       "116                                                NaN                                  \n",
       "\n",
       "    ContractFolderStatus - LocatedContractingParty - ParentLocatedParty - ParentLocatedParty - PartyName - Name  \\\n",
       "0                                                  NaN                                                            \n",
       "1                                                  NaN                                                            \n",
       "2                                                  NaN                                                            \n",
       "3                                                  NaN                                                            \n",
       "4                                                  NaN                                                            \n",
       "..                                                 ...                                                            \n",
       "112                                                NaN                                                            \n",
       "113                                                NaN                                                            \n",
       "114                                                NaN                                                            \n",
       "115                                                NaN                                                            \n",
       "116                                                NaN                                                            \n",
       "\n",
       "    ContractFolderStatus - TenderingProcess - ParticipationRequestReceptionPeriod - EndDate  \\\n",
       "0                                                  NaN                                        \n",
       "1                                                  NaN                                        \n",
       "2                                                  NaN                                        \n",
       "3                                                  NaN                                        \n",
       "4                                                  NaN                                        \n",
       "..                                                 ...                                        \n",
       "112                                                NaN                                        \n",
       "113                                                NaN                                        \n",
       "114                                                NaN                                        \n",
       "115                                                NaN                                        \n",
       "116                                                NaN                                        \n",
       "\n",
       "    ContractFolderStatus - TenderingProcess - ParticipationRequestReceptionPeriod - EndTime  \\\n",
       "0                                                  NaN                                        \n",
       "1                                                  NaN                                        \n",
       "2                                                  NaN                                        \n",
       "3                                                  NaN                                        \n",
       "4                                                  NaN                                        \n",
       "..                                                 ...                                        \n",
       "112                                                NaN                                        \n",
       "113                                                NaN                                        \n",
       "114                                                NaN                                        \n",
       "115                                                NaN                                        \n",
       "116                                                NaN                                        \n",
       "\n",
       "    ContractFolderStatus - TenderResult - AwardedTenderedProject - ProcurementProjectLotID  \n",
       "0                                                  NaN                                      \n",
       "1                                                  NaN                                      \n",
       "2                                                  NaN                                      \n",
       "3                                                  NaN                                      \n",
       "4                                                  NaN                                      \n",
       "..                                                 ...                                      \n",
       "112                                                NaN                                      \n",
       "113                                                NaN                                      \n",
       "114                                                NaN                                      \n",
       "115                                                NaN                                      \n",
       "116                                                NaN                                      \n",
       "\n",
       "[117 rows x 38 columns]"
      ]
     },
     "execution_count": null,
     "metadata": {},
     "output_type": "execute_result"
    }
   ],
   "source": [
    "df = to_df(xml_file)\n",
    "df"
   ]
  },
  {
   "cell_type": "markdown",
   "id": "0387008b-1638-4061-be06-5391365758be",
   "metadata": {},
   "source": [
    "A convenience function combining `to_df` and `post_process`"
   ]
  },
  {
   "cell_type": "code",
   "execution_count": null,
   "id": "7c85a6a2-f546-40e9-9a65-5487ffd948c9",
   "metadata": {},
   "outputs": [],
   "source": [
    "#| export\n",
    "def to_curated_df(input_file: str | pathlib.Path) -> pd.DataFrame:\n",
    "    \"\"\"\n",
    "    Reads, parses and tidies up an XML file into a `pd.DataFrame`.\n",
    "    \n",
    "    **Parameters**\n",
    "    \n",
    "    - input_file: str or Path\n",
    "    \n",
    "        Input file.\n",
    "    \n",
    "    **Returns**\n",
    "    \n",
    "    - out: pd.DataFrame\n",
    "    \n",
    "        A Pandas DataFrame with XML data.\n",
    "    \n",
    "    \"\"\"\n",
    "    \n",
    "    return sproc.postprocess.typecast_columns(to_df(input_file))"
   ]
  },
  {
   "cell_type": "code",
   "execution_count": null,
   "id": "d4d38ebf-6ca4-477e-8a4c-33edbfd45453",
   "metadata": {},
   "outputs": [
    {
     "data": {
      "text/html": [
       "<div>\n",
       "<style scoped>\n",
       "    .dataframe tbody tr th:only-of-type {\n",
       "        vertical-align: middle;\n",
       "    }\n",
       "\n",
       "    .dataframe tbody tr th {\n",
       "        vertical-align: top;\n",
       "    }\n",
       "\n",
       "    .dataframe thead th {\n",
       "        text-align: right;\n",
       "    }\n",
       "</style>\n",
       "<table border=\"1\" class=\"dataframe\">\n",
       "  <thead>\n",
       "    <tr style=\"text-align: right;\">\n",
       "      <th></th>\n",
       "      <th>id</th>\n",
       "      <th>summary</th>\n",
       "      <th>title</th>\n",
       "      <th>updated</th>\n",
       "      <th>ContractFolderStatus - ContractFolderID</th>\n",
       "      <th>ContractFolderStatus - ContractFolderStatusCode</th>\n",
       "      <th>ContractFolderStatus - LocatedContractingParty - BuyerProfileURIID</th>\n",
       "      <th>ContractFolderStatus - LocatedContractingParty - Party - PartyName - Name</th>\n",
       "      <th>ContractFolderStatus - LocatedContractingParty - ParentLocatedParty - PartyName - Name</th>\n",
       "      <th>ContractFolderStatus - ProcurementProject - Name</th>\n",
       "      <th>...</th>\n",
       "      <th>ContractFolderStatus - TechnicalDocumentReference - ID</th>\n",
       "      <th>ContractFolderStatus - TechnicalDocumentReference - Attachment - ExternalReference - URI</th>\n",
       "      <th>ContractFolderStatus - ProcurementProject - PlannedPeriod - StartDate</th>\n",
       "      <th>ContractFolderStatus - ProcurementProject - PlannedPeriod - EndDate</th>\n",
       "      <th>ContractFolderStatus - LocatedContractingParty - Party - PartyIdentification - ID</th>\n",
       "      <th>ContractFolderStatus - LocatedContractingParty - ParentLocatedParty - ParentLocatedParty - PartyName - Name</th>\n",
       "      <th>ContractFolderStatus - TenderingProcess - ParticipationRequestReceptionPeriod - EndDate</th>\n",
       "      <th>ContractFolderStatus - TenderingProcess - ParticipationRequestReceptionPeriod - EndTime</th>\n",
       "      <th>ContractFolderStatus - TenderResult - AwardedTenderedProject - ProcurementProjectLotID</th>\n",
       "      <th>ContractFolderStatus - TenderingProcess - TenderSubmissionDeadlinePeriod</th>\n",
       "    </tr>\n",
       "  </thead>\n",
       "  <tbody>\n",
       "    <tr>\n",
       "      <th>0</th>\n",
       "      <td>https://contrataciondelestado.es/sindicacion/P...</td>\n",
       "      <td>Id licitación: C. 2-2021; Órgano de Contrataci...</td>\n",
       "      <td>L'objecte del contracte és la renovació de tot...</td>\n",
       "      <td>2022-01-03 00:11:41.826000+00:00</td>\n",
       "      <td>C. 2-2021</td>\n",
       "      <td>ADJ</td>\n",
       "      <td>https://contractaciopublica.gencat.cat/ecofin_...</td>\n",
       "      <td>Ajuntament de Sant Ramon</td>\n",
       "      <td>Entitats municipals de Catalunya</td>\n",
       "      <td>L'objecte del contracte és la renovació de tot...</td>\n",
       "      <td>...</td>\n",
       "      <td>&lt;NA&gt;</td>\n",
       "      <td>&lt;NA&gt;</td>\n",
       "      <td>&lt;NA&gt;</td>\n",
       "      <td>&lt;NA&gt;</td>\n",
       "      <td>&lt;NA&gt;</td>\n",
       "      <td>&lt;NA&gt;</td>\n",
       "      <td>&lt;NA&gt;</td>\n",
       "      <td>&lt;NA&gt;</td>\n",
       "      <td>NaN</td>\n",
       "      <td>2021-12-17 14:00:00+00:00</td>\n",
       "    </tr>\n",
       "    <tr>\n",
       "      <th>1</th>\n",
       "      <td>https://contrataciondelestado.es/sindicacion/P...</td>\n",
       "      <td>Id licitación: 8128_3/2021; Órgano de Contrata...</td>\n",
       "      <td>Obras de restauración hidromorfológica del río...</td>\n",
       "      <td>2022-01-03 00:00:11.194000+00:00</td>\n",
       "      <td>8128_3/2021</td>\n",
       "      <td>PUB</td>\n",
       "      <td>&lt;NA&gt;</td>\n",
       "      <td>Pleno del Ayuntamiento</td>\n",
       "      <td>AYUNTAMIENTO DE MONREAL</td>\n",
       "      <td>Obras de restauración hidromorfológica del río...</td>\n",
       "      <td>...</td>\n",
       "      <td>&lt;NA&gt;</td>\n",
       "      <td>&lt;NA&gt;</td>\n",
       "      <td>&lt;NA&gt;</td>\n",
       "      <td>&lt;NA&gt;</td>\n",
       "      <td>&lt;NA&gt;</td>\n",
       "      <td>&lt;NA&gt;</td>\n",
       "      <td>&lt;NA&gt;</td>\n",
       "      <td>&lt;NA&gt;</td>\n",
       "      <td>NaN</td>\n",
       "      <td>2022-01-22 23:30:00+00:00</td>\n",
       "    </tr>\n",
       "    <tr>\n",
       "      <th>2</th>\n",
       "      <td>https://contrataciondelestado.es/sindicacion/P...</td>\n",
       "      <td>Id licitación: 1000_0005-CP01-2021-000063; Órg...</td>\n",
       "      <td>Contrato del servicio de realización de labore...</td>\n",
       "      <td>2022-01-03 00:00:10.399000+00:00</td>\n",
       "      <td>1000_0005-CP01-2021-000063</td>\n",
       "      <td>EV</td>\n",
       "      <td>&lt;NA&gt;</td>\n",
       "      <td>El Director General de Comunicación y Relacion...</td>\n",
       "      <td>Departamento de Presidencia, Igualdad, Función...</td>\n",
       "      <td>Contrato del servicio de realización de labore...</td>\n",
       "      <td>...</td>\n",
       "      <td>&lt;NA&gt;</td>\n",
       "      <td>&lt;NA&gt;</td>\n",
       "      <td>&lt;NA&gt;</td>\n",
       "      <td>&lt;NA&gt;</td>\n",
       "      <td>&lt;NA&gt;</td>\n",
       "      <td>&lt;NA&gt;</td>\n",
       "      <td>&lt;NA&gt;</td>\n",
       "      <td>&lt;NA&gt;</td>\n",
       "      <td>NaN</td>\n",
       "      <td>NaT</td>\n",
       "    </tr>\n",
       "    <tr>\n",
       "      <th>3</th>\n",
       "      <td>https://contrataciondelestado.es/sindicacion/P...</td>\n",
       "      <td>Id licitación: 1379/2020 4738; Órgano de Contr...</td>\n",
       "      <td>Obres de renovació de l'enllumenat públic a la...</td>\n",
       "      <td>2022-01-02 23:11:40.740000+00:00</td>\n",
       "      <td>1379/2020 4738</td>\n",
       "      <td>EV</td>\n",
       "      <td>https://contractaciopublica.gencat.cat/ecofin_...</td>\n",
       "      <td>Ajuntament de Canet de Mar</td>\n",
       "      <td>Entitats municipals de Catalunya</td>\n",
       "      <td>Obres de renovació de l'enllumenat públic a la...</td>\n",
       "      <td>...</td>\n",
       "      <td>&lt;NA&gt;</td>\n",
       "      <td>&lt;NA&gt;</td>\n",
       "      <td>&lt;NA&gt;</td>\n",
       "      <td>&lt;NA&gt;</td>\n",
       "      <td>&lt;NA&gt;</td>\n",
       "      <td>&lt;NA&gt;</td>\n",
       "      <td>&lt;NA&gt;</td>\n",
       "      <td>&lt;NA&gt;</td>\n",
       "      <td>NaN</td>\n",
       "      <td>2022-01-02 23:59:00+00:00</td>\n",
       "    </tr>\n",
       "    <tr>\n",
       "      <th>4</th>\n",
       "      <td>https://contrataciondelestado.es/sindicacion/P...</td>\n",
       "      <td>Id licitación: 2021-44; Órgano de Contratación...</td>\n",
       "      <td>Subministre i la instal·lació fotovoltaica en ...</td>\n",
       "      <td>2022-01-02 23:11:40.696000+00:00</td>\n",
       "      <td>2021-44</td>\n",
       "      <td>EV</td>\n",
       "      <td>https://contractaciopublica.gencat.cat/ecofin_...</td>\n",
       "      <td>Ajuntament de Valls</td>\n",
       "      <td>Entitats municipals de Catalunya</td>\n",
       "      <td>Subministre i la instal·lació fotovoltaica en ...</td>\n",
       "      <td>...</td>\n",
       "      <td>Enllac plec clausules tecniques.doc</td>\n",
       "      <td>https://contractaciopublica.gencat.cat/ecofin_...</td>\n",
       "      <td>&lt;NA&gt;</td>\n",
       "      <td>&lt;NA&gt;</td>\n",
       "      <td>&lt;NA&gt;</td>\n",
       "      <td>&lt;NA&gt;</td>\n",
       "      <td>&lt;NA&gt;</td>\n",
       "      <td>&lt;NA&gt;</td>\n",
       "      <td>NaN</td>\n",
       "      <td>2022-01-02 23:59:00+00:00</td>\n",
       "    </tr>\n",
       "  </tbody>\n",
       "</table>\n",
       "<p>5 rows × 39 columns</p>\n",
       "</div>"
      ],
      "text/plain": [
       "                                                  id  \\\n",
       "0  https://contrataciondelestado.es/sindicacion/P...   \n",
       "1  https://contrataciondelestado.es/sindicacion/P...   \n",
       "2  https://contrataciondelestado.es/sindicacion/P...   \n",
       "3  https://contrataciondelestado.es/sindicacion/P...   \n",
       "4  https://contrataciondelestado.es/sindicacion/P...   \n",
       "\n",
       "                                             summary  \\\n",
       "0  Id licitación: C. 2-2021; Órgano de Contrataci...   \n",
       "1  Id licitación: 8128_3/2021; Órgano de Contrata...   \n",
       "2  Id licitación: 1000_0005-CP01-2021-000063; Órg...   \n",
       "3  Id licitación: 1379/2020 4738; Órgano de Contr...   \n",
       "4  Id licitación: 2021-44; Órgano de Contratación...   \n",
       "\n",
       "                                               title  \\\n",
       "0  L'objecte del contracte és la renovació de tot...   \n",
       "1  Obras de restauración hidromorfológica del río...   \n",
       "2  Contrato del servicio de realización de labore...   \n",
       "3  Obres de renovació de l'enllumenat públic a la...   \n",
       "4  Subministre i la instal·lació fotovoltaica en ...   \n",
       "\n",
       "                           updated ContractFolderStatus - ContractFolderID  \\\n",
       "0 2022-01-03 00:11:41.826000+00:00                               C. 2-2021   \n",
       "1 2022-01-03 00:00:11.194000+00:00                             8128_3/2021   \n",
       "2 2022-01-03 00:00:10.399000+00:00              1000_0005-CP01-2021-000063   \n",
       "3 2022-01-02 23:11:40.740000+00:00                          1379/2020 4738   \n",
       "4 2022-01-02 23:11:40.696000+00:00                                 2021-44   \n",
       "\n",
       "  ContractFolderStatus - ContractFolderStatusCode  \\\n",
       "0                                             ADJ   \n",
       "1                                             PUB   \n",
       "2                                              EV   \n",
       "3                                              EV   \n",
       "4                                              EV   \n",
       "\n",
       "  ContractFolderStatus - LocatedContractingParty - BuyerProfileURIID  \\\n",
       "0  https://contractaciopublica.gencat.cat/ecofin_...                   \n",
       "1                                               <NA>                   \n",
       "2                                               <NA>                   \n",
       "3  https://contractaciopublica.gencat.cat/ecofin_...                   \n",
       "4  https://contractaciopublica.gencat.cat/ecofin_...                   \n",
       "\n",
       "  ContractFolderStatus - LocatedContractingParty - Party - PartyName - Name  \\\n",
       "0                           Ajuntament de Sant Ramon                          \n",
       "1                             Pleno del Ayuntamiento                          \n",
       "2  El Director General de Comunicación y Relacion...                          \n",
       "3                         Ajuntament de Canet de Mar                          \n",
       "4                                Ajuntament de Valls                          \n",
       "\n",
       "  ContractFolderStatus - LocatedContractingParty - ParentLocatedParty - PartyName - Name  \\\n",
       "0                   Entitats municipals de Catalunya                                       \n",
       "1                            AYUNTAMIENTO DE MONREAL                                       \n",
       "2  Departamento de Presidencia, Igualdad, Función...                                       \n",
       "3                   Entitats municipals de Catalunya                                       \n",
       "4                   Entitats municipals de Catalunya                                       \n",
       "\n",
       "    ContractFolderStatus - ProcurementProject - Name  ...  \\\n",
       "0  L'objecte del contracte és la renovació de tot...  ...   \n",
       "1  Obras de restauración hidromorfológica del río...  ...   \n",
       "2  Contrato del servicio de realización de labore...  ...   \n",
       "3  Obres de renovació de l'enllumenat públic a la...  ...   \n",
       "4  Subministre i la instal·lació fotovoltaica en ...  ...   \n",
       "\n",
       "   ContractFolderStatus - TechnicalDocumentReference - ID  \\\n",
       "0                                               <NA>        \n",
       "1                                               <NA>        \n",
       "2                                               <NA>        \n",
       "3                                               <NA>        \n",
       "4                Enllac plec clausules tecniques.doc        \n",
       "\n",
       "   ContractFolderStatus - TechnicalDocumentReference - Attachment - ExternalReference - URI  \\\n",
       "0                                               <NA>                                          \n",
       "1                                               <NA>                                          \n",
       "2                                               <NA>                                          \n",
       "3                                               <NA>                                          \n",
       "4  https://contractaciopublica.gencat.cat/ecofin_...                                          \n",
       "\n",
       "   ContractFolderStatus - ProcurementProject - PlannedPeriod - StartDate  \\\n",
       "0                                               <NA>                       \n",
       "1                                               <NA>                       \n",
       "2                                               <NA>                       \n",
       "3                                               <NA>                       \n",
       "4                                               <NA>                       \n",
       "\n",
       "  ContractFolderStatus - ProcurementProject - PlannedPeriod - EndDate  \\\n",
       "0                                               <NA>                    \n",
       "1                                               <NA>                    \n",
       "2                                               <NA>                    \n",
       "3                                               <NA>                    \n",
       "4                                               <NA>                    \n",
       "\n",
       "  ContractFolderStatus - LocatedContractingParty - Party - PartyIdentification - ID  \\\n",
       "0                                               <NA>                                  \n",
       "1                                               <NA>                                  \n",
       "2                                               <NA>                                  \n",
       "3                                               <NA>                                  \n",
       "4                                               <NA>                                  \n",
       "\n",
       "   ContractFolderStatus - LocatedContractingParty - ParentLocatedParty - ParentLocatedParty - PartyName - Name  \\\n",
       "0                                               <NA>                                                             \n",
       "1                                               <NA>                                                             \n",
       "2                                               <NA>                                                             \n",
       "3                                               <NA>                                                             \n",
       "4                                               <NA>                                                             \n",
       "\n",
       "  ContractFolderStatus - TenderingProcess - ParticipationRequestReceptionPeriod - EndDate  \\\n",
       "0                                               <NA>                                        \n",
       "1                                               <NA>                                        \n",
       "2                                               <NA>                                        \n",
       "3                                               <NA>                                        \n",
       "4                                               <NA>                                        \n",
       "\n",
       "  ContractFolderStatus - TenderingProcess - ParticipationRequestReceptionPeriod - EndTime  \\\n",
       "0                                               <NA>                                        \n",
       "1                                               <NA>                                        \n",
       "2                                               <NA>                                        \n",
       "3                                               <NA>                                        \n",
       "4                                               <NA>                                        \n",
       "\n",
       "  ContractFolderStatus - TenderResult - AwardedTenderedProject - ProcurementProjectLotID  \\\n",
       "0                                                NaN                                       \n",
       "1                                                NaN                                       \n",
       "2                                                NaN                                       \n",
       "3                                                NaN                                       \n",
       "4                                                NaN                                       \n",
       "\n",
       "  ContractFolderStatus - TenderingProcess - TenderSubmissionDeadlinePeriod  \n",
       "0                          2021-12-17 14:00:00+00:00                        \n",
       "1                          2022-01-22 23:30:00+00:00                        \n",
       "2                                                NaT                        \n",
       "3                          2022-01-02 23:59:00+00:00                        \n",
       "4                          2022-01-02 23:59:00+00:00                        \n",
       "\n",
       "[5 rows x 39 columns]"
      ]
     },
     "execution_count": null,
     "metadata": {},
     "output_type": "execute_result"
    }
   ],
   "source": [
    "tidy_df = to_curated_df(xml_file)\n",
    "tidy_df.head()"
   ]
  },
  {
   "cell_type": "markdown",
   "id": "c5267587-639a-4eba-a8c6-e78c34f76567",
   "metadata": {},
   "source": [
    "Some (post-)processing took place"
   ]
  },
  {
   "cell_type": "code",
   "execution_count": null,
   "id": "b01527b9-ca2d-4f7c-b6e4-53f044aefa3e",
   "metadata": {},
   "outputs": [
    {
     "data": {
      "text/plain": [
       "id                                                      string\n",
       "summary                                                 string\n",
       "title                                                   string\n",
       "updated                                    datetime64[ns, UTC]\n",
       "ContractFolderStatus - ContractFolderID                 string\n",
       "dtype: object"
      ]
     },
     "execution_count": null,
     "metadata": {},
     "output_type": "execute_result"
    }
   ],
   "source": [
    "tidy_df.dtypes[:5]"
   ]
  },
  {
   "cell_type": "markdown",
   "id": "40312ef3-b1ad-4963-b613-ba99bc6c5377",
   "metadata": {},
   "source": [
    "## Assorted"
   ]
  },
  {
   "cell_type": "markdown",
   "id": "f4e048ab-9f13-4d49-9c44-0c7068635f8d",
   "metadata": {},
   "source": [
    "A function to find the depth (inside the *XML*) of every column. Columns associated with *leafs* (0 depth) are not reported."
   ]
  },
  {
   "cell_type": "code",
   "execution_count": null,
   "id": "44beea02-6601-4938-95ef-7ad232d7a0c8",
   "metadata": {},
   "outputs": [],
   "source": [
    "#| export\n",
    "def columns_depth(df: pd.DataFrame) -> pd.Series:\n",
    "\n",
    "    n_nestings = df.columns.str.extractall(f'(\\\\S{sproc.structure.nested_tags_separator}\\\\S)')\n",
    "    n_nestings.index.names = ['column', 'match']\n",
    "    \n",
    "    return n_nestings[0].groupby('column').size()"
   ]
  },
  {
   "cell_type": "code",
   "execution_count": null,
   "id": "28a6569f-611a-42f3-a82c-b80abdcca80a",
   "metadata": {},
   "outputs": [
    {
     "data": {
      "text/plain": [
       "column\n",
       "4    1\n",
       "5    1\n",
       "6    2\n",
       "7    4\n",
       "8    4\n",
       "Name: 0, dtype: int64"
      ]
     },
     "execution_count": null,
     "metadata": {},
     "output_type": "execute_result"
    }
   ],
   "source": [
    "tidy_df_columns_depth = columns_depth(tidy_df)\n",
    "tidy_df_columns_depth.head()"
   ]
  },
  {
   "cell_type": "markdown",
   "id": "021a5261-b807-4eaa-b983-bbb977cc169b",
   "metadata": {},
   "source": [
    "## Robustness"
   ]
  },
  {
   "cell_type": "markdown",
   "id": "22e1c82c-7e28-44e6-931b-39ae470120bc",
   "metadata": {},
   "source": [
    "A (sample) file in that directory"
   ]
  },
  {
   "cell_type": "code",
   "execution_count": null,
   "id": "04aa0146-0a8c-4c95-8066-94bc365084d0",
   "metadata": {},
   "outputs": [
    {
     "data": {
      "text/plain": [
       "PosixPath('/home/manu/Sync/UC3M/proyectos/2022/nextProcurement/sproc/samples/PlataformasAgregadasSinMenores_20220104_030016_1_single.atom')"
      ]
     },
     "execution_count": null,
     "metadata": {},
     "output_type": "execute_result"
    }
   ],
   "source": [
    "xml_file_single = directory / 'PlataformasAgregadasSinMenores_20220104_030016_1_single.atom'\n",
    "assert xml_file_single.exists()\n",
    "xml_file_single"
   ]
  },
  {
   "cell_type": "code",
   "execution_count": null,
   "id": "5648684f-45e0-4614-a906-08ac81275204",
   "metadata": {},
   "outputs": [
    {
     "data": {
      "text/html": [
       "<div>\n",
       "<style scoped>\n",
       "    .dataframe tbody tr th:only-of-type {\n",
       "        vertical-align: middle;\n",
       "    }\n",
       "\n",
       "    .dataframe tbody tr th {\n",
       "        vertical-align: top;\n",
       "    }\n",
       "\n",
       "    .dataframe thead th {\n",
       "        text-align: right;\n",
       "    }\n",
       "</style>\n",
       "<table border=\"1\" class=\"dataframe\">\n",
       "  <thead>\n",
       "    <tr style=\"text-align: right;\">\n",
       "      <th></th>\n",
       "      <th>id</th>\n",
       "      <th>summary</th>\n",
       "      <th>title</th>\n",
       "      <th>updated</th>\n",
       "      <th>ContractFolderStatus - ContractFolderID</th>\n",
       "      <th>ContractFolderStatus - ContractFolderStatusCode</th>\n",
       "      <th>ContractFolderStatus - LocatedContractingParty - BuyerProfileURIID</th>\n",
       "      <th>ContractFolderStatus - LocatedContractingParty - Party - PartyName - Name</th>\n",
       "      <th>ContractFolderStatus - LocatedContractingParty - ParentLocatedParty - PartyName - Name</th>\n",
       "      <th>ContractFolderStatus - ProcurementProject - Name</th>\n",
       "      <th>...</th>\n",
       "      <th>ContractFolderStatus - TenderResult - ReceivedTenderQuantity</th>\n",
       "      <th>ContractFolderStatus - TenderResult - WinningParty - PartyIdentification - ID</th>\n",
       "      <th>ContractFolderStatus - TenderResult - WinningParty - PartyName - Name</th>\n",
       "      <th>ContractFolderStatus - TenderResult - AwardedTenderedProject - LegalMonetaryTotal - TaxExclusiveAmount</th>\n",
       "      <th>ContractFolderStatus - TenderingProcess - ProcedureCode</th>\n",
       "      <th>ContractFolderStatus - TenderingProcess - TenderSubmissionDeadlinePeriod - EndDate</th>\n",
       "      <th>ContractFolderStatus - TenderingProcess - TenderSubmissionDeadlinePeriod - EndTime</th>\n",
       "      <th>ContractFolderStatus - ValidNoticeInfo - NoticeTypeCode</th>\n",
       "      <th>ContractFolderStatus - ValidNoticeInfo - AdditionalPublicationStatus - PublicationMediaName</th>\n",
       "      <th>ContractFolderStatus - ValidNoticeInfo - AdditionalPublicationStatus - AdditionalPublicationDocumentReference - IssueDate</th>\n",
       "    </tr>\n",
       "  </thead>\n",
       "  <tbody>\n",
       "    <tr>\n",
       "      <th>0</th>\n",
       "      <td>https://contrataciondelestado.es/sindicacion/P...</td>\n",
       "      <td>Id licitación: C. 2-2021; Órgano de Contrataci...</td>\n",
       "      <td>L'objecte del contracte és la renovació de tot...</td>\n",
       "      <td>2022-01-03T01:11:41.826+01:00</td>\n",
       "      <td>C. 2-2021</td>\n",
       "      <td>ADJ</td>\n",
       "      <td>https://contractaciopublica.gencat.cat/ecofin_...</td>\n",
       "      <td>Ajuntament de Sant Ramon</td>\n",
       "      <td>Entitats municipals de Catalunya</td>\n",
       "      <td>L'objecte del contracte és la renovació de tot...</td>\n",
       "      <td>...</td>\n",
       "      <td>11</td>\n",
       "      <td>[[A28526275, A28526275 II]]</td>\n",
       "      <td>[[AERONAVAL DE CONSTRUCCIONES I INSTALACIONES ...</td>\n",
       "      <td>90078.51</td>\n",
       "      <td>9</td>\n",
       "      <td>2021-12-17</td>\n",
       "      <td>14:00:00</td>\n",
       "      <td>[[DOC_CN, DOC_CAN_ADJ]]</td>\n",
       "      <td>[[Perfil del contratante, Perfil del contratan...</td>\n",
       "      <td>[[2021-11-30, 2022-01-03]]</td>\n",
       "    </tr>\n",
       "  </tbody>\n",
       "</table>\n",
       "<p>1 rows × 27 columns</p>\n",
       "</div>"
      ],
      "text/plain": [
       "                                                  id  \\\n",
       "0  https://contrataciondelestado.es/sindicacion/P...   \n",
       "\n",
       "                                             summary  \\\n",
       "0  Id licitación: C. 2-2021; Órgano de Contrataci...   \n",
       "\n",
       "                                               title  \\\n",
       "0  L'objecte del contracte és la renovació de tot...   \n",
       "\n",
       "                         updated ContractFolderStatus - ContractFolderID  \\\n",
       "0  2022-01-03T01:11:41.826+01:00                               C. 2-2021   \n",
       "\n",
       "  ContractFolderStatus - ContractFolderStatusCode  \\\n",
       "0                                             ADJ   \n",
       "\n",
       "  ContractFolderStatus - LocatedContractingParty - BuyerProfileURIID  \\\n",
       "0  https://contractaciopublica.gencat.cat/ecofin_...                   \n",
       "\n",
       "  ContractFolderStatus - LocatedContractingParty - Party - PartyName - Name  \\\n",
       "0                           Ajuntament de Sant Ramon                          \n",
       "\n",
       "  ContractFolderStatus - LocatedContractingParty - ParentLocatedParty - PartyName - Name  \\\n",
       "0                   Entitats municipals de Catalunya                                       \n",
       "\n",
       "    ContractFolderStatus - ProcurementProject - Name  ...  \\\n",
       "0  L'objecte del contracte és la renovació de tot...  ...   \n",
       "\n",
       "  ContractFolderStatus - TenderResult - ReceivedTenderQuantity  \\\n",
       "0                                                 11             \n",
       "\n",
       "  ContractFolderStatus - TenderResult - WinningParty - PartyIdentification - ID  \\\n",
       "0                        [[A28526275, A28526275 II]]                              \n",
       "\n",
       "  ContractFolderStatus - TenderResult - WinningParty - PartyName - Name  \\\n",
       "0  [[AERONAVAL DE CONSTRUCCIONES I INSTALACIONES ...                      \n",
       "\n",
       "  ContractFolderStatus - TenderResult - AwardedTenderedProject - LegalMonetaryTotal - TaxExclusiveAmount  \\\n",
       "0                                           90078.51                                                       \n",
       "\n",
       "  ContractFolderStatus - TenderingProcess - ProcedureCode  \\\n",
       "0                                                  9        \n",
       "\n",
       "  ContractFolderStatus - TenderingProcess - TenderSubmissionDeadlinePeriod - EndDate  \\\n",
       "0                                         2021-12-17                                   \n",
       "\n",
       "  ContractFolderStatus - TenderingProcess - TenderSubmissionDeadlinePeriod - EndTime  \\\n",
       "0                                           14:00:00                                   \n",
       "\n",
       "  ContractFolderStatus - ValidNoticeInfo - NoticeTypeCode  \\\n",
       "0                            [[DOC_CN, DOC_CAN_ADJ]]        \n",
       "\n",
       "  ContractFolderStatus - ValidNoticeInfo - AdditionalPublicationStatus - PublicationMediaName  \\\n",
       "0  [[Perfil del contratante, Perfil del contratan...                                            \n",
       "\n",
       "  ContractFolderStatus - ValidNoticeInfo - AdditionalPublicationStatus - AdditionalPublicationDocumentReference - IssueDate  \n",
       "0                         [[2021-11-30, 2022-01-03]]                                                                         \n",
       "\n",
       "[1 rows x 27 columns]"
      ]
     },
     "execution_count": null,
     "metadata": {},
     "output_type": "execute_result"
    }
   ],
   "source": [
    "to_df(xml_file_single)"
   ]
  },
  {
   "cell_type": "code",
   "execution_count": null,
   "id": "4368053b-9a36-47de-91cf-6befa4618974",
   "metadata": {},
   "outputs": [],
   "source": [
    "#| hide\n",
    "from nbdev.doclinks import nbdev_export"
   ]
  },
  {
   "cell_type": "code",
   "execution_count": null,
   "id": "2a85cb7a-2dfe-46f8-b5cb-d5ac748252b8",
   "metadata": {},
   "outputs": [],
   "source": [
    "#| hide\n",
    "nbdev_export('10_xml.ipynb')"
   ]
  }
 ],
 "metadata": {
  "kernelspec": {
   "display_name": "Python 3 (ipykernel)",
   "language": "python",
   "name": "python3"
  }
 },
 "nbformat": 4,
 "nbformat_minor": 5
}
